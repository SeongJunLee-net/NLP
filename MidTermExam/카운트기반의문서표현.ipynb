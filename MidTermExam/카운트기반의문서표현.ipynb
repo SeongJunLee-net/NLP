{
 "cells": [
  {
   "cell_type": "markdown",
   "id": "0ea8b9b9",
   "metadata": {},
   "source": [
    "# 카운트 기반의 문서표현\n",
    "* 카운트 기반의 문서표현은 딥러닝 기법이 나오기전에 단어의 통계를 이용해서 문서의 내용을 이해하고자 했던 시도이다.\n",
    "* 일단 텍스트 마이닝을 하기 위해서는 우리는 단 하나의 문서나 문장에 대해서 수행하는 것이 아니고 여러 문서나 문장의 set에 대해서 수행을 한다.\n",
    "* 텍스트 마이닝을 수행하기 위해선 기본적으로 텍스트를 수치형태로 임베딩 하여야 하는데, 이를 위해서는 텍스트의 특성을 단어로 표현하고 특성이 갖는 값을 단어의 횟수로 표현한다는 것이 `BOW(Bag Of Words)`의 기본 아이디어이다.\n",
    "    * 가방에 들어있는 단어처럼 순서가 문장의 순서가 없어진다는 말이다.\n",
    "* 이때, 모든 문서나 문장에 들어가는 단어들을 하나의 corpus로 만든후 문서나 문장을 임베딩 하여야 하는데<br> 당연하게도 0이 많은 sparse vector가 될것 이다. 이를 텍스트 마이닝을 지원하는 패키지들은 효율적으로 처리하기 위해서 각자 나름의 방법을 사용하였다."
   ]
  },
  {
   "cell_type": "markdown",
   "id": "162ad0fd",
   "metadata": {},
   "source": [
    "# BOW기반의 카운트 벡터 생성\n",
    "* 실습데이터는 NLTK가 재공하는 movie_revies라는 corpus를 사용한다.\n",
    "* nltk에서 제공하는 corpus 데이터 set은 nltk.corpus.CorpusReader 클래스를 기반으로 한다.\n",
    "* movie_reviews는 nltk.corpus.CorpusReader의 인스턴스이다.\n",
    "    * 주요 함수들을 알아보면\n",
    "        * `fileids()`: 문서들의 id를 반환한다.(매개변수 categories를 사용하면 특정 카테고리의 문서들의 id만 가져올 수 있다.)\n",
    "        * `categories()`: 문서들의 분류. 즉, 라벨을 보여준다.\n",
    "        * `raw()`: 리뷰문서의 원문을 문자열의 리스트 형태로 반환한다.<br>(인수로 fileid를 주면 특정 문서에 대한 결과만을 가져올 수 있다.)\n",
    "        * `sents()`: 리뷰문서의 원문에 대해 NLTK의 sent_tokenize로 토큰화한 문장들을 word_tokenize로 토큰화한 결과를 반환한다.<br>(인수로 fileid를 주면 특정 문서에 대한 결과만을 가져올 수 있다.)\n",
    "            * 따라서 2차원으로 나온다.\n",
    "        * `words()`: 리뷰문서의 원문에 대해 word_tokenize로 토큰화한 결과를 반환한다.<br>(인수로 fileid를 주면 특정 문서에 대한 결과만을 가져올 수 있다.)\n",
    "            * 따라서 1차원으로 나온다.\n",
    "        *  `sents()`는 각 문장 별로 토큰화한 결과를 리턴하기 때문에 [:2]를 하면 두문장에 대한 word_tokenize결과가 나오고<br>`words()`는 전체 문서에 대해서 word_tokenize를 진행한 결과를 리턴한다."
   ]
  },
  {
   "cell_type": "code",
   "execution_count": 4,
   "id": "4e595e8b",
   "metadata": {},
   "outputs": [],
   "source": [
    "import nltk\n",
    "from nltk.corpus import movie_reviews"
   ]
  },
  {
   "cell_type": "code",
   "execution_count": 5,
   "id": "5af0d495",
   "metadata": {},
   "outputs": [
    {
     "name": "stdout",
     "output_type": "stream",
     "text": [
      "#review count: 2000\n",
      "#samples of file ids: ['neg/cv000_29416.txt', 'neg/cv001_19502.txt', 'neg/cv002_17424.txt', 'neg/cv003_12683.txt', 'neg/cv004_12641.txt', 'neg/cv005_29357.txt', 'neg/cv006_17022.txt', 'neg/cv007_4992.txt', 'neg/cv008_29326.txt', 'neg/cv009_29417.txt']\n"
     ]
    }
   ],
   "source": [
    "print('#review count:', len(movie_reviews.fileids()))\n",
    "print('#samples of file ids:', movie_reviews.fileids()[:10])"
   ]
  },
  {
   "cell_type": "code",
   "execution_count": 6,
   "id": "97d0bb1a",
   "metadata": {},
   "outputs": [
    {
     "data": {
      "text/plain": [
       "'neg/cv000_29416.txt'"
      ]
     },
     "execution_count": 6,
     "metadata": {},
     "output_type": "execute_result"
    }
   ],
   "source": [
    "fileid = movie_reviews.fileids()[0]\n",
    "fileid"
   ]
  },
  {
   "cell_type": "code",
   "execution_count": 7,
   "id": "af65eac1",
   "metadata": {},
   "outputs": [
    {
     "data": {
      "text/plain": [
       "'plot : two teen couples go to a church party , drink and then drive . \\nthey get into an accident . \\none of the guys dies , but his girlfriend continues to see him in her life , and has nightmares . \\nw'"
      ]
     },
     "execution_count": 7,
     "metadata": {},
     "output_type": "execute_result"
    }
   ],
   "source": [
    "movie_reviews.raw(fileid)[:200]"
   ]
  },
  {
   "cell_type": "code",
   "execution_count": 8,
   "id": "76a8a38f",
   "metadata": {},
   "outputs": [
    {
     "data": {
      "text/plain": [
       "[['plot',\n",
       "  ':',\n",
       "  'two',\n",
       "  'teen',\n",
       "  'couples',\n",
       "  'go',\n",
       "  'to',\n",
       "  'a',\n",
       "  'church',\n",
       "  'party',\n",
       "  ',',\n",
       "  'drink',\n",
       "  'and',\n",
       "  'then',\n",
       "  'drive',\n",
       "  '.'],\n",
       " ['they', 'get', 'into', 'an', 'accident', '.']]"
      ]
     },
     "execution_count": 8,
     "metadata": {},
     "output_type": "execute_result"
    }
   ],
   "source": [
    "movie_reviews.sents(fileid)[:2]"
   ]
  },
  {
   "cell_type": "code",
   "execution_count": 9,
   "id": "30c2f215",
   "metadata": {},
   "outputs": [
    {
     "data": {
      "text/plain": [
       "['plot', ':']"
      ]
     },
     "execution_count": 9,
     "metadata": {},
     "output_type": "execute_result"
    }
   ],
   "source": [
    "movie_reviews.words(fileid)[:2]"
   ]
  },
  {
   "cell_type": "code",
   "execution_count": 10,
   "id": "ef47d3d9",
   "metadata": {},
   "outputs": [
    {
     "name": "stdout",
     "output_type": "stream",
     "text": [
      "#review count: 2000\n",
      "#samples of file ids: ['neg/cv000_29416.txt', 'neg/cv001_19502.txt', 'neg/cv002_17424.txt', 'neg/cv003_12683.txt', 'neg/cv004_12641.txt', 'neg/cv005_29357.txt', 'neg/cv006_17022.txt', 'neg/cv007_4992.txt', 'neg/cv008_29326.txt', 'neg/cv009_29417.txt']\n",
      "#categories of reviews: ['neg', 'pos']\n",
      "#num of \"neg\" reviews: 1000\n",
      "#num of \"pos\" reviews: 1000\n",
      "#id of the first review: neg/cv000_29416.txt\n",
      "#first review content:\n",
      " plot : two teen couples go to a church party , drink and then drive . \n",
      "they get into an accident . \n",
      "one of the guys dies , but his girlfriend continues to see him in her life , and has nightmares . \n",
      "w\n",
      "\n",
      "#sentence tokenization result: ['plot : two teen couples go to a church party , drink and then drive .', 'they get into an accident .']\n",
      "#word tokenization result: ['plot', ':', 'two', 'teen', 'couples', 'go', 'to', 'a', 'church', 'party', ',', 'drink', 'and', 'then', 'drive', '.', 'they', 'get', 'into', 'an']\n"
     ]
    }
   ],
   "source": [
    "from nltk.corpus import movie_reviews\n",
    "from nltk.tokenize import sent_tokenize, word_tokenize\n",
    "\n",
    "print('#review count:', len(movie_reviews.fileids())) #영화 리뷰 문서의 id를 반환\n",
    "print('#samples of file ids:', movie_reviews.fileids()[:10]) #id를 10개까지만 출력\n",
    "print('#categories of reviews:', movie_reviews.categories()) # label이 리스트로써 반환, 즉 긍정인지 부정인지에 대한 분류\n",
    "print('#num of \"neg\" reviews:', len(movie_reviews.fileids(categories='neg'))) #label이 부정인 문서들의 id를 반환\n",
    "print('#num of \"pos\" reviews:', len(movie_reviews.fileids(categories='pos'))) #label이 긍정인 문서들의 id를 반환\n",
    "fileid = movie_reviews.fileids()[0] #첫번째 문서의 id를 반환\n",
    "print('#id of the first review:', fileid)\n",
    "print('#first review content:\\n', movie_reviews.raw(fileid)[:200]) #첫번째 문서의 내용을 200자까지만 출력\n",
    "# .raw를 이용해서 raw한 문자열을 만들어낸다.\n",
    "print()\n",
    "# 리스트를 반환\n",
    "print('#sentence tokenization result:', sent_tokenize(movie_reviews.raw(fileid))[:2]) #첫번째 문서를 sentence tokenize한 결과 중 앞 두 문장\n",
    "print('#word tokenization result:', word_tokenize(movie_reviews.raw(fileid))[:20]) #첫번째 문서를 word tokenize한 결과 중 앞 스무 단어"
   ]
  },
  {
   "cell_type": "markdown",
   "id": "483151e3",
   "metadata": {},
   "source": [
    "## BOW기반의 특성 벡터 추출과정\n",
    "준비물: `문서집합(말뭉치)`\n",
    "1. 토큰화, 불용어제거, 정규화, 품사태깅등의 각종 전처리\n",
    "2. 특성집합 생성\n",
    "3. 특성벡터 생성\n",
    "**설명**\n",
    "1. 각 문서에 대해 텍스트 전처리를 수행해 의미가 있는 최소 단위의 리스트로 변화한다.\n",
    "2. 특성 추출 대상이 되는 단어 집합, 즉 특성 집합을 구성한다.\n",
    "    * 이때, 말뭉치에 있는 모든 단어를 다 사용하는 것도 방법이 될 수 있으나 자신이 정한 기준에 따라 단어들을 선별할 수도 있다.<br> 예를 들어 단어에 대해 빈도를 계산하고, 빈도가 높은 상위단어 n개만 사용할 수 있다.\n",
    "3. 각 문서별로 특성 추출 대상 단어들에 대해 단어의 빈도를 계산해 특성벡터(카운트벡터)를 추출한다."
   ]
  },
  {
   "cell_type": "markdown",
   "id": "8d9c8d7a",
   "metadata": {},
   "source": [
    "### 1번 과정\n",
    "* 여기서는 전처리를 수행하지 않고 그대로 사용한다."
   ]
  },
  {
   "cell_type": "code",
   "execution_count": 11,
   "id": "155d8a44",
   "metadata": {
    "scrolled": true
   },
   "outputs": [
    {
     "data": {
      "text/plain": [
       "['plot',\n",
       " ':',\n",
       " 'two',\n",
       " 'teen',\n",
       " 'couples',\n",
       " 'go',\n",
       " 'to',\n",
       " 'a',\n",
       " 'church',\n",
       " 'party',\n",
       " ',',\n",
       " 'drink',\n",
       " 'and',\n",
       " 'then',\n",
       " 'drive',\n",
       " '.',\n",
       " 'they',\n",
       " 'get',\n",
       " 'into',\n",
       " 'an',\n",
       " 'accident',\n",
       " '.',\n",
       " 'one',\n",
       " 'of',\n",
       " 'the',\n",
       " 'guys',\n",
       " 'dies',\n",
       " ',',\n",
       " 'but',\n",
       " 'his',\n",
       " 'girlfriend',\n",
       " 'continues',\n",
       " 'to',\n",
       " 'see',\n",
       " 'him',\n",
       " 'in',\n",
       " 'her',\n",
       " 'life',\n",
       " ',',\n",
       " 'and',\n",
       " 'has',\n",
       " 'nightmares',\n",
       " '.',\n",
       " 'what',\n",
       " \"'\",\n",
       " 's',\n",
       " 'the',\n",
       " 'deal',\n",
       " '?',\n",
       " 'watch']"
      ]
     },
     "execution_count": 11,
     "metadata": {},
     "output_type": "execute_result"
    }
   ],
   "source": [
    "# 모든 fileid에 대해서 단어별로 토큰화된 결과를 가져온다.\n",
    "documents = [list(movie_reviews.words(fileid)) for fileid in movie_reviews.fileids()]\n",
    "documents[0][:50] # 첫번째 문서의 50개의 단어 추출"
   ]
  },
  {
   "cell_type": "markdown",
   "id": "b0ba388b",
   "metadata": {},
   "source": [
    "### 2번과정\n",
    "* 나만의 특성집합 구성을 위해 document들의 단어들의 빈도수를 조사해서 상위 1000개의 단어집합을 만든다."
   ]
  },
  {
   "cell_type": "code",
   "execution_count": 12,
   "id": "65c4b633",
   "metadata": {},
   "outputs": [
    {
     "name": "stdout",
     "output_type": "stream",
     "text": [
      "count of ,: 77717count of the: 76529count of .: 65876count of a: 38106count of and: 35576count of of: 34123count of to: 31937count of ': 30585count of is: 25195count of in: 21822"
     ]
    }
   ],
   "source": [
    "word_count = {}\n",
    "for document in documents:\n",
    "    for word in document:\n",
    "        word_count[word] = word_count.get(word,0)+1 # word 단어가 word_count에 있다면 value를 가져옴 없다면 0을사용\n",
    "sorted_features = sorted(word_count,key = word_count.get,reverse = True)\n",
    "# key에는 Lambda Function이 들어가고 Lambda Function이 적용된 것을 기준으로 정렬을 수행한다.\n",
    "# 반환값은 리스트이다.\n",
    "# 딕셔너리의 경우엔 Key값이 정렬되어 리스트로 반환된다.\n",
    "\n",
    "for word in sorted_features[:10]:\n",
    "    print(f\"count of {word}: {word_count[word]}\", end = '')"
   ]
  },
  {
   "cell_type": "code",
   "execution_count": 13,
   "id": "51fdb3e1",
   "metadata": {},
   "outputs": [
    {
     "data": {
      "text/plain": [
       "[',',\n",
       " 'the',\n",
       " '.',\n",
       " 'a',\n",
       " 'and',\n",
       " 'of',\n",
       " 'to',\n",
       " \"'\",\n",
       " 'is',\n",
       " 'in',\n",
       " 's',\n",
       " '\"',\n",
       " 'it',\n",
       " 'that',\n",
       " '-',\n",
       " ')',\n",
       " '(',\n",
       " 'as',\n",
       " 'with',\n",
       " 'for',\n",
       " 'his',\n",
       " 'this',\n",
       " 'film',\n",
       " 'i',\n",
       " 'he',\n",
       " 'but',\n",
       " 'on',\n",
       " 'are',\n",
       " 't',\n",
       " 'by',\n",
       " 'be',\n",
       " 'one',\n",
       " 'movie',\n",
       " 'an',\n",
       " 'who',\n",
       " 'not',\n",
       " 'you',\n",
       " 'from',\n",
       " 'at',\n",
       " 'was',\n",
       " 'have',\n",
       " 'they',\n",
       " 'has',\n",
       " 'her',\n",
       " 'all',\n",
       " '?',\n",
       " 'there',\n",
       " 'like',\n",
       " 'so',\n",
       " 'out',\n",
       " 'about',\n",
       " 'up',\n",
       " 'more',\n",
       " 'what',\n",
       " 'when',\n",
       " 'which',\n",
       " 'or',\n",
       " 'she',\n",
       " 'their',\n",
       " ':',\n",
       " 'some',\n",
       " 'just',\n",
       " 'can',\n",
       " 'if',\n",
       " 'we',\n",
       " 'him',\n",
       " 'into',\n",
       " 'even',\n",
       " 'only',\n",
       " 'than',\n",
       " 'no',\n",
       " 'good',\n",
       " 'time',\n",
       " 'most',\n",
       " 'its',\n",
       " 'will',\n",
       " 'story',\n",
       " 'would',\n",
       " 'been',\n",
       " 'much',\n",
       " 'character',\n",
       " 'also',\n",
       " 'get',\n",
       " 'other',\n",
       " 'do',\n",
       " 'two',\n",
       " 'well',\n",
       " 'them',\n",
       " 'very',\n",
       " 'characters',\n",
       " ';',\n",
       " 'first',\n",
       " '--',\n",
       " 'after',\n",
       " 'see',\n",
       " '!',\n",
       " 'way',\n",
       " 'because',\n",
       " 'make',\n",
       " 'life',\n",
       " 'off',\n",
       " 'too',\n",
       " 'any',\n",
       " 'does',\n",
       " 'really',\n",
       " 'had',\n",
       " 'while',\n",
       " 'films',\n",
       " 'how',\n",
       " 'plot',\n",
       " 'little',\n",
       " 'where',\n",
       " 'people',\n",
       " 'over',\n",
       " 'could',\n",
       " 'then',\n",
       " 'me',\n",
       " 'scene',\n",
       " 'man',\n",
       " 'bad',\n",
       " 'my',\n",
       " 'never',\n",
       " 'being',\n",
       " 'best',\n",
       " 'these',\n",
       " 'don',\n",
       " 'new',\n",
       " 'doesn',\n",
       " 'scenes',\n",
       " 'many',\n",
       " 'director',\n",
       " 'such',\n",
       " 'know',\n",
       " 'were',\n",
       " 'movies',\n",
       " 'through',\n",
       " 'here',\n",
       " 'action',\n",
       " 'great',\n",
       " 're',\n",
       " 'another',\n",
       " 'love',\n",
       " 'go',\n",
       " 'made',\n",
       " 'us',\n",
       " 'big',\n",
       " 'end',\n",
       " 'something',\n",
       " 'back',\n",
       " '*',\n",
       " 'still',\n",
       " 'world',\n",
       " 'seems',\n",
       " 'work',\n",
       " 'those',\n",
       " 'makes',\n",
       " 'now',\n",
       " 'before',\n",
       " 'however',\n",
       " 'between',\n",
       " 'few',\n",
       " '/',\n",
       " 'down',\n",
       " 'every',\n",
       " 'though',\n",
       " 'better',\n",
       " 'real',\n",
       " 'audience',\n",
       " 'enough',\n",
       " 'seen',\n",
       " 'take',\n",
       " 'around',\n",
       " 'both',\n",
       " 'going',\n",
       " 'year',\n",
       " 'performance',\n",
       " 'why',\n",
       " 'should',\n",
       " 'role',\n",
       " 'isn',\n",
       " 'same',\n",
       " 'old',\n",
       " 'gets',\n",
       " 'your',\n",
       " 'may',\n",
       " 'things',\n",
       " 'think',\n",
       " 'years',\n",
       " 'last',\n",
       " 'comedy',\n",
       " 'funny',\n",
       " 'actually',\n",
       " 've',\n",
       " 'long',\n",
       " 'look',\n",
       " 'almost',\n",
       " 'own',\n",
       " 'thing',\n",
       " 'fact',\n",
       " 'nothing',\n",
       " 'say',\n",
       " 'right',\n",
       " 'john',\n",
       " 'although',\n",
       " 'played',\n",
       " 'find',\n",
       " 'script',\n",
       " 'come',\n",
       " 'ever',\n",
       " 'cast',\n",
       " 'since',\n",
       " 'did',\n",
       " 'star',\n",
       " 'plays',\n",
       " 'young',\n",
       " 'show',\n",
       " 'comes',\n",
       " 'm',\n",
       " 'part',\n",
       " 'original',\n",
       " 'actors',\n",
       " 'screen',\n",
       " 'without',\n",
       " 'again',\n",
       " 'acting',\n",
       " 'three',\n",
       " 'day',\n",
       " 'each',\n",
       " 'point',\n",
       " 'lot',\n",
       " 'least',\n",
       " 'takes',\n",
       " 'guy',\n",
       " 'quite',\n",
       " 'himself',\n",
       " 'away',\n",
       " 'during',\n",
       " 'family',\n",
       " 'effects',\n",
       " 'course',\n",
       " 'goes',\n",
       " 'minutes',\n",
       " 'interesting',\n",
       " 'might',\n",
       " 'far',\n",
       " 'high',\n",
       " 'rather',\n",
       " 'once',\n",
       " 'must',\n",
       " 'anything',\n",
       " 'place',\n",
       " 'set',\n",
       " 'yet',\n",
       " 'watch',\n",
       " 'd',\n",
       " 'making',\n",
       " 'our',\n",
       " 'wife',\n",
       " 'hard',\n",
       " 'always',\n",
       " 'fun',\n",
       " 'didn',\n",
       " 'll',\n",
       " 'seem',\n",
       " 'special',\n",
       " 'bit',\n",
       " 'times',\n",
       " 'trying',\n",
       " 'hollywood',\n",
       " 'instead',\n",
       " 'give',\n",
       " 'want',\n",
       " 'picture',\n",
       " 'kind',\n",
       " 'american',\n",
       " 'job',\n",
       " 'sense',\n",
       " 'woman',\n",
       " 'home',\n",
       " 'having',\n",
       " 'series',\n",
       " 'actor',\n",
       " 'probably',\n",
       " 'help',\n",
       " 'half',\n",
       " 'along',\n",
       " 'men',\n",
       " 'everything',\n",
       " 'pretty',\n",
       " 'becomes',\n",
       " 'sure',\n",
       " 'black',\n",
       " 'together',\n",
       " 'dialogue',\n",
       " 'money',\n",
       " 'become',\n",
       " 'gives',\n",
       " 'given',\n",
       " 'looking',\n",
       " 'whole',\n",
       " 'watching',\n",
       " 'father',\n",
       " '`',\n",
       " 'feel',\n",
       " 'everyone',\n",
       " 'music',\n",
       " 'wants',\n",
       " 'sex',\n",
       " 'less',\n",
       " 'done',\n",
       " 'horror',\n",
       " 'got',\n",
       " 'death',\n",
       " 'perhaps',\n",
       " 'city',\n",
       " 'next',\n",
       " 'especially',\n",
       " 'play',\n",
       " 'girl',\n",
       " 'mind',\n",
       " '10',\n",
       " 'moments',\n",
       " 'looks',\n",
       " 'completely',\n",
       " '2',\n",
       " 'reason',\n",
       " 'mother',\n",
       " 'whose',\n",
       " 'line',\n",
       " 'night',\n",
       " 'human',\n",
       " 'until',\n",
       " 'rest',\n",
       " 'performances',\n",
       " 'different',\n",
       " 'evil',\n",
       " 'small',\n",
       " 'james',\n",
       " 'simply',\n",
       " 'couple',\n",
       " 'put',\n",
       " 'let',\n",
       " 'anyone',\n",
       " 'ending',\n",
       " 'case',\n",
       " 'several',\n",
       " 'dead',\n",
       " 'michael',\n",
       " 'left',\n",
       " 'thought',\n",
       " 'school',\n",
       " 'shows',\n",
       " 'humor',\n",
       " 'true',\n",
       " 'lost',\n",
       " 'written',\n",
       " 'itself',\n",
       " 'friend',\n",
       " 'entire',\n",
       " 'getting',\n",
       " 'town',\n",
       " 'turns',\n",
       " 'soon',\n",
       " 'someone',\n",
       " 'second',\n",
       " 'main',\n",
       " 'stars',\n",
       " 'found',\n",
       " 'use',\n",
       " 'problem',\n",
       " 'friends',\n",
       " 'tv',\n",
       " 'top',\n",
       " 'name',\n",
       " 'begins',\n",
       " 'called',\n",
       " 'based',\n",
       " 'comic',\n",
       " 'david',\n",
       " 'head',\n",
       " 'else',\n",
       " 'idea',\n",
       " 'either',\n",
       " 'wrong',\n",
       " 'unfortunately',\n",
       " 'later',\n",
       " 'final',\n",
       " 'hand',\n",
       " 'alien',\n",
       " 'house',\n",
       " 'group',\n",
       " 'full',\n",
       " 'used',\n",
       " 'tries',\n",
       " 'often',\n",
       " 'against',\n",
       " 'war',\n",
       " 'sequence',\n",
       " 'keep',\n",
       " 'turn',\n",
       " 'playing',\n",
       " 'boy',\n",
       " 'behind',\n",
       " 'named',\n",
       " 'certainly',\n",
       " 'live',\n",
       " 'believe',\n",
       " 'under',\n",
       " 'works',\n",
       " 'relationship',\n",
       " 'face',\n",
       " 'hour',\n",
       " 'run',\n",
       " 'style',\n",
       " 'said',\n",
       " 'despite',\n",
       " 'person',\n",
       " 'finally',\n",
       " 'shot',\n",
       " 'book',\n",
       " 'doing',\n",
       " 'tell',\n",
       " 'maybe',\n",
       " 'nice',\n",
       " 'son',\n",
       " 'perfect',\n",
       " 'side',\n",
       " 'seeing',\n",
       " 'able',\n",
       " 'finds',\n",
       " 'children',\n",
       " 'days',\n",
       " 'past',\n",
       " 'summer',\n",
       " 'camera',\n",
       " 'won',\n",
       " 'including',\n",
       " 'mr',\n",
       " 'kids',\n",
       " 'lives',\n",
       " 'directed',\n",
       " 'moment',\n",
       " 'game',\n",
       " 'running',\n",
       " 'fight',\n",
       " 'supposed',\n",
       " 'video',\n",
       " 'car',\n",
       " 'matter',\n",
       " 'kevin',\n",
       " 'joe',\n",
       " 'lines',\n",
       " 'worth',\n",
       " '=',\n",
       " 'daughter',\n",
       " 'earth',\n",
       " 'starts',\n",
       " 'need',\n",
       " 'entertaining',\n",
       " 'white',\n",
       " 'start',\n",
       " 'writer',\n",
       " 'dark',\n",
       " 'short',\n",
       " 'self',\n",
       " 'worst',\n",
       " 'nearly',\n",
       " 'opening',\n",
       " 'try',\n",
       " 'upon',\n",
       " 'care',\n",
       " 'early',\n",
       " 'violence',\n",
       " 'throughout',\n",
       " 'team',\n",
       " 'production',\n",
       " 'example',\n",
       " 'beautiful',\n",
       " 'title',\n",
       " 'exactly',\n",
       " 'jack',\n",
       " 'review',\n",
       " 'major',\n",
       " 'drama',\n",
       " '&',\n",
       " 'problems',\n",
       " 'sequences',\n",
       " 'obvious',\n",
       " 'version',\n",
       " 'screenplay',\n",
       " 'known',\n",
       " 'killer',\n",
       " 'wasn',\n",
       " 'robert',\n",
       " 'disney',\n",
       " 'already',\n",
       " 'close',\n",
       " 'classic',\n",
       " 'others',\n",
       " 'hit',\n",
       " 'kill',\n",
       " 'deep',\n",
       " 'five',\n",
       " 'order',\n",
       " 'act',\n",
       " 'simple',\n",
       " 'fine',\n",
       " 'themselves',\n",
       " 'heart',\n",
       " 'roles',\n",
       " 'jackie',\n",
       " 'direction',\n",
       " 'eyes',\n",
       " 'four',\n",
       " 'question',\n",
       " 'sort',\n",
       " 'sometimes',\n",
       " 'knows',\n",
       " 'supporting',\n",
       " 'coming',\n",
       " 'voice',\n",
       " 'women',\n",
       " 'truly',\n",
       " 'save',\n",
       " 'jokes',\n",
       " 'computer',\n",
       " 'child',\n",
       " 'o',\n",
       " 'boring',\n",
       " 'tom',\n",
       " 'level',\n",
       " '1',\n",
       " 'body',\n",
       " 'guys',\n",
       " 'genre',\n",
       " 'brother',\n",
       " 'strong',\n",
       " 'stop',\n",
       " 'room',\n",
       " 'space',\n",
       " 'lee',\n",
       " 'ends',\n",
       " 'beginning',\n",
       " 'ship',\n",
       " 'york',\n",
       " 'attempt',\n",
       " 'thriller',\n",
       " 'scream',\n",
       " 'peter',\n",
       " 'aren',\n",
       " 'husband',\n",
       " 'fiction',\n",
       " 'happens',\n",
       " 'hero',\n",
       " 'novel',\n",
       " 'note',\n",
       " 'hope',\n",
       " 'king',\n",
       " 'yes',\n",
       " 'says',\n",
       " 'tells',\n",
       " 'quickly',\n",
       " 'romantic',\n",
       " 'dog',\n",
       " 'oscar',\n",
       " 'stupid',\n",
       " 'possible',\n",
       " 'saw',\n",
       " 'lead',\n",
       " 'career',\n",
       " 'murder',\n",
       " 'extremely',\n",
       " 'manages',\n",
       " 'god',\n",
       " 'mostly',\n",
       " 'wonder',\n",
       " 'particularly',\n",
       " 'future',\n",
       " 'fans',\n",
       " 'sound',\n",
       " 'worse',\n",
       " 'piece',\n",
       " 'involving',\n",
       " 'de',\n",
       " 'appears',\n",
       " 'planet',\n",
       " 'paul',\n",
       " 'involved',\n",
       " 'mean',\n",
       " 'none',\n",
       " 'taking',\n",
       " 'hours',\n",
       " 'laugh',\n",
       " 'police',\n",
       " 'sets',\n",
       " 'attention',\n",
       " 'co',\n",
       " 'hell',\n",
       " 'eventually',\n",
       " 'single',\n",
       " 'fall',\n",
       " 'falls',\n",
       " 'material',\n",
       " 'emotional',\n",
       " 'power',\n",
       " 'late',\n",
       " 'lack',\n",
       " 'dr',\n",
       " 'van',\n",
       " 'result',\n",
       " 'elements',\n",
       " 'meet',\n",
       " 'smith',\n",
       " 'science',\n",
       " 'experience',\n",
       " 'bring',\n",
       " 'wild',\n",
       " 'living',\n",
       " 'theater',\n",
       " 'interest',\n",
       " 'leads',\n",
       " 'word',\n",
       " 'feature',\n",
       " 'battle',\n",
       " 'girls',\n",
       " 'alone',\n",
       " 'obviously',\n",
       " 'george',\n",
       " 'within',\n",
       " 'usually',\n",
       " 'enjoy',\n",
       " 'guess',\n",
       " 'among',\n",
       " 'taken',\n",
       " 'feeling',\n",
       " 'laughs',\n",
       " 'aliens',\n",
       " 'talk',\n",
       " 'chance',\n",
       " 'talent',\n",
       " '3',\n",
       " 'middle',\n",
       " 'number',\n",
       " 'easy',\n",
       " 'across',\n",
       " 'needs',\n",
       " 'attempts',\n",
       " 'happen',\n",
       " 'television',\n",
       " 'chris',\n",
       " 'deal',\n",
       " 'poor',\n",
       " 'form',\n",
       " 'girlfriend',\n",
       " 'viewer',\n",
       " 'release',\n",
       " 'killed',\n",
       " 'forced',\n",
       " 'whether',\n",
       " 'wonderful',\n",
       " 'feels',\n",
       " 'oh',\n",
       " 'tale',\n",
       " 'serious',\n",
       " 'expect',\n",
       " 'except',\n",
       " 'light',\n",
       " 'success',\n",
       " 'features',\n",
       " 'premise',\n",
       " 'happy',\n",
       " 'words',\n",
       " 'leave',\n",
       " 'important',\n",
       " 'meets',\n",
       " 'history',\n",
       " 'giving',\n",
       " 'crew',\n",
       " 'type',\n",
       " 'call',\n",
       " 'turned',\n",
       " 'released',\n",
       " 'parents',\n",
       " 'art',\n",
       " 'impressive',\n",
       " 'mission',\n",
       " 'working',\n",
       " 'seemed',\n",
       " 'score',\n",
       " 'told',\n",
       " 'recent',\n",
       " 'robin',\n",
       " 'basically',\n",
       " 'entertainment',\n",
       " 'america',\n",
       " '$',\n",
       " 'surprise',\n",
       " 'apparently',\n",
       " 'easily',\n",
       " 'ryan',\n",
       " 'cool',\n",
       " 'stuff',\n",
       " 'cop',\n",
       " 'change',\n",
       " 'williams',\n",
       " 'crime',\n",
       " 'office',\n",
       " 'parts',\n",
       " 'somehow',\n",
       " 'sequel',\n",
       " 'william',\n",
       " 'cut',\n",
       " 'die',\n",
       " 'jones',\n",
       " 'credits',\n",
       " 'batman',\n",
       " 'suspense',\n",
       " 'brings',\n",
       " 'events',\n",
       " 'reality',\n",
       " 'whom',\n",
       " 'local',\n",
       " 'talking',\n",
       " 'difficult',\n",
       " 'using',\n",
       " 'went',\n",
       " 'writing',\n",
       " 'remember',\n",
       " 'near',\n",
       " 'straight',\n",
       " 'hilarious',\n",
       " 'ago',\n",
       " 'certain',\n",
       " 'ben',\n",
       " 'kid',\n",
       " 'wouldn',\n",
       " 'slow',\n",
       " 'blood',\n",
       " 'mystery',\n",
       " 'complete',\n",
       " 'red',\n",
       " 'popular',\n",
       " 'effective',\n",
       " 'am',\n",
       " 'fast',\n",
       " 'flick',\n",
       " 'due',\n",
       " 'runs',\n",
       " 'gone',\n",
       " 'return',\n",
       " 'presence',\n",
       " 'quality',\n",
       " 'dramatic',\n",
       " 'filmmakers',\n",
       " 'age',\n",
       " 'brothers',\n",
       " 'business',\n",
       " 'general',\n",
       " 'rock',\n",
       " 'sexual',\n",
       " 'present',\n",
       " 'surprisingly',\n",
       " 'anyway',\n",
       " 'uses',\n",
       " '4',\n",
       " 'personal',\n",
       " 'figure',\n",
       " 'smart',\n",
       " 'ways',\n",
       " 'decides',\n",
       " 'annoying',\n",
       " 'begin',\n",
       " 'couldn',\n",
       " 'somewhat',\n",
       " 'shots',\n",
       " 'rich',\n",
       " 'minute',\n",
       " 'law',\n",
       " 'previous',\n",
       " 'jim',\n",
       " 'successful',\n",
       " 'harry',\n",
       " 'water',\n",
       " 'similar',\n",
       " 'absolutely',\n",
       " 'motion',\n",
       " 'former',\n",
       " 'strange',\n",
       " 'came',\n",
       " 'follow',\n",
       " 'read',\n",
       " 'project',\n",
       " 'million',\n",
       " 'secret',\n",
       " 'starring',\n",
       " 'clear',\n",
       " 'familiar',\n",
       " 'romance',\n",
       " 'intelligent',\n",
       " 'third',\n",
       " 'excellent',\n",
       " 'amazing',\n",
       " 'party',\n",
       " 'budget',\n",
       " 'eye',\n",
       " 'actress',\n",
       " 'prison',\n",
       " 'latest',\n",
       " 'means',\n",
       " 'company',\n",
       " 'towards',\n",
       " 'predictable',\n",
       " 'powerful',\n",
       " 'nor',\n",
       " 'bob',\n",
       " 'beyond',\n",
       " 'visual',\n",
       " 'leaves',\n",
       " 'r',\n",
       " 'nature',\n",
       " 'following',\n",
       " 'villain',\n",
       " 'leaving',\n",
       " 'animated',\n",
       " 'low',\n",
       " 'myself',\n",
       " 'b',\n",
       " 'bill',\n",
       " 'sam',\n",
       " 'filled',\n",
       " 'wars',\n",
       " 'questions',\n",
       " 'cinema',\n",
       " 'message',\n",
       " 'box',\n",
       " 'moving',\n",
       " 'herself',\n",
       " 'country',\n",
       " 'usual',\n",
       " 'martin',\n",
       " 'definitely',\n",
       " 'add',\n",
       " 'large',\n",
       " 'clever',\n",
       " 'create',\n",
       " 'felt',\n",
       " 'stories',\n",
       " 'brilliant',\n",
       " 'ones',\n",
       " 'giant',\n",
       " 'situation',\n",
       " 'murphy',\n",
       " 'break',\n",
       " 'opens',\n",
       " 'scary',\n",
       " 'doubt',\n",
       " 'drug',\n",
       " 'bunch',\n",
       " 'thinking',\n",
       " 'solid',\n",
       " 'effect',\n",
       " 'learn',\n",
       " 'move',\n",
       " 'force',\n",
       " 'potential',\n",
       " 'seriously',\n",
       " 'follows',\n",
       " 'above',\n",
       " 'saying',\n",
       " 'huge',\n",
       " 'class',\n",
       " 'plan',\n",
       " 'agent',\n",
       " 'created',\n",
       " 'unlike',\n",
       " 'pay',\n",
       " 'non',\n",
       " 'married',\n",
       " 'mark',\n",
       " 'sweet',\n",
       " 'perfectly',\n",
       " 'ex',\n",
       " 'realize',\n",
       " 'audiences',\n",
       " 'took',\n",
       " 'decent',\n",
       " 'likely',\n",
       " 'dream',\n",
       " 'view',\n",
       " 'scott',\n",
       " 'subject',\n",
       " 'understand',\n",
       " 'happened',\n",
       " 'enjoyable',\n",
       " 'studio',\n",
       " 'immediately',\n",
       " 'open',\n",
       " 'e',\n",
       " 'points',\n",
       " 'heard',\n",
       " 'viewers',\n",
       " 'cameron',\n",
       " 'truman',\n",
       " 'bruce',\n",
       " 'frank',\n",
       " 'private',\n",
       " 'stay',\n",
       " 'fails',\n",
       " 'impossible',\n",
       " 'cold',\n",
       " 'richard',\n",
       " 'overall',\n",
       " 'merely',\n",
       " 'exciting',\n",
       " 'mess',\n",
       " 'chase',\n",
       " 'free',\n",
       " 'ten',\n",
       " 'neither',\n",
       " 'wanted',\n",
       " 'gun',\n",
       " 'appear',\n",
       " 'carter',\n",
       " 'escape',\n",
       " 'ultimately',\n",
       " '+',\n",
       " 'fan',\n",
       " 'inside',\n",
       " 'favorite',\n",
       " 'haven',\n",
       " 'modern',\n",
       " 'l',\n",
       " 'wedding',\n",
       " 'stone',\n",
       " 'trek',\n",
       " 'brought',\n",
       " 'trouble',\n",
       " 'otherwise',\n",
       " 'tim',\n",
       " '5',\n",
       " 'allen',\n",
       " 'bond',\n",
       " 'society',\n",
       " 'liked',\n",
       " 'dumb',\n",
       " 'musical',\n",
       " 'stand',\n",
       " 'political',\n",
       " 'various',\n",
       " 'talented',\n",
       " 'particular',\n",
       " 'west',\n",
       " 'state',\n",
       " 'keeps',\n",
       " 'english',\n",
       " 'silly',\n",
       " 'u',\n",
       " 'situations',\n",
       " 'park',\n",
       " 'teen',\n",
       " 'rating',\n",
       " 'slightly',\n",
       " 'steve',\n",
       " 'truth',\n",
       " 'air',\n",
       " 'element',\n",
       " 'joke',\n",
       " 'spend',\n",
       " 'key',\n",
       " 'biggest',\n",
       " 'members',\n",
       " 'effort',\n",
       " 'government',\n",
       " 'focus',\n",
       " 'eddie',\n",
       " 'soundtrack',\n",
       " 'hands',\n",
       " 'earlier',\n",
       " 'chan',\n",
       " 'purpose',\n",
       " 'today',\n",
       " 'showing',\n",
       " 'memorable',\n",
       " 'six',\n",
       " 'cannot',\n",
       " 'max',\n",
       " 'offers',\n",
       " 'rated',\n",
       " 'mars',\n",
       " 'heavy',\n",
       " 'totally',\n",
       " 'control',\n",
       " 'credit',\n",
       " 'fi',\n",
       " 'woody',\n",
       " 'ideas',\n",
       " 'sci',\n",
       " 'wait',\n",
       " 'sit',\n",
       " 'female',\n",
       " ...]"
      ]
     },
     "execution_count": 13,
     "metadata": {},
     "output_type": "execute_result"
    }
   ],
   "source": [
    "sorted_features"
   ]
  },
  {
   "cell_type": "markdown",
   "id": "d92a508b",
   "metadata": {},
   "source": [
    "#### 의미없는 단어가 빈도가 높아 보인다. \n",
    "* 이를 위해서 조건을 사용해 토큰화하고\n",
    "* 불용어를 제거해보자."
   ]
  },
  {
   "cell_type": "code",
   "execution_count": 29,
   "id": "06ad830a",
   "metadata": {},
   "outputs": [
    {
     "name": "stdout",
     "output_type": "stream",
     "text": [
      "43030\n"
     ]
    },
    {
     "data": {
      "text/plain": [
       "['film',\n",
       " 'one',\n",
       " 'movie',\n",
       " 'like',\n",
       " 'even',\n",
       " 'time',\n",
       " 'good',\n",
       " 'story',\n",
       " 'would',\n",
       " 'much']"
      ]
     },
     "execution_count": 29,
     "metadata": {},
     "output_type": "execute_result"
    }
   ],
   "source": [
    "from nltk.corpus import stopwords #일반적으로 분석대상이 아닌 단어들\n",
    "\n",
    "english_stops = set(stopwords.words('english')) #영어 불용어를 가져옴\n",
    "\n",
    "#words() 대신 raw()를 이용해 원문을 가져옴\n",
    "documents = [movie_reviews.raw(fileid) for fileid in movie_reviews.fileids()]\n",
    "\n",
    "# stopwords의 적용과 토큰화를 동시에 수행.\n",
    "# document를 단어 토큰화를 시킨다음에 불용어 및 길이를 체킹하여서 리스트로 생성한다.\n",
    "tokens = [[token for token in word_tokenize(doc) if token not in english_stops and len(token) > 2] for doc in documents]\n",
    "# 각문장의 단어가 들어가있는 2차원 리스트를 만들어야 한다 !!\n",
    "word_count = {}\n",
    "for text in tokens:\n",
    "    for word in text:\n",
    "        word_count[word] = word_count.get(word, 0) + 1\n",
    "\n",
    "sorted_features = sorted(word_count, key=word_count.get, reverse=True)\n",
    "\n",
    "print('num of features:', len(sorted_features))\n",
    "for word in sorted_features[:10]:\n",
    "    print(f\"count of '{word}': {word_count[word]}\", end=', ')"
   ]
  },
  {
   "cell_type": "markdown",
   "id": "bec67694",
   "metadata": {},
   "source": [
    "#### 이 특성들을 모두 사용하여도 좋지만, 상위 빈도수를 가지는 단어 천 개만 추출하여 최종 단어집합을 만들도록 하자"
   ]
  },
  {
   "cell_type": "code",
   "execution_count": 30,
   "id": "bf671821",
   "metadata": {},
   "outputs": [],
   "source": [
    "word_features = sorted_features[:1000]"
   ]
  },
  {
   "cell_type": "markdown",
   "id": "39f70c46",
   "metadata": {},
   "source": [
    "### 3번과정\n",
    "* 단어집합에 대해서 주어진 document를 카운트벡터로 만드는 함수를 정의해보자.\n",
    "* 단어집합을 주고 문장에서 단어의 갯수를 Count한 BOW를 단어집합에 대응시켜서 벡터를 생성한다."
   ]
  },
  {
   "cell_type": "code",
   "execution_count": 32,
   "id": "093079c2",
   "metadata": {},
   "outputs": [
    {
     "name": "stdout",
     "output_type": "stream",
     "text": [
      "[0, 2, 0, 1, 0]\n"
     ]
    }
   ],
   "source": [
    "def document_features(document,word_features):\n",
    "    word_count = {}\n",
    "    # document안에 있는 단어들의 빈도수 조사\n",
    "    for word in document:\n",
    "        word_count[word] = word_count.get(word,0)+1\n",
    "    # count vector 생성\n",
    "    features = []\n",
    "    for word in word_features: #word_features의 단어에 대해 계산된 빈도수를 feature에 추가\n",
    "        features.append(word_count.get(word,0)) #빈도가 없는 단어는 0을 입력\n",
    "    return features\n",
    "\n",
    "word_features_ex = ['one','two','teen','couples','solo']\n",
    "doc_ex = ['two','two','couples']\n",
    "print(document_features(doc_ex,word_features_ex))"
   ]
  },
  {
   "cell_type": "markdown",
   "id": "c52eb71d",
   "metadata": {},
   "source": [
    "#### 잘 작동하므로 전체 리뷰 집합에 대해 적용하고,  추출된 특성의 수와 첫째 리뷰 문서에 대한 특성 집합 중 앞부분 20개만 출력해본다."
   ]
  },
  {
   "cell_type": "code",
   "execution_count": 35,
   "id": "ab45fe10",
   "metadata": {},
   "outputs": [
    {
     "name": "stdout",
     "output_type": "stream",
     "text": [
      "(film: 5),(one: 3),(movie: 6),(like: 3),(even: 3),(time: 0),(good: 2),(story: 0),(would: 1),(much: 0),(also: 1),(get: 3),(character: 1),(two: 2),(well: 1),(first: 0),(characters: 1),(see: 2),(way: 3),(make: 5),"
     ]
    }
   ],
   "source": [
    "# 첫번째 문서의 단어토큰리스트 집합(word_tokenize)으로부터 단어토큰 리스트(하나의 문서)를 하나씩 집어넢음\n",
    "feature_sets = [document_features(d,word_features) for d in tokens] \n",
    "# 첫번째 문서의 벡터중에 20개에 대해서만 추출\n",
    "for i in range(20):\n",
    "    print(f\"({word_features[i]}: {feature_sets[0][i]})\",end = ',')"
   ]
  },
  {
   "cell_type": "markdown",
   "id": "2148978f",
   "metadata": {},
   "source": [
    "#### word_features는 전체 문서의 빈도수 기준 상위 1000개의 단어집합이기때문에 앞 부분에 비교적 빈도가 높은 것들이 많은 것을 확인 할 수 있다\n",
    "#### 추가로 뒤로가면 갈수록 빈도수가 0에 가까운 것이 많을 것이라고 예상 가능하다."
   ]
  },
  {
   "cell_type": "markdown",
   "id": "2bc454e6",
   "metadata": {},
   "source": [
    "## 사이킷런의 CountVectorizer를 이용한 카운트벡터 생성\n",
    "`sklearn`에는 이미지나 텍스트의 피쳐를 추출하는 도구들의 집합인 `feature_extraction`모듈을 지원하며 이 안에 `CountVectorizer`가 속해 있다.\n",
    "* `CountVectorizer`의 주요 매개변수(Parameter)\n",
    "    * `tokenizer`: 함수 형태로 외부 토크나이저를 지정한다. 지정하지 않으면 자체 토크나이저를 사용한다.<br>\n",
    "        * 한글의 경우에는 KoNLPy로 형태소 분석을 수행해야 하기 때문에 별도의 토크나이저가 필요하다\n",
    "    * `stop_words:` 리스트 형태로 불용어 사전을 지정한다. 'english'를 값으로 주면 자체 영어 불용어 사전을 사용한다.<br>\n",
    "    * `ngram_range`: (min_n,max_n)의 튜플 형태로 ngram의 법위를 지정한다. 기본값은 (0,1)이다.<br>\n",
    "    * `max_df`: 단어집합을 구성할때 여러 문서에 나타난 빈도가 max_df보다 클경우 제거한다.<br>\n",
    "    * `min_df`: 단어집합을 구성할때 여러 문서에 나타난 빈도가 min_df보다 작을경우 제거한다.<br>\n",
    "    * `max_features`: 최대 특성의 수를 지정하고 vocabulary를 지정하지 않을 경우 빈도수를 기준으로 정렬하여 max_features만큼의 특성을 이용해서 단어집합을 구성한다.\n",
    "        * vocabulary를 지정하지 않고 max_features를 사용하는 경우에는 알파벳순으로 정렬된다.\n",
    "    * `vocabulary`: 단어집합을 직접 제공한다.<br>\n",
    "    * `binary`: True일 경우 빈도수가 아닌 있는지(1) 없는지(0)을 기준으로 Count Vector를 생성한다.\n",
    "    \n",
    "<br>\n",
    "\n",
    "* `CountVectorizer`의 주요 메소드[집합에 주의하자]\n",
    "    * `fit(raw_documents)`: 인수로 주어진 **문서집합(리스트)**에 대해 토큰화와 단어집합을 만든다.\n",
    "        * 이 과정에서 인수로 사용된 `stopwords`, `max_df`,`min_df`, `max_features`등이 사용된다.\n",
    "    * `transform(raw_documents)`: fit과정에서 만든 단어집합을 사용하여 **raw_documents 집합(리스트)**을 count_vectors로 만든다.\n",
    "    * `fit_transform(raw_documents)`: raw_documents에 대해서 단어집합을 만든후 Count_vector까지 생성한다.\n",
    "    * `get_feature_names_out()`: CountVectorizer가 갖고 있는 단어집합을 반환한다."
   ]
  },
  {
   "cell_type": "code",
   "execution_count": null,
   "id": "8ebb8915",
   "metadata": {},
   "outputs": [],
   "source": [
    "# data준비 \n",
    "reviews = [movie_reviews.raw(fileid) for fileid in movie_reviews.fileids()]\n",
    "reviews[:2]"
   ]
  },
  {
   "cell_type": "code",
   "execution_count": 45,
   "id": "f04ec9ea",
   "metadata": {},
   "outputs": [
    {
     "name": "stdout",
     "output_type": "stream",
     "text": [
      "CountVectorizer(vocabulary=['film', 'one', 'movie', 'like', 'even', 'time',\n",
      "                            'good', 'story', 'would', 'much', 'also', 'get',\n",
      "                            'character', 'two', 'well', 'first', 'characters',\n",
      "                            'see', 'way', 'make', 'life', 'really', 'films',\n",
      "                            'plot', 'little', 'people', 'could', 'bad', 'scene',\n",
      "                            'never', ...])\n"
     ]
    }
   ],
   "source": [
    "from sklearn.feature_extraction.text import CountVectorizer\n",
    "cv = CountVectorizer(vocabulary = word_features)\n",
    "print(cv)"
   ]
  },
  {
   "cell_type": "code",
   "execution_count": 46,
   "id": "9b05bbbd",
   "metadata": {},
   "outputs": [
    {
     "data": {
      "text/plain": [
       "array(['film', 'one', 'movie', 'like', 'even', 'time', 'good', 'story',\n",
       "       'would', 'much', 'also', 'get', 'character', 'two', 'well',\n",
       "       'first', 'characters', 'see', 'way', 'make', 'life', 'really',\n",
       "       'films', 'plot', 'little', 'people', 'could', 'bad', 'scene',\n",
       "       'never', 'best', 'man', 'new', 'scenes', 'many', 'know', 'movies',\n",
       "       'director', 'action', \"he's\", 'great', 'another', 'love', 'made',\n",
       "       'big', 'end', 'back', 'something', 'still', 'seems', 'work',\n",
       "       'makes', \"there's\", 'world', 'however', 'every', 'though',\n",
       "       'better', 'real', 'seen', 'enough', 'take', 'around', 'going',\n",
       "       'performance', 'audience', 'role', 'old', 'gets', 'may', 'things',\n",
       "       'think', 'years', 'last', 'actually', 'comedy', 'look', 'funny',\n",
       "       'long', 'almost', 'thing', 'fact', 'nothing', 'say', 'right',\n",
       "       'although', 'played', 'find', \"that's\", 'john', 'come', 'ever',\n",
       "       'since', 'cast', 'script', 'year', 'plays', 'star', 'young',\n",
       "       'comes', 'show', 'part', 'screen', 'original', 'without', 'actors',\n",
       "       'acting', 'three', 'point', 'least', 'lot', 'takes', 'day',\n",
       "       'quite', 'away', 'effects', 'course', 'goes', \"can't\", 'minutes',\n",
       "       'guy', 'interesting', 'far', 'family', \"i'm\", 'might', 'high',\n",
       "       'rather', 'anything', 'must', 'place', 'set', 'yet', 'watch',\n",
       "       'making', 'always', 'hard', 'fun', \"film's\", 'seem', 'special',\n",
       "       'bit', 'times', 'wife', 'trying', 'instead', 'give', 'want',\n",
       "       'kind', 'american', 'job', 'sense', 'picture', 'home', 'probably',\n",
       "       'series', 'help', 'half', 'along', 'hollywood', 'pretty',\n",
       "       'becomes', 'everything', 'actor', 'woman', 'sure', 'together',\n",
       "       'men', 'black', 'dialogue', 'become', 'money', 'gives', 'given',\n",
       "       'looking', 'whole', 'watching', 'feel', 'music', 'wants', 'less',\n",
       "       'sex', 'done', 'got', 'horror', 'death', 'perhaps', 'next',\n",
       "       'especially', 'play', 'mind', 'moments', 'everyone', 'father',\n",
       "       'looks', 'city', 'completely', 'reason', 'whose', 'line',\n",
       "       'performances', 'different', 'rest', 'human', 'girl', 'small',\n",
       "       'simply', 'night', 'put', 'james', 'ending', 'couple', 'case',\n",
       "       'several', 'evil', \"they're\", 'left', 'thought', 'dead', 'anyone',\n",
       "       'michael', 'humor', 'shows', 'written', 'entire', 'true', 'lost',\n",
       "       'mother', 'getting', 'turns', 'soon', 'second', 'main', 'stars',\n",
       "       'found', 'use', 'school', 'problem', 'begins', 'friends', 'name',\n",
       "       'called', 'top', 'comic', 'based', 'idea', 'head', 'wrong', 'town',\n",
       "       'either', \"i've\", 'unfortunately', 'later', 'final', 'friend',\n",
       "       'someone', 'hand', 'alien', 'else', 'full', 'david', 'house',\n",
       "       'used', 'tries', 'often', 'group', 'war', 'sequence', 'keep',\n",
       "       'turn', 'playing', 'behind', 'named', 'certainly', 'live',\n",
       "       'believe', 'works', 'relationship', 'hour', 'face', 'style',\n",
       "       'said', 'despite', 'boy', 'finally', 'run', 'shot', 'tell', 'nice',\n",
       "       'maybe', 'book', 'perfect', 'side', 'seeing', 'able', 'finds',\n",
       "       'past', 'camera', 'person', 'including', 'days', 'lives',\n",
       "       'directed', 'running', 'fight', 'supposed', 'matter', 'moment',\n",
       "       'video', 'lines', 'car', 'worth', 'game', 'starts', 'need', 'son',\n",
       "       'entertaining', 'kids', 'start', 'summer', 'short', 'self',\n",
       "       'worst', 'nearly', 'white', 'dark', 'daughter', 'opening', 'try',\n",
       "       'upon', 'kevin', 'care', 'early', 'violence', 'throughout',\n",
       "       'writer', 'example', 'production', 'title', 'exactly', 'beautiful',\n",
       "       'earth', 'let', 'review', 'drama', 'major', 'problems',\n",
       "       'sequences', 'obvious', 'known', 'version', 'robert', 'joe',\n",
       "       'already', 'classic', 'screenplay', 'team', \"who's\", 'close',\n",
       "       'kill', 'others', 'hit', 'children', 'order', 'simple', 'fine',\n",
       "       'deep', 'direction', 'five', 'roles', 'act', 'four', 'eyes',\n",
       "       'sort', 'sometimes', 'question', 'knows', 'jack', 'supporting',\n",
       "       'coming', 'voice', 'heart', 'truly', 'save', 'jokes', 'computer',\n",
       "       'boring', 'level', 'killer', 'strong', 'stop', 'jackie', 'guys',\n",
       "       'room', 'genre', 'body', 'women', 'beginning', 'ends', 'space',\n",
       "       'attempt', 'thriller', 'tom', 'happens', 'fiction', 'note', 'yes',\n",
       "       'says', 'york', 'tells', 'quickly', 'novel', 'hope', 'romantic',\n",
       "       'stupid', 'possible', 'saw', 'peter', 'oscar', 'scream', 'lead',\n",
       "       'career', 'murder', 'hero', 'child', 'extremely', 'manages', 'lee',\n",
       "       'mostly', 'wonder', 'ship', 'particularly', 'dog', 'future',\n",
       "       'sound', 'worse', 'piece', 'fans', 'involving', 'appears',\n",
       "       'involved', 'mean', 'none', 'taking', \"we're\", 'brother', 'police',\n",
       "       'sets', 'attention', 'laugh', 'eventually', 'single', 'falls',\n",
       "       'emotional', 'late', 'hours', 'material', 'power', 'lack', 'fall',\n",
       "       'van', 'result', 'elements', 'planet', 'meet', 'science', 'bring',\n",
       "       'wild', 'living', 'hell', 'husband', 'experience', \"what's\",\n",
       "       'interest', 'theater', 'paul', 'leads', \"movie's\", 'word',\n",
       "       'feature', 'battle', 'obviously', 'alone', 'within', 'god',\n",
       "       'usually', 'enjoy', 'guess', 'among', 'feeling', 'laughs', 'taken',\n",
       "       'king', 'george', 'talk', 'chance', 'disney', 'talent', 'middle',\n",
       "       'easy', 'across', 'number', 'needs', 'attempts', 'happen', 'deal',\n",
       "       'poor', 'form', 'release', 'killed', 'forced', 'aliens', 'girls',\n",
       "       'whether', 'wonderful', 'feels', 'tale', 'serious', 'expect',\n",
       "       'except', 'light', 'success', 'features', 'premise', 'happy',\n",
       "       'television', 'leave', 'chris', 'important', 'meets', 'history',\n",
       "       'giving', 'type', 'words', 'call', 'turned', 'released', 'art',\n",
       "       'impressive', 'working', 'seemed', 'score', 'told', 'girlfriend',\n",
       "       'recent', 'mission', 'basically', 'entertainment', 'apparently',\n",
       "       'easily', 'crew', 'stuff', 'change', 'crime', 'office', 'surprise',\n",
       "       'cool', 'parts', 'somehow', 'parents', 'robin', 'cut', 'credits',\n",
       "       'brings', 'sequel', 'cop', 'suspense', 'events', 'die', 'reality',\n",
       "       'local', 'talking', 'difficult', 'using', 'went', 'writing',\n",
       "       'remember', 'near', 'ago', 'certain', 'hilarious', 'slow', 'blood',\n",
       "       'straight', 'ryan', 'complete', 'popular', 'effective', 'mystery',\n",
       "       'fast', 'william', 'due', 'runs', 'flick', 'gone', 'return', 'red',\n",
       "       'quality', 'smith', 'viewer', 'dramatic', 'ben', 'age', 'business',\n",
       "       'presence', 'batman', 'sexual', 'present', 'surprisingly',\n",
       "       'anyway', 'uses', 'filmmakers', 'personal', 'figure', 'ways',\n",
       "       'decides', 'begin', 'smart', 'somewhat', 'annoying', 'shots',\n",
       "       'rich', 'previous', 'rock', 'successful', 'minute', 'similar',\n",
       "       'absolutely', 'motion', 'former', 'strange', 'came', 'follow',\n",
       "       'read', 'million', 'starring', 'clear', 'williams', 'familiar',\n",
       "       'kid', 'romance', 'intelligent', 'third', 'project', 'excellent',\n",
       "       'budget', 'jones', 'latest', 'party', 'towards', 'predictable',\n",
       "       'powerful', 'water', 'means', 'law', 'beyond', 'visual', 'amazing',\n",
       "       'leaves', 'secret', 'following', 'jim', 'eye', 'prison',\n",
       "       'animated', 'low', 'actress', 'filled', 'leaving', 'questions',\n",
       "       'nature', 'message', 'box', 'villain', 'definitely', 'add',\n",
       "       'large', 'moving', 'clever', 'create', 'felt', 'usual', 'stories',\n",
       "       'brilliant', 'situation', 'break', 'opens', 'scary', 'cinema',\n",
       "       'ones', 'drug', 'bunch', 'thinking', 'solid', 'giant', 'doubt',\n",
       "       'effect', 'bill', 'learn', 'move', 'company', \"i'd\", 'potential',\n",
       "       'seriously', 'wars', 'follows', 'saying', 'country', 'brothers',\n",
       "       'bob', 'huge', \"i'll\", 'plan', 'america', 'agent', 'class',\n",
       "       'force', 'created', 'unlike', 'pay', 'non', 'married', 'sweet',\n",
       "       'perfectly', 'general', 'realize', 'mark', 'took', 'decent',\n",
       "       'likely', 'dream', 'view', 'subject', 'understand', 'martin',\n",
       "       'happened', 'enjoyable', 'immediately', 'open', 'points', 'heard',\n",
       "       'sam', 'private', 'stay', 'viewers', 'fails', 'cold', 'overall',\n",
       "       'impossible', 'audiences', 'merely', 'mess', 'free', 'bruce',\n",
       "       'wanted', 'gun', 'appear', 'exciting', 'chase', 'escape',\n",
       "       'ultimately', 'ten', 'neither', 'fan', 'inside', 'scott',\n",
       "       'favorite', 'modern', 'wedding', 'brought', 'richard', 'trouble',\n",
       "       'otherwise', 'liked', 'tim', 'trek', 'dumb', 'murphy', 'studio',\n",
       "       'musical', 'political', 'various', 'talented', 'particular',\n",
       "       'stand', 'harry', 'keeps', 'english', 'silly', 'state',\n",
       "       'situations', 'rating', 'slightly', 'steve', 'truth', 'teen',\n",
       "       'bond', 'joke', 'spend', 'frank', 'biggest', 'society', 'air',\n",
       "       'effort', 'focus', 'element', 'earlier', 'members', 'purpose',\n",
       "       'showing', 'soundtrack', 'memorable', 'six', 'hands', 'cannot',\n",
       "       'offers', 'government', 'key', 'rated', 'heavy', 'totally', 'park',\n",
       "       'control', 'credit', 'west', 'ideas', 'wait', 'sit', 'eddie',\n",
       "       'female', 'ask', 'waste', 'terrible', 'depth', 'sci', 'aspect',\n",
       "       'list', 'animation', 'entirely', 'moves', 'actual', 'british',\n",
       "       'constantly', 'fire', 'convincing', 'gave', 'tension', 'brief',\n",
       "       'ridiculous', 'fear', 'cinematography', 'typical', 'ability',\n",
       "       'carter', 'setting', 'spent', 'street', 'quick', 'violent',\n",
       "       'screenwriter', 'subtle', 'expected', 'fairly', 'killing', 'army',\n",
       "       'tone', 'lots', 'thinks', 'cheap', 'suddenly', 'atmosphere',\n",
       "       'background', 'sister', 'highly', 'mars', 'sees', 'complex',\n",
       "       'disaster', 'beauty', 'front', 'seven', 'indeed', 'flat', 'wrote',\n",
       "       'whatever', 'dull', 'humans', 'recently', 'hate', 'steven',\n",
       "       'outside', 'wish', 'greatest', 'master', 'impact', 'amusing',\n",
       "       'sounds', 'telling', 'minor', 'sight', 'cinematic', 'stone',\n",
       "       'hold', 'mary', 'meanwhile', 'cute', 'awful', 'clearly', 'song',\n",
       "       'plenty', 'theme', 'hear', 'college', 'amount', 'truman', 'dreams',\n",
       "       'shown', 'double', 'queen', 'reasons', 'miss', 'allen', 'woody',\n",
       "       'longer', 'approach', \"let's\", 'common', 'max', 'island',\n",
       "       'believable', 'charm', \"year's\", 'godzilla', 'club', 'chemistry',\n",
       "       'possibly', 'casting', 'nick', 'realistic', 'cameron', 'french',\n",
       "       'trailer', 'produced', 'imagine', 'choice', 'ride', 'titanic',\n",
       "       'somewhere', 'road', 'sean', 'leader', 'carry', 'tough', 'thin',\n",
       "       'slowly', 'delivers', 'provide', 'puts', 'asks', 'appearance',\n",
       "       'famous', 'member', 'okay', 'race', 'energy', 'sent', 'detective',\n",
       "       'development', 'etc', 'language', 'proves', 'hot', 'seemingly',\n",
       "       'intelligence', 'caught', 'decide', 'opportunity', 'incredibly',\n",
       "       'brown', 'images', 'blue', 'basic', 'knew', 'interested',\n",
       "       'considering', 'thanks', 'remains', 'climax', 'event', 'critics',\n",
       "       'directing', 'mike', 'leading', 'ground', 'lies', 'forget',\n",
       "       'alive', 'baby', 'vampire', 'conclusion'], dtype=object)"
      ]
     },
     "execution_count": 46,
     "metadata": {},
     "output_type": "execute_result"
    }
   ],
   "source": [
    "cv.get_feature_names_out()"
   ]
  },
  {
   "attachments": {
    "image.png": {
     "image/png": "[encoded data removed]"
    }
   },
   "cell_type": "markdown",
   "id": "6049057f",
   "metadata": {},
   "source": [
    "![image.png](attachment:image.png)\n",
    "위와 같이 객체를 생성할때 단어집합을 제공하지 않을 경우에는 단어집합을 출력할때 오류가 발생한다."
   ]
  },
  {
   "cell_type": "code",
   "execution_count": 48,
   "id": "4afd2d17",
   "metadata": {},
   "outputs": [
    {
     "data": {
      "text/plain": [
       "2000"
      ]
     },
     "execution_count": 48,
     "metadata": {},
     "output_type": "execute_result"
    }
   ],
   "source": [
    "len(movie_reviews.fileids())"
   ]
  },
  {
   "cell_type": "code",
   "execution_count": 47,
   "id": "874641e9",
   "metadata": {},
   "outputs": [
    {
     "name": "stdout",
     "output_type": "stream",
     "text": [
      "type:  <class 'scipy.sparse._csr.csr_matrix'>\n",
      "shape:  (2000, 1000)\n",
      "sample\n",
      "   (0, 0)\t6\n",
      "  (0, 1)\t3\n",
      "  (0, 2)\t6\n",
      "  (0, 3)\t3\n",
      "  (0, 4)\t3\n",
      "  (0, 6)\t2\n",
      "  (0, 8)\t1\n"
     ]
    }
   ],
   "source": [
    "reviews_cv = cv.fit_transform(reviews)\n",
    "print(\"type: \", type(reviews_cv))\n",
    "print(\"shape: \" ,reviews_cv.shape)\n",
    "print(\"sample\\n\", reviews_cv[0,:10])"
   ]
  },
  {
   "cell_type": "markdown",
   "id": "63879561",
   "metadata": {},
   "source": [
    "* 우리는 위에서 type은 csr_matrix임을 알 수 있고\n",
    "* shape은 (2000,1000)인것을 볼 수 있다.\n",
    "    * 이는 2000개의 문서 그리고 1000개의 단어집합의 단어에 의한 결과이다.\n",
    "* 그렇지만 sample은 좌표 `(문서번호, 단어번호)`와 빈도수로 이루어져있음을 확인할 수 있고, 자세히 확인해보면 **5번째와 7번째의 단어는 빠져있는 것을 볼 수 있다** 이는 빈도수에 의해서 빠진 것이고 이렇게 `mapping방식`으로 저장하는 이유는 희소한 행렬을 효율적으로 관리하기 위함이다. \n",
    "    * 위와 같은 데이터 타입을 **C**ompressed **S**parse **R**ow format이라고 한다.(Compressed:압축된)\n",
    "        * 이 포맷을 넘파이 형태로 변경하고 싶으면 toarray() 메서드를 사용하면 된다."
   ]
  },
  {
   "cell_type": "code",
   "execution_count": 50,
   "id": "f0b7b467",
   "metadata": {},
   "outputs": [
    {
     "data": {
      "text/plain": [
       "<2000x1000 sparse matrix of type '<class 'numpy.int64'>'\n",
       "\twith 252984 stored elements in Compressed Sparse Row format>"
      ]
     },
     "execution_count": 50,
     "metadata": {},
     "output_type": "execute_result"
    }
   ],
   "source": [
    "# 실제 데이터를 보면 2백만개의 데이터가 있음을 확인할 수 있는데\n",
    "# 이중 실제로 값이 있는 것은 25만개이므로 공간낭비가 심한 것을 볼 수 있다.\n",
    "reviews_cv "
   ]
  },
  {
   "cell_type": "code",
   "execution_count": 52,
   "id": "846353b1",
   "metadata": {},
   "outputs": [
    {
     "data": {
      "text/plain": [
       "(2000, 1000)"
      ]
     },
     "execution_count": 52,
     "metadata": {},
     "output_type": "execute_result"
    }
   ],
   "source": [
    "reviews_cv.toarray().shape"
   ]
  },
  {
   "cell_type": "code",
   "execution_count": 54,
   "id": "86875f25",
   "metadata": {},
   "outputs": [
    {
     "data": {
      "text/plain": [
       "array([6, 3, 6, 3, 3, 0, 2, 0, 1, 0, 1, 3, 2, 2, 1, 0, 1, 2, 3, 5])"
      ]
     },
     "execution_count": 54,
     "metadata": {},
     "output_type": "execute_result"
    }
   ],
   "source": [
    "reviews_cv.toarray()[0,:20]"
   ]
  },
  {
   "cell_type": "code",
   "execution_count": 55,
   "id": "01b6492e",
   "metadata": {},
   "outputs": [
    {
     "data": {
      "text/plain": [
       "[5, 3, 6, 3, 3, 0, 2, 0, 1, 0, 1, 3, 1, 2, 1, 0, 1, 2, 3, 5]"
      ]
     },
     "execution_count": 55,
     "metadata": {},
     "output_type": "execute_result"
    }
   ],
   "source": [
    "# 우리가 앞에서 직접 계산한 카운트 벡터\n",
    "feature_sets[0][:20]"
   ]
  },
  {
   "cell_type": "markdown",
   "id": "dccdf1b9",
   "metadata": {},
   "source": [
    "* 첫번째와 중간에 갯수 차이가 나는 이유는 우리가 만든 토크나이저와 CountVectorizer에서 사용하는 토크나이저가 다르기 때문이다."
   ]
  },
  {
   "cell_type": "code",
   "execution_count": 59,
   "id": "6d1b0c35",
   "metadata": {},
   "outputs": [
    {
     "name": "stdout",
     "output_type": "stream",
     "text": [
      "film:6\n",
      "one:3\n",
      "movie:6\n",
      "like:3\n",
      "even:3\n",
      "time:0\n",
      "good:2\n",
      "story:0\n",
      "would:1\n",
      "much:0\n",
      "also:1\n",
      "get:3\n",
      "character:2\n",
      "two:2\n",
      "well:1\n",
      "first:0\n",
      "characters:1\n",
      "see:2\n",
      "way:3\n",
      "make:5\n"
     ]
    }
   ],
   "source": [
    "for word_name, count in zip(cv.get_feature_names_out()[:20], reviews_cv.toarray()[0,:20]):\n",
    "    print(f\"{word_name}:{count}\")\n"
   ]
  },
  {
   "cell_type": "markdown",
   "id": "8ce27710",
   "metadata": {},
   "source": [
    "## 한국어 텍스트의 카운트 벡터 변환\n",
    "* 앞에서 살펴보았듯이 한국어에서 의미를 갖는 최소단위는 형태소이다. 따라서 CountVectorizer를 그대로 사용하게 되면 한국어를 잘 임베딩 할 수 없다. 이러한 문제를 해결하기 위해서 **우리는 Konlpy의 형태소 분석기를 CountVectorizer의 Tokenizer로써 사용해주면 된다.**\n",
    "    * 여기서는 daum_movie_review.csv 파일을 사용할 것이다.\n"
   ]
  },
  {
   "cell_type": "code",
   "execution_count": 14,
   "id": "ab2c9589",
   "metadata": {},
   "outputs": [
    {
     "data": {
      "text/html": [
       "<div>\n",
       "<style scoped>\n",
       "    .dataframe tbody tr th:only-of-type {\n",
       "        vertical-align: middle;\n",
       "    }\n",
       "\n",
       "    .dataframe tbody tr th {\n",
       "        vertical-align: top;\n",
       "    }\n",
       "\n",
       "    .dataframe thead th {\n",
       "        text-align: right;\n",
       "    }\n",
       "</style>\n",
       "<table border=\"1\" class=\"dataframe\">\n",
       "  <thead>\n",
       "    <tr style=\"text-align: right;\">\n",
       "      <th></th>\n",
       "      <th>review</th>\n",
       "      <th>rating</th>\n",
       "      <th>date</th>\n",
       "      <th>title</th>\n",
       "    </tr>\n",
       "  </thead>\n",
       "  <tbody>\n",
       "    <tr>\n",
       "      <th>0</th>\n",
       "      <td>돈 들인건 티가 나지만 보는 내내 하품만</td>\n",
       "      <td>1</td>\n",
       "      <td>2018.10.29</td>\n",
       "      <td>인피니티 워</td>\n",
       "    </tr>\n",
       "    <tr>\n",
       "      <th>1</th>\n",
       "      <td>몰입할수밖에 없다. 어렵게 생각할 필요없다. 내가 전투에 참여한듯 손에 땀이남.</td>\n",
       "      <td>10</td>\n",
       "      <td>2018.10.26</td>\n",
       "      <td>인피니티 워</td>\n",
       "    </tr>\n",
       "    <tr>\n",
       "      <th>2</th>\n",
       "      <td>이전 작품에 비해 더 화려하고 스케일도 커졌지만.... 전국 맛집의 음식들을 한데 ...</td>\n",
       "      <td>8</td>\n",
       "      <td>2018.10.24</td>\n",
       "      <td>인피니티 워</td>\n",
       "    </tr>\n",
       "    <tr>\n",
       "      <th>3</th>\n",
       "      <td>이 정도면 볼만하다고 할 수 있음!</td>\n",
       "      <td>8</td>\n",
       "      <td>2018.10.22</td>\n",
       "      <td>인피니티 워</td>\n",
       "    </tr>\n",
       "    <tr>\n",
       "      <th>4</th>\n",
       "      <td>재미있다</td>\n",
       "      <td>10</td>\n",
       "      <td>2018.10.20</td>\n",
       "      <td>인피니티 워</td>\n",
       "    </tr>\n",
       "    <tr>\n",
       "      <th>5</th>\n",
       "      <td>나는 재밌게 봄</td>\n",
       "      <td>10</td>\n",
       "      <td>2018.10.14</td>\n",
       "      <td>인피니티 워</td>\n",
       "    </tr>\n",
       "    <tr>\n",
       "      <th>6</th>\n",
       "      <td>0.5점은 줄 수 없냐?</td>\n",
       "      <td>0</td>\n",
       "      <td>2018.10.10</td>\n",
       "      <td>인피니티 워</td>\n",
       "    </tr>\n",
       "    <tr>\n",
       "      <th>7</th>\n",
       "      <td>헐..다 죽었어....나중에 앤트맨 보다가도 깜놀...</td>\n",
       "      <td>10</td>\n",
       "      <td>2018.10.08</td>\n",
       "      <td>인피니티 워</td>\n",
       "    </tr>\n",
       "    <tr>\n",
       "      <th>8</th>\n",
       "      <td>충격 결말</td>\n",
       "      <td>9</td>\n",
       "      <td>2018.10.06</td>\n",
       "      <td>인피니티 워</td>\n",
       "    </tr>\n",
       "    <tr>\n",
       "      <th>9</th>\n",
       "      <td>응집력</td>\n",
       "      <td>8</td>\n",
       "      <td>2018.10.05</td>\n",
       "      <td>인피니티 워</td>\n",
       "    </tr>\n",
       "  </tbody>\n",
       "</table>\n",
       "</div>"
      ],
      "text/plain": [
       "                                              review  rating        date  \\\n",
       "0                             돈 들인건 티가 나지만 보는 내내 하품만       1  2018.10.29   \n",
       "1       몰입할수밖에 없다. 어렵게 생각할 필요없다. 내가 전투에 참여한듯 손에 땀이남.      10  2018.10.26   \n",
       "2  이전 작품에 비해 더 화려하고 스케일도 커졌지만.... 전국 맛집의 음식들을 한데 ...       8  2018.10.24   \n",
       "3                                이 정도면 볼만하다고 할 수 있음!       8  2018.10.22   \n",
       "4                                               재미있다      10  2018.10.20   \n",
       "5                                           나는 재밌게 봄      10  2018.10.14   \n",
       "6                                      0.5점은 줄 수 없냐?       0  2018.10.10   \n",
       "7                     헐..다 죽었어....나중에 앤트맨 보다가도 깜놀...      10  2018.10.08   \n",
       "8                                              충격 결말       9  2018.10.06   \n",
       "9                                                응집력       8  2018.10.05   \n",
       "\n",
       "    title  \n",
       "0  인피니티 워  \n",
       "1  인피니티 워  \n",
       "2  인피니티 워  \n",
       "3  인피니티 워  \n",
       "4  인피니티 워  \n",
       "5  인피니티 워  \n",
       "6  인피니티 워  \n",
       "7  인피니티 워  \n",
       "8  인피니티 워  \n",
       "9  인피니티 워  "
      ]
     },
     "execution_count": 14,
     "metadata": {},
     "output_type": "execute_result"
    }
   ],
   "source": [
    "import pandas as pd\n",
    "df = pd.read_csv('./daum_movie_review.csv')\n",
    "df.head(10)"
   ]
  },
  {
   "cell_type": "code",
   "execution_count": 15,
   "id": "25824995",
   "metadata": {},
   "outputs": [
    {
     "name": "stdout",
     "output_type": "stream",
     "text": [
      "['10점' '18' '1987' '1도' '1점' '1점도' '2시간' '2시간이' '2편' '5점' '6점' '7점' '8점'\n",
      " 'cg' 'cg가' 'cg는' 'cg도' 'cg만' 'good' 'of' 'ㅋㅋ' 'ㅋㅋㅋ' 'ㅋㅋㅋㅋ' 'ㅎㅎ' 'ㅎㅎㅎ'\n",
      " 'ㅜㅜ' 'ㅠㅠ' 'ㅠㅠㅠ' 'ㅡㅡ' '가는' '가는줄' '가면' '가서' '가슴' '가슴아픈' '가슴이' '가장' '가족'\n",
      " '가족과' '가족들과' '가족의' '가족이' '가지고' '간만에' '갈수록' '감독' '감독님' '감독은' '감독의' '감독이'\n",
      " '감동' '감동과' '감동도' '감동은' '감동을' '감동이' '감동입니다' '감동적' '감동적이고' '감동적인' '감사드립니다'\n",
      " '감사합니다' '감정이' '갑자기' '갔는데' '갔다가' '강철비' '강추' '강추합니다' '같고' '같네요' '같다' '같습니다'\n",
      " '같아' '같아요' '같은' '같은데' '같음' '같이' '개연성' '개연성이' '개인적으로' '거의' '겁나' '것도' '것은'\n",
      " '것을' '것이' '것이다' '겨울왕국' '결국' '결말' '결말이' '계속' '고맙습니다' '곤지암' '공포' '공포를'\n",
      " '공포영화' '관객']\n"
     ]
    }
   ],
   "source": [
    "from sklearn.feature_extraction.text import CountVectorizer\n",
    "daum_cv = CountVectorizer(max_features = 1000)\n",
    "daum_DTM = daum_cv.fit_transform(df.review)\n",
    "print(daum_cv.get_feature_names_out()[:100])"
   ]
  },
  {
   "cell_type": "markdown",
   "id": "b0ceae4b",
   "metadata": {},
   "source": [
    "* 위결과는 위에서 말했듯이 문제가 많아보인다\n",
    "    * cg가 들어간 단어가 전부 'cg', 'cg가', 'cg는' 등등으로 분리가 됐으면서\n",
    "    * 감동이 들어간 단어가 전부 '감동','감동과','감동도','감동은'... 등으로 분리가 됐다.<br>\n",
    "    &rightarrow;이런 단어들은 의미적으로 봤을때, 같은 단어로 취급하는 것이 바람직한다."
   ]
  },
  {
   "cell_type": "code",
   "execution_count": 16,
   "id": "85662080",
   "metadata": {},
   "outputs": [
    {
     "name": "stdout",
     "output_type": "stream",
     "text": [
      "['몰입', '할수밖에', '없다', '.', '어렵게', '생각', '할', '필요없다', '.', '내', '가', '전투', '에', '참여', '한', '듯', '손', '에', '땀', '이남', '.']\n",
      "\n",
      "['몰입', '생각', '내', '전투', '참여', '듯', '손', '땀', '이남']\n",
      "\n",
      "[('몰입', 'Noun'), ('할수밖에', 'Verb'), ('없다', 'Adjective'), ('.', 'Punctuation'), ('어렵게', 'Adjective'), ('생각', 'Noun'), ('할', 'Verb'), ('필요없다', 'Adjective'), ('.', 'Punctuation'), ('내', 'Noun'), ('가', 'Josa'), ('전투', 'Noun'), ('에', 'Josa'), ('참여', 'Noun'), ('한', 'Determiner'), ('듯', 'Noun'), ('손', 'Noun'), ('에', 'Josa'), ('땀', 'Noun'), ('이남', 'Noun'), ('.', 'Punctuation')]\n"
     ]
    }
   ],
   "source": [
    "from konlpy.tag import Okt\n",
    "# 두번째 리뷰에 대해 분리해본다.\n",
    "twitter_tag = Okt()\n",
    "print(twitter_tag.morphs(df.review[1]))\n",
    "print()\n",
    "print(twitter_tag.nouns(df.review[1]))\n",
    "print()\n",
    "print(twitter_tag.pos(df.review[1]))"
   ]
  },
  {
   "cell_type": "markdown",
   "id": "66aa2b37",
   "metadata": {},
   "source": [
    "* 위의 결과를 보면 morphs로 형태소 단위로 분리한 결과를 쓰기에는 필요없는 단어가 많이 보이고\n",
    "* 명사만을 쓰기에는 너무 적어보인다.\n",
    "* 품사 태깅 결과에서 Josa와 Punctuation을 빼는 것이 좋아보인다.\n",
    "    * &rightarrow; **따라서 스스로의 Tokenizer를 만들어야 한다.**"
   ]
  },
  {
   "cell_type": "code",
   "execution_count": 17,
   "id": "54bd2f90",
   "metadata": {},
   "outputs": [
    {
     "name": "stdout",
     "output_type": "stream",
     "text": [
      "Self Tokenizer Result ['몰입', '할수밖에', '없다', '어렵게', '생각', '할', '필요없다', '내', '전투', '참여', '듯', '손', '땀', '이남']\n"
     ]
    }
   ],
   "source": [
    "def my_tokenizer(doc):\n",
    "    return [token for token,pos in twitter_tag.pos(doc) if pos in ['Noun','Verb','Adjective']]\n",
    "print(\"Self Tokenizer Result\",my_tokenizer(df.review[1]))"
   ]
  },
  {
   "cell_type": "markdown",
   "id": "91297bd3",
   "metadata": {},
   "source": [
    "* 위에서 만든 Tokenizer를 이용해서 CountVectorizer를 구성한다."
   ]
  },
  {
   "cell_type": "code",
   "execution_count": 18,
   "id": "bacdc9f8",
   "metadata": {},
   "outputs": [
    {
     "name": "stdout",
     "output_type": "stream",
     "text": [
      "['가' '가고' '가끔' '가는' '가는줄' '가득' '가면' '가볍게' '가서' '가슴' '가장' '가족' '가족영화' '가지'\n",
      " '가진' '가치' '각' '각본' '각색' '각자' '간' '간다' '간만' '갈' '갈수록' '감' '감도' '감독' '감동'\n",
      " '감명' '감사' '감사합니다' '감상' '감성' '감안' '감정' '감정이입' '감탄' '갑' '갑니다' '갑자기' '값'\n",
      " '갔는데' '갔다' '갔다가' '강' '강력' '강림' '강요' '강철' '강추' '갖춘' '같' '같고' '같네요' '같다'\n",
      " '같다는' '같습니다' '같아' '같아서' '같아요' '같았다' '같은' '같은데' '같음' '개' '개그' '개꿀잼' '개봉'\n",
      " '개성' '개연' '개인' '개판' '객관' '갠' '거' '거기' '거리' '거부' '거의' '거지' '거짓' '거짓말' '걱정'\n",
      " '건' '건가' '건지' '걸' '걸고' '걸까' '겁나' '겁니다' '것' '게' '게임' '겨울' '겨울왕국' '결과' '결론'\n",
      " '결말']\n"
     ]
    }
   ],
   "source": [
    "from sklearn.feature_extraction.text import CountVectorizer\n",
    "# 토크나이저와 특성의 최대 개수를 지정\n",
    "# 명사만 추출하고 싶은 경우에는 tokenizer에 'twitter_tag.nouns'를 바로 지정해도 된다.\n",
    "daum_cv = CountVectorizer(max_features = 2000, tokenizer = my_tokenizer)\n",
    "daum_DTM  = daum_cv.fit_transform(df.review) # review집합의 Series를 넣어주어도 괜찮다.원래는 문장 리스트를 넣어줬다.\n",
    "print(daum_cv.get_feature_names_out()[:100]) # count vector에 사용된 Feature의 이름을 반환"
   ]
  },
  {
   "cell_type": "markdown",
   "id": "dc740e03",
   "metadata": {},
   "source": [
    "* 위에서 있었던 감동,cg등의 문제는 해결된 것으로 보인다."
   ]
  },
  {
   "cell_type": "code",
   "execution_count": 19,
   "id": "b7cdae26",
   "metadata": {},
   "outputs": [
    {
     "data": {
      "text/plain": [
       "array([[0, 0, 0, ..., 0, 0, 0],\n",
       "       [0, 0, 0, ..., 0, 0, 0],\n",
       "       [0, 0, 0, ..., 0, 0, 0],\n",
       "       ...,\n",
       "       [0, 0, 0, ..., 0, 0, 0],\n",
       "       [0, 0, 0, ..., 0, 0, 0],\n",
       "       [0, 0, 0, ..., 0, 0, 0]])"
      ]
     },
     "execution_count": 19,
     "metadata": {},
     "output_type": "execute_result"
    }
   ],
   "source": [
    "daum_DTM.toarray()"
   ]
  },
  {
   "cell_type": "code",
   "execution_count": 20,
   "id": "131a2320",
   "metadata": {},
   "outputs": [
    {
     "data": {
      "text/plain": [
       "array([[0, 0, 0, ..., 0, 0, 0]])"
      ]
     },
     "execution_count": 20,
     "metadata": {},
     "output_type": "execute_result"
    }
   ],
   "source": [
    "# 2차원으로 구성돼있다. 따라서 뒤에 [0]을 추가로 써줘야한다.\n",
    "daum_DTM[1].toarray()"
   ]
  },
  {
   "cell_type": "code",
   "execution_count": 17,
   "id": "39e35b07",
   "metadata": {},
   "outputs": [
    {
     "name": "stdout",
     "output_type": "stream",
     "text": [
      "내 : 1, 듯 : 1, 몰입 : 1, 생각 : 1, 손 : 1, 없다 : 1, 필요없다 : 1, 할 : 1, "
     ]
    }
   ],
   "source": [
    "# 1번째 문서의\n",
    "for word,count in zip(daum_cv.get_feature_names_out(),daum_DTM[1].toarray()[0]): \n",
    "    if count>0:\n",
    "        print(word,':',count,end = ', ')"
   ]
  },
  {
   "cell_type": "markdown",
   "id": "8084077d",
   "metadata": {},
   "source": [
    "## 카운트 벡터의 활용\n",
    "* 카운트 벡터는 문서로부터 특징을 추출하는 하나의 방법으로 이해할 수 있다.\n",
    "* 이렇게 추출한 벡터는 머신러닝 기법을 적용하기 위한 입력으로 문서분류부터 시작해 다양한 분야에 활용가능하다.\n",
    "* 먼저, 카운트벡터는 문서의 특성을 표현하고 있어 문서간의 유사도를 측정하는데에 사용될 수 있다.\n",
    "    * 이과정에서 코사인 유사도를 사용할 수 있다.\n",
    "        * 단어별 빈도의 최솟값은 0 이므로 무조건 벡터는 1사분면 위에 있어서 코사인값이 0보다 작아지는 경우는 존재하지 않는다.\n",
    "        * 이때 Sckitlearn의 cosine_similarity함수는 벡터 하나씩 유사도를 계산하지 않고 다수 벡터와 다수 벡터 간의 유사도를 한번에 계산하고 그 결과를 반환한다. m개 벡터와 n개 벡터간의 유사도를 한꺼번에 계산했다면 결과는 (m,n)의 2차원 행렬로 반환된다.\n",
    "        * 아래의 예에서는 대상문서가 1개이고 이를 전체리뷰와 비교하므로 (1,2000)의 행렬로 반환될것이다."
   ]
  },
  {
   "cell_type": "code",
   "execution_count": 19,
   "id": "e29678f1",
   "metadata": {},
   "outputs": [
    {
     "data": {
      "text/plain": [
       "'plot : two teen couples go to a church party , drink and then drive . \\nthey get into an accident . \\none of the guys dies , but his girlfriend continues to see him in her life , and has nightmares . \\nwhat\\'s the deal ? \\nwatch the movie and \" sorta \" find out . . . \\ncritique : a mind-fuck movie for the teen generation that touches on a very cool idea , but presents it in a very bad package . \\nwhich is what makes this review an even harder one to write , since i generally applaud films which attempt to break the mold , mess with your head and such ( lost highway & memento ) , but there are good and bad ways of making all types of films , and these folks just didn\\'t snag this one correctly . \\nthey seem to have taken this pretty neat concept , but executed it terribly . \\nso what are the problems with the movie ? \\nwell , its main problem is that it\\'s simply too jumbled . \\nit starts off \" normal \" but then downshifts into this \" fantasy \" world in which you , as an audience member , have no idea what\\'s going on . \\nthere are dreams , there are characters coming back from the dead , there are others who look like the dead , there are strange apparitions , there are disappearances , there are a looooot of chase scenes , there are tons of weird things that happen , and most of it is simply not explained . \\nnow i personally don\\'t mind trying to unravel a film every now and then , but when all it does is give me the same clue over and over again , i get kind of fed up after a while , which is this film\\'s biggest problem . \\nit\\'s obviously got this big secret to hide , but it seems to want to hide it completely until its final five minutes . \\nand do they make things entertaining , thrilling or even engaging , in the meantime ? \\nnot really . \\nthe sad part is that the arrow and i both dig on flicks like this , so we actually figured most of it out by the half-way point , so all of the strangeness after that did start to make a little bit of sense , but it still didn\\'t the make the film all that more entertaining . \\ni guess the bottom line with movies like this is that you should always make sure that the audience is \" into it \" even before they are given the secret password to enter your world of understanding . \\ni mean , showing melissa sagemiller running away from visions for about 20 minutes throughout the movie is just plain lazy ! ! \\nokay , we get it . . . there \\nare people chasing her and we don\\'t know who they are . \\ndo we really need to see it over and over again ? \\nhow about giving us different scenes offering further insight into all of the strangeness going down in the movie ? \\napparently , the studio took this film away from its director and chopped it up themselves , and it shows . \\nthere might\\'ve been a pretty decent teen mind-fuck movie in here somewhere , but i guess \" the suits \" decided that turning it into a music video with little edge , would make more sense . \\nthe actors are pretty good for the most part , although wes bentley just seemed to be playing the exact same character that he did in american beauty , only in a new neighborhood . \\nbut my biggest kudos go out to sagemiller , who holds her own throughout the entire film , and actually has you feeling her character\\'s unraveling . \\noverall , the film doesn\\'t stick because it doesn\\'t entertain , it\\'s confusing , it rarely excites and it feels pretty redundant for most of its runtime , despite a pretty cool ending and explanation to all of the craziness that came before it . \\noh , and by the way , this is not a horror or teen slasher flick . . . it\\'s \\njust packaged to look that way because someone is apparently assuming that the genre is still hot with the kids . \\nit also wrapped production two years ago and has been sitting on the shelves ever since . \\nwhatever . . . skip \\nit ! \\nwhere\\'s joblo coming from ? \\na nightmare of elm street 3 ( 7/10 ) - blair witch 2 ( 7/10 ) - the crow ( 9/10 ) - the crow : salvation ( 4/10 ) - lost highway ( 10/10 ) - memento ( 10/10 ) - the others ( 9/10 ) - stir of echoes ( 8/10 ) \\n'"
      ]
     },
     "execution_count": 19,
     "metadata": {},
     "output_type": "execute_result"
    }
   ],
   "source": [
    "from nltk.corpus import movie_reviews\n",
    "reviews = [movie_reviews.raw(fileid) for fileid in movie_reviews.fileids()]\n",
    "reviews[0]"
   ]
  },
  {
   "cell_type": "code",
   "execution_count": 25,
   "id": "bd68ee01",
   "metadata": {},
   "outputs": [],
   "source": [
    "from sklearn.feature_extraction.text import CountVectorizer \n",
    "cv = CountVectorizer(max_features = 1000)\n",
    "reviews_cv = cv.fit_transform(reviews)"
   ]
  },
  {
   "cell_type": "code",
   "execution_count": 24,
   "id": "5e374ea2",
   "metadata": {},
   "outputs": [
    {
     "data": {
      "text/plain": [
       "1"
      ]
     },
     "execution_count": 24,
     "metadata": {},
     "output_type": "execute_result"
    }
   ],
   "source": [
    "start = len(reviews[0])//2\n",
    "source = reviews[0][-start:]\n",
    "len([source]) # list(source)로 만들면 문자열이 한칸씩 분리 된다."
   ]
  },
  {
   "cell_type": "code",
   "execution_count": 26,
   "id": "1e871d87",
   "metadata": {},
   "outputs": [
    {
     "name": "stdout",
     "output_type": "stream",
     "text": [
      "#대상 특성 행렬의 크기: (1, 1000)\n",
      "#유사도 계산 행렬의 크기: (1, 2000)\n",
      "#유사도 계산결과를 역순으로 정렬: [0.9406850065028822, 0.8449222207991461, 0.8348806607881823, 0.8326052445239385, 0.8315967745603229, 0.8273858498106984, 0.8245530382632896, 0.8219627744618032, 0.820420990734705, 0.8203286730382311]\n"
     ]
    }
   ],
   "source": [
    "from sklearn.metrics.pairwise import cosine_similarity\n",
    "\n",
    "# 첫째 리뷰의 문자수를 확인하고 뒤 절반을 가져오기 위해서 중심점을 찾음\n",
    "start = len(reviews[0])//2\n",
    "# 중심점으로부터 뒤 절반을 가져와서 비교할 문서를 생성\n",
    "source = reviews[0][-start:]\n",
    "# 코사인 유사도는 카운트벡터에 대해 계산하므로 벡터로 변환\n",
    "# transform은 <반드시 리스트나 행렬 형태>의 입력을 요구하므로 리스트로 만들어서 입력\n",
    "source_cv = cv.transform([source])\n",
    "# 행렬의 크기를 확인, 문서가 하나이므로 (1,1000)\n",
    "print(\"#대상 특성 행렬의 크기:\",source_cv.shape)\n",
    "# 변환되 count_vector와 기존 값들과의 Similarity계산 (유사도 측정을 원하는 것, 비교대상들)\n",
    "# DTM이니깐 2차원임\n",
    "sim_result = cosine_similarity(source_cv,reviews_cv)\n",
    "print(\"#유사도 계산 행렬의 크기:\", sim_result.shape)\n",
    "print(\"#유사도 계산결과를 역순으로 정렬:\", sorted(sim_result[0],reverse = True)[:10])"
   ]
  },
  {
   "cell_type": "markdown",
   "id": "cbcf60c4",
   "metadata": {},
   "source": [
    "* numpy의 argmax를 이용해서 가장 유사한 리뷰의 인덱스를 찾아보자."
   ]
  },
  {
   "cell_type": "code",
   "execution_count": 36,
   "id": "c9d64f16",
   "metadata": {},
   "outputs": [
    {
     "name": "stdout",
     "output_type": "stream",
     "text": [
      "#가장 유사한 리뷰의 인덱스 0\n",
      "순서대로 정렬 [   0  126 1501  100 1846  882 1560 1110    9 1570]\n"
     ]
    }
   ],
   "source": [
    "import numpy as np\n",
    "print('#가장 유사한 리뷰의 인덱스',np.argmax(sim_result[0]))\n",
    "print('순서대로 정렬',(-sim_result[0]).argsort()[:10])"
   ]
  },
  {
   "cell_type": "code",
   "execution_count": 35,
   "id": "af0f2c37",
   "metadata": {},
   "outputs": [
    {
     "data": {
      "text/plain": [
       "array([   0,  126, 1501,  100, 1846,  882, 1560, 1110,    9, 1570])"
      ]
     },
     "execution_count": 35,
     "metadata": {},
     "output_type": "execute_result"
    }
   ],
   "source": [
    "(-sim_result[0]).argsort()[:10]"
   ]
  },
  {
   "cell_type": "code",
   "execution_count": 33,
   "id": "7302ba97",
   "metadata": {},
   "outputs": [
    {
     "data": {
      "text/plain": [
       "array([   0,  126, 1501, ..., 1754,  779,  506])"
      ]
     },
     "execution_count": 33,
     "metadata": {},
     "output_type": "execute_result"
    }
   ],
   "source": [
    "np.argsort(-sim_result[0])[:10]"
   ]
  },
  {
   "attachments": {
    "image.png": {
     "image/png": "[encoded data removed]"
    }
   },
   "cell_type": "markdown",
   "id": "e8eb4b6a",
   "metadata": {},
   "source": [
    "## TF-IDF(Term Frequency- Inverse Document Frequency)\n",
    "만약 모든 축구팀에 손흥민이 있다고 해보자. 과연 손흥민이 팀간의 차이를 만들 수 있을까? 그렇지 않을 것이다.<br>\n",
    "같은 논의로, 만약 어떤 단어가 모든 문서에 나타난다면 그 단어는 과연 중요한 단어일까?<br>\n",
    "이전에는 이를 반영하지 않은채 많은 빈도를 갖은 벡터를 더 중요한 벡터로 봐왔다.이를 고려한 방식이 바로<br>\n",
    "출현하는 문서의 갯수를 고려해서 이의 역수를 가중치로 준 이후 CountVector를 생성하는 방식인 TF-IDF방식이다. 식은 아래와 같다.\n",
    "![image.png](attachment:image.png)\n",
    "사이킷런은 텍스트로부터 바로 카운트 Vector를 생성할 수 있는 `TfidfVectorizer클래스`와 이미 생성된 CountVector로부터 Tfidf를 적용한 CountVector로 변환하는 `TfidfTransformer클래스` 두가지를 제공한다.\n",
    "* 일반적으로, TF-IDF가 CountVectorizer하는 것보다 정확하다."
   ]
  },
  {
   "cell_type": "markdown",
   "id": "13946ae8",
   "metadata": {},
   "source": [
    "### TfidfTransformer를 사용"
   ]
  },
  {
   "cell_type": "code",
   "execution_count": 37,
   "id": "a65629ea",
   "metadata": {},
   "outputs": [
    {
     "data": {
      "text/plain": [
       "TfidfTransformer()"
      ]
     },
     "execution_count": 37,
     "metadata": {},
     "output_type": "execute_result"
    }
   ],
   "source": [
    "from sklearn.feature_extraction.text import TfidfTransformer\n",
    "transformer = TfidfTransformer()\n",
    "transformer"
   ]
  },
  {
   "cell_type": "code",
   "execution_count": 39,
   "id": "85fdfab2",
   "metadata": {},
   "outputs": [
    {
     "data": {
      "text/plain": [
       "array([[10,  0,  0, ...,  3,  0,  2],\n",
       "       [ 0,  0,  0, ...,  2,  0,  1],\n",
       "       [ 0,  0,  0, ...,  2,  1,  0],\n",
       "       ...,\n",
       "       [ 1,  1,  0, ...,  2,  2,  3],\n",
       "       [ 1,  0,  0, ...,  1,  0,  0],\n",
       "       [ 0,  0,  0, ...,  2,  0,  1]])"
      ]
     },
     "execution_count": 39,
     "metadata": {},
     "output_type": "execute_result"
    }
   ],
   "source": [
    "reviews_cv.toarray()"
   ]
  },
  {
   "cell_type": "code",
   "execution_count": 40,
   "id": "ad3e65e4",
   "metadata": {},
   "outputs": [
    {
     "name": "stdout",
     "output_type": "stream",
     "text": [
      "shape (2000, 1000)\n",
      "[10  0  0  2  0  0  0  0  0  0  0  1  0  0  2  0  2  2  0  0]\n",
      "[0.36352951 0.         0.         0.02838787 0.         0.\n",
      " 0.         0.         0.         0.         0.         0.02536173\n",
      " 0.         0.         0.04851355 0.         0.03515255 0.05097422\n",
      " 0.         0.        ]\n"
     ]
    }
   ],
   "source": [
    "reviews_tfidf = transformer.fit_transform(reviews_cv)\n",
    "print(\"shape\",reviews_tfidf.shape)\n",
    "print(reviews_cv.toarray()[0][:20])\n",
    "print(reviews_tfidf.toarray()[0][:20])"
   ]
  },
  {
   "cell_type": "markdown",
   "id": "dbf4f81b",
   "metadata": {},
   "source": [
    "### TfidfVectorizer를 사용"
   ]
  },
  {
   "cell_type": "code",
   "execution_count": 42,
   "id": "d0bb06bc",
   "metadata": {},
   "outputs": [],
   "source": [
    "start = len(reviews[0])//2\n",
    "source = reviews[0][-start:]"
   ]
  },
  {
   "cell_type": "code",
   "execution_count": 43,
   "id": "21fbde9d",
   "metadata": {},
   "outputs": [
    {
     "data": {
      "text/plain": [
       "2000"
      ]
     },
     "execution_count": 43,
     "metadata": {},
     "output_type": "execute_result"
    }
   ],
   "source": [
    "len(reviews)"
   ]
  },
  {
   "cell_type": "code",
   "execution_count": 48,
   "id": "354c33df",
   "metadata": {},
   "outputs": [
    {
     "name": "stdout",
     "output_type": "stream",
     "text": [
      "가장 유사한 리뷰의 인덱스: 0\n"
     ]
    }
   ],
   "source": [
    "from sklearn.feature_extraction.text import TfidfVectorizer\n",
    "from sklearn.metrics.pairwise import cosine_similarity\n",
    "tf = TfidfVectorizer(max_features = 1000)\n",
    "reviews_tf = tf.fit_transform(reviews) # 2000x1000 matrix 생성\n",
    "source_tf = tf.transform([source]) # source 벡터화 1x1000 리스트 형태로 주어야한다.\n",
    "sim_result_tf = cosine_similarity(source_tf,reviews_tf) # 여기서 1x2000개의 행렬 생성 각 문서와 비교\n",
    "print(\"가장 유사한 리뷰의 인덱스:\",np.argmax(sim_result_tf[0]))"
   ]
  },
  {
   "cell_type": "code",
   "execution_count": 49,
   "id": "5cea9e46",
   "metadata": {},
   "outputs": [
    {
     "name": "stdout",
     "output_type": "stream",
     "text": [
      "일반 Count Vector: [   0  126 1501  100 1846  882 1560 1110    9 1570]\n",
      "일반 Tfidf Vector: [   0 1846  126 1570  420 1642  771 1993  225  883]\n"
     ]
    }
   ],
   "source": [
    "print(\"일반 Count Vector:\", (-sim_result[0]).argsort()[:10])\n",
    "print(\"일반 Tfidf Vector:\", (-sim_result_tf[0]).argsort()[:10])"
   ]
  },
  {
   "cell_type": "code",
   "execution_count": null,
   "id": "58fbd553",
   "metadata": {},
   "outputs": [],
   "source": []
  }
 ],
 "metadata": {
  "kernelspec": {
   "display_name": "sj_virtual",
   "language": "python",
   "name": "myvenv"
  },
  "language_info": {
   "codemirror_mode": {
    "name": "ipython",
    "version": 3
   },
   "file_extension": ".py",
   "mimetype": "text/x-python",
   "name": "python",
   "nbconvert_exporter": "python",
   "pygments_lexer": "ipython3",
   "version": "3.8.10"
  },
  "varInspector": {
   "cols": {
    "lenName": 16,
    "lenType": 16,
    "lenVar": 40
   },
   "kernels_config": {
    "python": {
     "delete_cmd_postfix": "",
     "delete_cmd_prefix": "del ",
     "library": "var_list.py",
     "varRefreshCmd": "print(var_dic_list())"
    },
    "r": {
     "delete_cmd_postfix": ") ",
     "delete_cmd_prefix": "rm(",
     "library": "var_list.r",
     "varRefreshCmd": "cat(var_dic_list()) "
    }
   },
   "types_to_exclude": [
    "module",
    "function",
    "builtin_function_or_method",
    "instance",
    "_Feature"
   ],
   "window_display": false
  }
 },
 "nbformat": 4,
 "nbformat_minor": 5
}
