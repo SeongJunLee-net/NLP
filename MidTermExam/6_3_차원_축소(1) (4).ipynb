{
 "cells": [
  {
   "cell_type": "markdown",
   "metadata": {
    "id": "BmABW6vCzWcJ"
   },
   "source": [
    "# [자연어처리]\n",
    "# 6주차(6-2). 차원 축소(1)\n",
    "\n",
    "\n",
    "\n"
   ]
  },
  {
   "cell_type": "markdown",
   "metadata": {
    "id": "5we6SKl61jX1"
   },
   "source": [
    "# 201900278 이성준 <- 본인의 학번, 이름으로 변경하여 제출\n",
    "* **모든 셀 실행** 후 제출하시기 바랍니다.\n",
    "* **실습 (6-2-1, 6-2-2)**이 있습니다. (제출 기한: 10/11(수) 23시 59분까지)"
   ]
  },
  {
   "cell_type": "markdown",
   "metadata": {
    "id": "oLw4XETF1mbE"
   },
   "source": [
    "# 이제 Colab 사용에 모든 수강생분들이 어느정도 익숙해 졌을 거라 생각됩니다!\n",
    "> ##### 중간 중간 **'### ... 이 부분을 완성하시오'** 라는 부분의 코드를 완성해야 합니다.\n",
    "\n",
    "\n",
    "\n"
   ]
  },
  {
   "cell_type": "markdown",
   "metadata": {
    "id": "ukmO4Ra21cnf"
   },
   "source": [
    "## 5주차 수업 내용 리뷰 & 정규 표현식 마무리 -시작-"
   ]
  },
  {
   "cell_type": "code",
   "execution_count": 1,
   "metadata": {
    "colab": {
     "base_uri": "https://localhost:8080/"
    },
    "id": "4BTuxc4W4hvP",
    "outputId": "e15c8939-7acf-4c3b-d362-ce57dcf2b71f"
   },
   "outputs": [
    {
     "name": "stdout",
     "output_type": "stream",
     "text": [
      "python\n"
     ]
    }
   ],
   "source": [
    "import re\n",
    "\n",
    "m = re.match('[a-z]+', \"python\")\n",
    "print(m.group())"
   ]
  },
  {
   "cell_type": "code",
   "execution_count": 2,
   "metadata": {
    "colab": {
     "base_uri": "https://localhost:8080/"
    },
    "id": "bAJ_CiVb4rmn",
    "outputId": "0e391eac-3dce-4250-9f15-ba69462af466"
   },
   "outputs": [
    {
     "name": "stdout",
     "output_type": "stream",
     "text": [
      "python\n"
     ]
    }
   ],
   "source": [
    "# re.compile() 이용하여 작성해보기\n",
    "# import re는 다시 선언해주지 않아도 되나, 이해를 돕기 위해 매 셀에서 작성되어 있음\n",
    "import re\n",
    "\n",
    "pattern = re.compile('[a-z]+')\n",
    "m = pattern.match(\"python\")\n",
    "print(m.group())"
   ]
  },
  {
   "cell_type": "code",
   "execution_count": 3,
   "metadata": {
    "colab": {
     "base_uri": "https://localhost:8080/"
    },
    "id": "oJIRLsl6T1bY",
    "outputId": "b96b3277-094e-41e0-f0f8-c1605dee22d1"
   },
   "outputs": [
    {
     "name": "stdout",
     "output_type": "stream",
     "text": [
      "***\n"
     ]
    }
   ],
   "source": [
    "s = pattern.sub(\"***\", \"python\")\n",
    "print(s)"
   ]
  },
  {
   "cell_type": "code",
   "execution_count": 4,
   "metadata": {
    "colab": {
     "base_uri": "https://localhost:8080/"
    },
    "id": "4Kl05zBbP3q_",
    "outputId": "e78a6f7e-a4c0-4e40-c461-2870e12e6271"
   },
   "outputs": [
    {
     "name": "stdout",
     "output_type": "stream",
     "text": [
      "*** ***\n"
     ]
    }
   ],
   "source": [
    "s = pattern.sub(\"***\",\"python programing\")\n",
    "print(s)"
   ]
  },
  {
   "cell_type": "code",
   "execution_count": 5,
   "metadata": {
    "id": "74ZvTEs87Lab"
   },
   "outputs": [],
   "source": [
    "text = '''오늘의 날씨는 전국적으로 맑을 예정입니다. 시원한 가을의 날씨를 느껴보세요.\n",
    "\n",
    "홍길동 빠른뉴스 기자(gildong@fastnews.com)'''"
   ]
  },
  {
   "cell_type": "code",
   "execution_count": 6,
   "metadata": {
    "colab": {
     "base_uri": "https://localhost:8080/",
     "height": 35
    },
    "id": "LDBGQtae8-9O",
    "outputId": "26012cd7-098c-4b12-e540-3b65af98b053"
   },
   "outputs": [
    {
     "data": {
      "text/plain": [
       "'오늘의 날씨는 전국적으로 맑을 예정입니다. 시원한 가을의 날씨를 느껴보세요.\\n\\n홍길동 빠른뉴스 기자'"
      ]
     },
     "execution_count": 6,
     "metadata": {},
     "output_type": "execute_result"
    }
   ],
   "source": [
    "# 괄호로 둘러싸인 이메일 주소 패턴을 정규 표현식으로 찾아내어 삭제하기\n",
    "import re\n",
    "\n",
    "# \\(  \\)는 괄호를 표현 \\. 은 .으로 인식시키기\n",
    "# pattern = '\\([A-Za-z0-9_\\.]+@[A-Za-z\\.]+[A-Za-z]\\)' 원래인데 이는 오류가 있음-> [A-Za-z\\.]+ 여기서 모두 커버\n",
    "pattern = '\\([A-Za-z0-9_\\.]+@[A-Za-z]+\\.[A-Za-z]+\\)'\n",
    "re.sub(pattern, \"\", text)"
   ]
  },
  {
   "cell_type": "code",
   "execution_count": 7,
   "metadata": {
    "colab": {
     "base_uri": "https://localhost:8080/",
     "height": 35
    },
    "id": "VyNeBiOCRxZn",
    "outputId": "8f54999d-4888-4377-a7f1-07b178847742"
   },
   "outputs": [
    {
     "data": {
      "text/plain": [
       "'오늘의 날씨는 전국적으로 맑을 예정입니다. 시원한 가을의 날씨를 느껴보세요.\\n\\n홍길동 빠른뉴스 기자(gildong@fastnews.com)'"
      ]
     },
     "execution_count": 7,
     "metadata": {},
     "output_type": "execute_result"
    }
   ],
   "source": [
    "text"
   ]
  },
  {
   "cell_type": "code",
   "execution_count": 8,
   "metadata": {
    "colab": {
     "base_uri": "https://localhost:8080/"
    },
    "id": "e2vzqKFK_Xk7",
    "outputId": "b4c1455c-6bb9-495e-907b-8faf3c204d48"
   },
   "outputs": [
    {
     "data": {
      "text/plain": [
       "<re.Match object; span=(55, 77), match='(gildong@fastnews.com)'>"
      ]
     },
     "execution_count": 8,
     "metadata": {},
     "output_type": "execute_result"
    }
   ],
   "source": [
    "# 이메일 주소의 마지막은 com, org, edu, net, co.kr 중 하나라고 가정한다면\n",
    "import re\n",
    "\n",
    "# |-> or을 의미한다.\n",
    "pattern = '\\([A-Za-z0-9_\\.]+@[A-Za-z]+\\.(com|org|edu|net|co.kr)\\)'\n",
    "re.sub(pattern, \"\", text)\n",
    "re.search(pattern,text)"
   ]
  },
  {
   "cell_type": "code",
   "execution_count": 9,
   "metadata": {
    "colab": {
     "base_uri": "https://localhost:8080/",
     "height": 35
    },
    "id": "HGtxzjEPZ6_1",
    "outputId": "7953558e-af1b-4d65-aa06-90f2c9f7e305"
   },
   "outputs": [
    {
     "data": {
      "text/plain": [
       "'오늘의 날씨는 전국적으로 맑을 예정입니다. 시원한 가을의 날씨를 느껴보세요.\\n\\n홍길동 빠른뉴스 기자(gildong@fastnews.com)'"
      ]
     },
     "execution_count": 9,
     "metadata": {},
     "output_type": "execute_result"
    }
   ],
   "source": [
    "text"
   ]
  },
  {
   "cell_type": "code",
   "execution_count": 10,
   "metadata": {
    "colab": {
     "base_uri": "https://localhost:8080/"
    },
    "id": "JYHCh9lRTgt4",
    "outputId": "1a4c5190-8d41-477c-e2d7-c4a2b4d46c5a"
   },
   "outputs": [
    {
     "name": "stdout",
     "output_type": "stream",
     "text": [
      "None\n"
     ]
    }
   ],
   "source": [
    "A = re.match(pattern,text) # re.match()는 첫번째 부터 맞아야 하는데 현재 임의 포인트를 Target하고 있기 때문에 맞지 않는다.\n",
    "print(A)"
   ]
  },
  {
   "cell_type": "code",
   "execution_count": 11,
   "metadata": {
    "colab": {
     "base_uri": "https://localhost:8080/",
     "height": 35
    },
    "id": "11ytpKD4_1Kp",
    "outputId": "cf924711-fbd1-4637-8495-a058c5bf2a83"
   },
   "outputs": [
    {
     "data": {
      "text/plain": [
       "'오늘의 날씨는 전국적으로 맑을 예정입니다. 시원한 가을의 날씨를 느껴보세요.\\n\\n홍길동 빠른뉴스 기자'"
      ]
     },
     "execution_count": 11,
     "metadata": {},
     "output_type": "execute_result"
    }
   ],
   "source": [
    "# re.compile() 이용하여 작성해보기\n",
    "import re\n",
    "\n",
    "# 위의 코드를 re.compile() 이용하여 작성해보시오\n",
    "pattern = re.compile('\\([A-Za-z0-9_\\.]+@[A-Za-z]+\\.[A-Za-z]+\\)')\n",
    "pattern.sub(\"\",text)"
   ]
  },
  {
   "cell_type": "code",
   "execution_count": 12,
   "metadata": {
    "colab": {
     "base_uri": "https://localhost:8080/"
    },
    "id": "tOLpEXTx134V",
    "outputId": "ddc4b5ce-3cb8-4fae-cc91-9eb9f2e534f3"
   },
   "outputs": [
    {
     "name": "stdout",
     "output_type": "stream",
     "text": [
      "['1234', '5678']\n"
     ]
    }
   ],
   "source": [
    "import re\n",
    "\n",
    "text = \"안녕하세요, 1234는 숫자이고 5678도 숫자입니다.\"\n",
    "pattern = r'\\d+'  # 하나 이상의 연속된 숫자에 대한 패턴\n",
    "numbers = re.findall(pattern, text)\n",
    "print(numbers)  # ['1234', '5678']"
   ]
  },
  {
   "cell_type": "code",
   "execution_count": 13,
   "metadata": {
    "colab": {
     "base_uri": "https://localhost:8080/"
    },
    "id": "a--U9noS3mbz",
    "outputId": "27ef4093-174e-4163-c1d7-628125bd767b"
   },
   "outputs": [
    {
     "name": "stdout",
     "output_type": "stream",
     "text": [
      "['1234', '5678']\n"
     ]
    }
   ],
   "source": [
    "import re\n",
    "\n",
    "# 정규 표현식을 컴파일하여 pattern 객체 생성\n",
    "text = \"안녕하세요, 1234는 숫자이고 5678도 숫자입니다.\"\n",
    "pattern = re.compile(r'\\d+')\n",
    "numbers = pattern.findall(text)\n",
    "print(numbers)  # ['1234', '5678']"
   ]
  },
  {
   "cell_type": "code",
   "execution_count": 15,
   "metadata": {},
   "outputs": [
    {
     "name": "stdout",
     "output_type": "stream",
     "text": [
      "Defaulting to user installation because normal site-packages is not writeable\n",
      "Collecting nltk\n",
      "  Using cached nltk-3.8.1-py3-none-any.whl (1.5 MB)\n",
      "Requirement already satisfied: click in /usr/lib/python3/dist-packages (from nltk) (7.0)\n",
      "Requirement already satisfied: joblib in /usr/local/lib/python3.8/dist-packages (from nltk) (1.2.0)\n",
      "Collecting regex>=2021.8.3 (from nltk)\n",
      "  Downloading regex-2023.10.3-cp38-cp38-manylinux_2_17_x86_64.manylinux2014_x86_64.whl (776 kB)\n",
      "\u001b[2K     \u001b[90m━━━━━━━━━━━━━━━━━━━━━━━━━━━━━━━━━━━━━━━\u001b[0m \u001b[32m777.0/777.0 kB\u001b[0m \u001b[31m1.3 MB/s\u001b[0m eta \u001b[36m0:00:00\u001b[0m00:01\u001b[0m00:01\u001b[0m\n",
      "\u001b[?25hRequirement already satisfied: tqdm in /usr/local/lib/python3.8/dist-packages (from nltk) (4.64.1)\n",
      "Installing collected packages: regex, nltk\n",
      "\u001b[33m  WARNING: The script nltk is installed in '/home/sjlee/.local/bin' which is not on PATH.\n",
      "  Consider adding this directory to PATH or, if you prefer to suppress this warning, use --no-warn-script-location.\u001b[0m\u001b[33m\n",
      "\u001b[0mSuccessfully installed nltk-3.8.1 regex-2023.10.3\n",
      "\n",
      "\u001b[1m[\u001b[0m\u001b[34;49mnotice\u001b[0m\u001b[1;39;49m]\u001b[0m\u001b[39;49m A new release of pip is available: \u001b[0m\u001b[31;49m23.1.2\u001b[0m\u001b[39;49m -> \u001b[0m\u001b[32;49m23.3.1\u001b[0m\n",
      "\u001b[1m[\u001b[0m\u001b[34;49mnotice\u001b[0m\u001b[1;39;49m]\u001b[0m\u001b[39;49m To update, run: \u001b[0m\u001b[32;49mpython3 -m pip install --upgrade pip\u001b[0m\n"
     ]
    }
   ],
   "source": [
    "!pip install nltk"
   ]
  },
  {
   "cell_type": "code",
   "execution_count": 16,
   "metadata": {
    "colab": {
     "base_uri": "https://localhost:8080/"
    },
    "id": "zvdMxSdeA7kX",
    "outputId": "269d43ce-d3f6-4b78-f72d-a95da0bb8bcc"
   },
   "outputs": [
    {
     "name": "stdout",
     "output_type": "stream",
     "text": [
      "['sorry', \"can't\", 'there']\n"
     ]
    }
   ],
   "source": [
    "# 정규 표현식을 이용한 토크나이저\n",
    "# A RegexpTokenizer splits a string into substrings using a regular expression.\n",
    "from nltk.tokenize import RegexpTokenizer\n",
    "\n",
    "text1 = \"Sorry, I can't go there.\"\n",
    "# 문자, 숫자, 언더바(_), 아포스트로피(＇)로 이루어진 3자 이상의 단어로 토크나이즈\n",
    "tokenizer = RegexpTokenizer(\"[\\w']{3,}\") ### ... 이 부분을 완성하시오 # ???는 tokenizer 이름\n",
    "print(tokenizer.tokenize(text1.lower())) # 소문자로 바꾸고 정규식 적용"
   ]
  },
  {
   "cell_type": "markdown",
   "metadata": {
    "id": "Dxt1PUGd2FTe"
   },
   "source": [
    "# [[실습 6-2-1]] 이메일 주소를 찾는 정규 표현식\n",
    "* 정규 표현식의 패턴은 다양하게 작성될 수 있습니다. 이번에는 이메일 주소를 분류하는 정규표현식을 **\\w**를 사용하여 작성해 보시오. (\\w를 포함하기만 하면 되고, 그 외에는 자유)\n",
    "1. 여러분이 생각하는 이메일 주소의 **규칙**을 적고, 그에 대한 정규 표현식을 만들어 보세요.\n",
    "> 예시) 이메일 주소는 id@domain와 같이 이루어져 있음 <br>\n",
    "> * 규칙1. id는 길이가 10이하여야 하고, 문자(대문자, 소문자), 숫자, _로만 이루어져야 함 <br>\n",
    "> * 규칙2. domin은 naver.com, inu.ac.kr, cse.inu.ac.kr과 같이 .을 단위로 2개~4개까지 이루어질 수 있음 <br>\n",
    "#### **[유의사항] 여러분만의 이메일 주소 '규칙1~규칙N'을 작성하여 제출 바랍니다. (위에 작성된 것은 참고용 예시임)**\n",
    "2. 규칙을 만족하는/만족하지 않는 테스트 **예시 문장**을 만들고, **예상 결과**와 같이 잘 동작하는지 확인해 보세요.\n",
    "> 예시) <br>\n",
    "> 예시 문장) text = '홍길동(gildong2da@inu.ac.kr), 나학생(i_am_a_student@naver.com)' <br>\n",
    "> 예상 결과) ['gildong2da@inu.ac.kr', 'i_am_a_student@naver.com']\n",
    "#### **[유의사항] 여러분만의 '예시 문장'과 '예상 결과'를 작성하여 제출 바랍니다. (위에 작성된 것은 참고용 예시임)**\n",
    "3. 위의 1, 2를 이용하여 코드를 작성하세요.\n",
    "> 위의 숫자를 찾는 코드를 참고하여 작성하면 도움이 될 겁니다.\n",
    "```\n",
    "import re\n",
    "text = \"안녕하세요, 1234는 숫자이고 5678도 숫자입니다.\"\n",
    "pattern = re.compile(r'\\d+')\n",
    "numbers = pattern.findall(text)\n",
    "print(numbers)  # ['1234', '5678']\n",
    "```\n",
    "\n",
    "\n",
    "\n",
    "\n"
   ]
  },
  {
   "cell_type": "markdown",
   "metadata": {
    "id": "k5tOVw7i6E2q"
   },
   "source": [
    "1. 여러분이 생각하는 이메일 주소의 규칙을 적고, 그에 대한 정규 표현식을 만들어 보세요.\n",
    "* (1) @를 기준으로 앞에는 아이디가 써지고 뒤에는 .이 1개이상 나온다.\n",
    "* (2) 앞에 id는 너무 길어서는 안되고(최대 20 최소 7으로) 특수문자가 사용돼서는 안된다.\n",
    "2. 규칙을 만족하는/만족하지 않는 테스트 예시 문장을 만들고, 예상 결과와 같이 잘 동작하는지 확인해 보세요\n",
    "* (1) dsd0919@naver.com\n",
    "  * 예상결과 &rightarrow; dsd0919@naver.com\n",
    "* (2) dsd$$0919@naver.com\n",
    "  * 예상결과 &rightarrow; None\n",
    "* (3) dddddddddddddddddddd@inu.ac.kr\n",
    "  * 예상결과 &rightarrow; dddddddddddddddddddd@inu.ac.kr\n",
    "* (4) dsd0919@naver..com\n",
    "  * 예상결과 &rightarrow; dsd0919@naver..com\n",
    "    * &rightarrow; 이경우에는 유효성 체크를 필수적으로 해주어야 한다."
   ]
  },
  {
   "cell_type": "code",
   "execution_count": 65,
   "metadata": {
    "colab": {
     "base_uri": "https://localhost:8080/"
    },
    "id": "o93JKgxs7yMv",
    "outputId": "4c8cbddb-9de0-49a0-ff06-dcbe895669d4"
   },
   "outputs": [
    {
     "name": "stdout",
     "output_type": "stream",
     "text": [
      "['dsd0919@naver.com']\n",
      "[]\n",
      "['dddddddddddddddddddd@inu.ac.kr']\n",
      "['dsd0919@naver..com']\n"
     ]
    }
   ],
   "source": [
    "import re\n",
    "text1 = \"dsd0919@naver.com\"\n",
    "text2 = \"dsd$0919@naver.com\"\n",
    "text3 = \"dddddddddddddddddddd@inu.ac.kr\"\n",
    "text4 = \" dsd0919@naver..com\"\n",
    "pattern = re.compile(r'\\w{7,20}@[a-z\\.]+')\n",
    "email1 = pattern.findall(text1)\n",
    "email2 = pattern.findall(text2)\n",
    "email3 = pattern.findall(text3)\n",
    "email4 = pattern.findall(text4)\n",
    "print(email1)  # ['1234', '5678']\n",
    "print(email2)\n",
    "print(email3)\n",
    "print(email4)"
   ]
  },
  {
   "cell_type": "markdown",
   "metadata": {
    "id": "jzMl_Afb1vJ9"
   },
   "source": [
    "## 5주차 수업 내용 리뷰 & 정규 표현식 마무리 -끝-"
   ]
  },
  {
   "cell_type": "markdown",
   "metadata": {
    "id": "eAyiNA3YB9VO"
   },
   "source": [
    "---"
   ]
  },
  {
   "cell_type": "markdown",
   "metadata": {
    "id": "jNgIfKg8zWcL"
   },
   "source": [
    "## 6.2 PCA를 이용한 차원 축소\n",
    "\n"
   ]
  },
  {
   "cell_type": "markdown",
   "metadata": {
    "id": "gCb5DPXUGaak"
   },
   "source": [
    "데이터 셋 준비 (우리에게 익숙한 20newsgroups)"
   ]
  },
  {
   "cell_type": "code",
   "execution_count": 17,
   "metadata": {
    "id": "SWco5iOPzWcM"
   },
   "outputs": [],
   "source": [
    "from sklearn.datasets import fetch_20newsgroups\n",
    "\n",
    "#20개의 토픽 중 선택하고자 하는 토픽을 리스트로 생성\n",
    "categories = ['alt.atheism', 'talk.religion.misc', 'comp.graphics', 'sci.space']\n",
    "\n",
    "#학습 데이터셋을 가져옴\n",
    "#메일 내용에서 hint가 되는 부분을 삭제 - 순수하게 내용만으로 분류\n",
    "newsgroups_train = fetch_20newsgroups(subset='train',\n",
    "                                      remove=('headers', 'footers', 'quotes'),\n",
    "                                      categories=categories)\n",
    "#검증 데이터셋을 가져옴\n",
    "newsgroups_test = fetch_20newsgroups(subset='test',\n",
    "                                     remove=('headers', 'footers', 'quotes'),\n",
    "                                     categories=categories)\n",
    "\n",
    "X_train = newsgroups_train.data   #학습 데이터셋\n",
    "y_train = newsgroups_train.target #학습 데이터셋\n",
    "\n",
    "X_test = newsgroups_test.data     #검증 데이터셋\n",
    "y_test = newsgroups_test.target   #검증 데이터셋"
   ]
  },
  {
   "cell_type": "code",
   "execution_count": 21,
   "metadata": {},
   "outputs": [
    {
     "data": {
      "text/plain": [
       "{0, 1, 2, 3}"
      ]
     },
     "execution_count": 21,
     "metadata": {},
     "output_type": "execute_result"
    }
   ],
   "source": [
    "newsgroups_train.target_names\n",
    "set(y_train)"
   ]
  },
  {
   "cell_type": "markdown",
   "metadata": {
    "id": "d03KqvJwGe_k"
   },
   "source": [
    "전처리\n",
    "* 토큰화, 불용어처리, 스테밍\n"
   ]
  },
  {
   "cell_type": "code",
   "execution_count": 23,
   "metadata": {
    "colab": {
     "base_uri": "https://localhost:8080/"
    },
    "id": "RJKk1hCjGYwT",
    "outputId": "f9497f0a-a80c-4eee-fb8c-ab067fc3fdf3"
   },
   "outputs": [
    {
     "name": "stderr",
     "output_type": "stream",
     "text": [
      "[nltk_data] Downloading package stopwords to /home/sjlee/nltk_data...\n",
      "[nltk_data]   Package stopwords is already up-to-date!\n"
     ]
    },
    {
     "data": {
      "text/plain": [
       "True"
      ]
     },
     "execution_count": 23,
     "metadata": {},
     "output_type": "execute_result"
    }
   ],
   "source": [
    "import nltk\n",
    "\n",
    "nltk.download('stopwords')"
   ]
  },
  {
   "cell_type": "code",
   "execution_count": 25,
   "metadata": {
    "id": "SmkiLmtOGUEj"
   },
   "outputs": [],
   "source": [
    "from nltk.tokenize import RegexpTokenizer\n",
    "from nltk.corpus import stopwords\n",
    "from nltk.stem import PorterStemmer\n",
    "\n",
    "RegTok = RegexpTokenizer(\"[\\w']{3,}\") # 정규포현식으로 토크나이저를 정의\n",
    "english_stops = set(stopwords.words('english')) #영어 불용어를 가져옴\n",
    "stemmer = PorterStemmer() # 스테머로 포터스테머 사용\n",
    "\n",
    "def my_tokenizer(text):\n",
    "    tokens = RegTok.tokenize(text)\n",
    "    # stopwords 제외\n",
    "    words = [word for word in tokens if word not in english_stops]\n",
    "    # portr stemmer 적용\n",
    "    features = [stemmer.stem(token) for token in words]\n",
    "    return features"
   ]
  },
  {
   "cell_type": "code",
   "execution_count": 26,
   "metadata": {
    "colab": {
     "base_uri": "https://localhost:8080/"
    },
    "id": "vwcetq65SOa6",
    "outputId": "617eec59-7218-4f9b-b194-a403d1570268"
   },
   "outputs": [],
   "source": [
    "# 약간의 시간(약 30초)이 소요됩니다.\n",
    "from sklearn.feature_extraction.text import TfidfVectorizer\n",
    "\n",
    "#tfidf = TfidfVectorizer(tokenizer=my_tokenizer, max_features=2000, min_df=5, max_df=0.5)\n",
    "# 토큰화 외에 아무것도 적용하지 않은 채로 확인\n",
    "tfidf = TfidfVectorizer(tokenizer=my_tokenizer) ### ... 이 부분을 완성하시오\n",
    "X_train_tfidf = tfidf.fit_transform(X_train) # train set을 변환\n",
    "X_test_tfidf = tfidf.transform(X_test) # test set을 변환"
   ]
  },
  {
   "cell_type": "code",
   "execution_count": 27,
   "metadata": {
    "colab": {
     "base_uri": "https://localhost:8080/"
    },
    "id": "62cFIpxfIwO0",
    "outputId": "60216f8f-3f2b-489c-d261-7930e0cb4b35"
   },
   "outputs": [
    {
     "name": "stdout",
     "output_type": "stream",
     "text": [
      "Original tfidf matrix shape: (2034, 20085)\n"
     ]
    }
   ],
   "source": [
    "print('Original tfidf matrix shape:', X_train_tfidf.shape) ### ... 이 부분을 완성하시오"
   ]
  },
  {
   "cell_type": "markdown",
   "metadata": {
    "id": "HXcPNPweYTFA"
   },
   "source": [
    "현재 20000차원이다."
   ]
  },
  {
   "cell_type": "markdown",
   "metadata": {
    "id": "9Zv8i3kEH9Lb"
   },
   "source": [
    "(방법 1) 차원 축소 방법을 적용하기 전의 Logistic Regression을 이용한 분류 성능 확인"
   ]
  },
  {
   "cell_type": "code",
   "execution_count": 28,
   "metadata": {
    "colab": {
     "base_uri": "https://localhost:8080/"
    },
    "id": "ofJSNPVozWcN",
    "outputId": "b1452458-061f-4f64-8f4d-8768d4e0177d"
   },
   "outputs": [
    {
     "name": "stdout",
     "output_type": "stream",
     "text": [
      "#Train set score: 0.962\n",
      "#Test set score: 0.761\n"
     ]
    }
   ],
   "source": [
    "from sklearn.linear_model import LogisticRegression\n",
    "\n",
    "LR_clf = LogisticRegression() #분류기 선언\n",
    "LR_clf.fit(X_train_tfidf, y_train) # train data를 이용하여 분류기를 학습\n",
    "print('#Train set score: {:.3f}'.format(LR_clf.score(X_train_tfidf, y_train)))\n",
    "print('#Test set score: {:.3f}'.format(LR_clf.score(X_test_tfidf, y_test)))"
   ]
  },
  {
   "cell_type": "markdown",
   "metadata": {
    "id": "Gfif_glrNKfd"
   },
   "source": [
    "(방법 2) 차원 축소 방법을 적용한 후의 Logistic Regression을 이용한 분류 성능 확인\n",
    "* 차원 축소 방법인 PCA를 적용\n",
    "* 2000차원으로 축소한 뒤 Logistic Regression을 이용한 분류 성능 확인"
   ]
  },
  {
   "cell_type": "markdown",
   "metadata": {
    "id": "i8h8xrw9zWcN"
   },
   "source": [
    "https://scikit-learn.org/stable/modules/generated/sklearn.decomposition.PCA.html"
   ]
  },
  {
   "cell_type": "markdown",
   "metadata": {
    "id": "-m5dR3cbI04Z"
   },
   "source": [
    "explained_variance_ratio_\n",
    "-> 얼마나 분산이 유지됐는가?<br>\n",
    "(현재의 분산)/(이전의 분산)\n",
    "- Percentage of variance explained by each of the selected components.\n",
    "- If n_components is not set then all components are stored and the sum of the ratios is equal to 1.0.\n",
    "- 각각의 새로운 축에 대해, 축소 전 분산에 대한 비율\n",
    "- 만일 새로운 축들이 원래의 분산을 모두 설명해준다면 explained_variance_ratio_의 합은 1이 될 것임"
   ]
  },
  {
   "cell_type": "code",
   "execution_count": 29,
   "metadata": {
    "colab": {
     "base_uri": "https://localhost:8080/"
    },
    "id": "3C-uLYPbzWcO",
    "outputId": "be9e8999-fea0-4dff-aad4-2dc8f8912bd5"
   },
   "outputs": [
    {
     "name": "stdout",
     "output_type": "stream",
     "text": [
      "Original tfidf matrix shape: (2034, 20085)\n",
      "PCA Converted matrix shape: (2034, 2000)\n",
      "Sum of explained variance ratio: 1.000\n"
     ]
    }
   ],
   "source": [
    "# 약간의 시간(약 30초)이 소요됩니다.\n",
    "from sklearn.decomposition import PCA\n",
    "\n",
    "#  20,085 차원을 2,000 차원으로 축소\n",
    "pca = PCA(n_components=2000, random_state=7) ### ... 이 부분을 완성하시오\n",
    "X_train_pca = pca.fit_transform(X_train_tfidf.toarray()) # Principal Component Analysis를 적용하기 위해서는 array형태로 바꿔줘야됨\n",
    "X_test_pca = pca.transform(X_test_tfidf.toarray())\n",
    "# 적용결과는 2차원 array로 변화함\n",
    "print('Original tfidf matrix shape:', X_train_tfidf.shape)\n",
    "print('PCA Converted matrix shape:', X_train_pca.shape)\n",
    "print('Sum of explained variance ratio: {:.3f}'.format(pca.explained_variance_ratio_.sum())) ### ... 이 부분을 완성하시오\n",
    "\n",
    "# 결과를 보면 유지했음을 알 수 있다."
   ]
  },
  {
   "cell_type": "code",
   "execution_count": 30,
   "metadata": {
    "colab": {
     "base_uri": "https://localhost:8080/"
    },
    "id": "5oW4iq1IzWcO",
    "outputId": "85751fc0-410e-4af4-ad6a-5b73a127e8cf"
   },
   "outputs": [
    {
     "name": "stdout",
     "output_type": "stream",
     "text": [
      "#Train set score: 0.962\n",
      "#Test set score: 0.761\n"
     ]
    }
   ],
   "source": [
    "# PCA로 차원 축소된 X 데이터 이용\n",
    "LR_clf.fit(X_train_pca, y_train) ### ... 이 부분을 완성하시오\n",
    "print('#Train set score: {:.3f}'.format(LR_clf.score(X_train_pca, y_train))) ### ... 이 부분을 완성하시오\n",
    "print('#Test set score: {:.3f}'.format(LR_clf.score(X_test_pca, y_test))) ### ... 이 부분을 완성하시오\n",
    "\n",
    "# 성능이 유지된것을 확인할 수 있다."
   ]
  },
  {
   "cell_type": "markdown",
   "metadata": {
    "id": "_EpP6b_BLEcF"
   },
   "source": [
    "(방법 3) 특성 선택 방식인 라쏘 회귀를 이용\n",
    "* lasso_clf = LogisticRegression(penalty='l1', solver='liblinear', C=1)\n",
    "* 차원을 축소"
   ]
  },
  {
   "cell_type": "code",
   "execution_count": 33,
   "metadata": {
    "colab": {
     "base_uri": "https://localhost:8080/"
    },
    "id": "2NLdjV-ZzWcO",
    "outputId": "0f9ba686-5681-4a0a-e1ed-e0526ed7d21b"
   },
   "outputs": [
    {
     "name": "stdout",
     "output_type": "stream",
     "text": [
      "#Train set score: 0.790\n",
      "#Test set score: 0.718\n",
      "#Used features count: 321 out of 20085\n"
     ]
    }
   ],
   "source": [
    "lasso_clf = LogisticRegression(penalty='l1', solver='liblinear', C=1)\n",
    "lasso_clf.fit(X_train_tfidf, y_train)\n",
    "\n",
    "print('#Train set score: {:.3f}'.format(lasso_clf.score(X_train_tfidf, y_train)))\n",
    "print('#Test set score: {:.3f}'.format(lasso_clf.score(X_test_tfidf, y_test)))\n",
    "\n",
    "import numpy as np\n",
    "# 계수(coefficient) 중에서 0이 아닌 것들의 개수를 출력 lasso_clf.coef_는 4x20085 형식 이중 0이 아닌 단어들 추출\n",
    "print('#Used features count: {}'.format(np.sum(lasso_clf.coef_ != 0)), 'out of', X_train_tfidf.shape[1])\n",
    "\n",
    "# 라쏘회귀는 피쳐를 322개만을 사용한 것을 알 수 있다."
   ]
  },
  {
   "cell_type": "markdown",
   "metadata": {
    "id": "QECbJup6MxJL"
   },
   "source": [
    "(방법 4) 특성 추출 추출 방식인 PCA를 이용\n",
    "- 차원의 수를 322개로 축소\n",
    "- pca = PCA(n_components=322, random_state=7)\n"
   ]
  },
  {
   "cell_type": "code",
   "execution_count": 34,
   "metadata": {
    "colab": {
     "base_uri": "https://localhost:8080/"
    },
    "id": "B28LMdm2zWcO",
    "outputId": "72bbc1ce-003f-40fa-aa14-fb4436832a5e"
   },
   "outputs": [
    {
     "name": "stdout",
     "output_type": "stream",
     "text": [
      "PCA Converted X shape: (2034, 322)\n",
      "Sum of explained variance ratio: 0.438\n",
      "#Train set score: 0.870\n",
      "#Test set score: 0.747\n"
     ]
    }
   ],
   "source": [
    "# 약간의 시간(약 30초)이 소요됩니다.\n",
    "pca = PCA(n_components=322, random_state=7) ### ... 이 부분을 완성하시오\n",
    "\n",
    "# pca는 sparse한 Input을 지원하지않기 때문에 toarray()를 붙여 numpy input으로 만들어주어야 한다.\n",
    "X_train_pca = pca.fit_transform(X_train_tfidf.toarray()) ### ... 이 부분을 완성하시오\n",
    "X_test_pca = pca.transform(X_test_tfidf.toarray()) ### ... 이 부분을 완성하시오\n",
    "\n",
    "# 322차원으로 줄어든 것을 확인\n",
    "print('PCA Converted X shape:', X_train_pca.shape) ### ... 이 부분을 완성하시오\n",
    "print('Sum of explained variance ratio: {:.3f}'.format(pca.explained_variance_ratio_.sum()))  ### ... 이 부분을 완성하시오\n",
    "# 2,000개에 비해 정보량이 절반 이하로 줄어들었음\n",
    "# 분산이 0.438로 낮아졌기 때문에 정보손실이생긴다.\n",
    "\n",
    "LR_clf.fit(X_train_pca, y_train)  # 322차원으로 줄어든 것을 확인\n",
    "print('#Train set score: {:.3f}'.format(LR_clf.score(X_train_pca, y_train)))  ### ... 이 부분을 완성하시오\n",
    "print('#Test set score: {:.3f}'.format(LR_clf.score(X_test_pca, y_test))) ### ... 이 부분을 완성하시오\n",
    "# 라쏘 회귀분석(0.718)을 이용한 특성 선택보다 더 좋은 성능을 보임"
   ]
  },
  {
   "cell_type": "markdown",
   "metadata": {
    "id": "OnYKkRBHMl6Q"
   },
   "source": [
    "(방법 5) 그러면 322개보다 더 줄여서 100개만 이용해보자.\n",
    "- 여전히 라쏘 회귀분석보다 좋은지 확인\n"
   ]
  },
  {
   "cell_type": "code",
   "execution_count": 35,
   "metadata": {
    "colab": {
     "base_uri": "https://localhost:8080/"
    },
    "id": "xBXkNpbCzWcP",
    "outputId": "bef91fd5-fe76-4124-c70b-41b2588b5ae6"
   },
   "outputs": [
    {
     "name": "stdout",
     "output_type": "stream",
     "text": [
      "PCA Converted X shape: (2034, 100)\n",
      "Sum of explained variance ratio: 0.211\n",
      "#Train set score: 0.807\n",
      "#Test set score: 0.738\n"
     ]
    }
   ],
   "source": [
    "# 약간의 시간(약 30초)이 소요됩니다.\n",
    "pca = PCA(n_components=100, random_state=7)\n",
    "\n",
    "X_train_pca = pca.fit_transform(X_train_tfidf.toarray())\n",
    "X_test_pca = pca.transform(X_test_tfidf.toarray())\n",
    "print('PCA Converted X shape:', X_train_pca.shape)\n",
    "print('Sum of explained variance ratio: {:.3f}'.format(pca.explained_variance_ratio_.sum()))\n",
    "\n",
    "LR_clf.fit(X_train_pca, y_train)\n",
    "print('#Train set score: {:.3f}'.format(LR_clf.score(X_train_pca, y_train)))\n",
    "print('#Test set score: {:.3f}'.format(LR_clf.score(X_test_pca, y_test)))\n",
    "# 라쏘 회귀분석(0.718)을 이용한 특성 선택보다 더 좋은 성능을 보임"
   ]
  },
  {
   "cell_type": "markdown",
   "metadata": {
    "id": "TctTtgF52BxA"
   },
   "source": [
    "# [[실습 6-2-2]] 방법 1 ~ 방법 5의 Test set score를 비교하고, 어떤 방법이 가장 좋은지 결론을 내리시오.\n",
    "> (가능한 경우에만 작성) 수업 중 설명된 내용을 종합하여 방법 1 ~ 방법 5를 비교 설명해보시오.<br>\n",
    "\n",
    "**(방법 1) 차원 축소 방법을 적용하기 전의 Logistic Regression을 이용한 분류 성능 확인**\n",
    "- 방법 1의 Test set score: 0.761 (복붙)\n",
    "\n",
    "**(방법 2) 차원 축소 방법을 적용한 후의 Logistic Regression을 이용한 분류 성능 확인**\n",
    "- 방법 2의 Test set score: 0.761 (복붙)\n",
    "\n",
    "**(방법 3) 특성 선택 방식인 라쏘 회귀를 이용**\n",
    "- 방법 3의 Test set score: 0.718 (복붙)\n",
    "\n",
    "**(방법 4) 특성 추출 추출 방식인 PCA를 이용**\n",
    "- 방법 4의 Test set score: 0.747 (복붙)\n",
    "\n",
    "**(방법 5) 그러면 322개보다 더 줄여서 100개만 이용해보자.**\n",
    "- 방법 5의 Test set score: 0.738 (복붙)\n",
    "\n",
    "비교 결과 작성: ...\n",
    "> (예시) 0.761 (방법 1) >= 0.761 (방법 2) > 0.747 (방법 4) > 0.738 (방법 5) > 0.718 (방법 3). 따라서 방법 1, 방법 2가 가장 좋다.\n",
    "\n",
    "&rightarrow;\n",
    "방법1은 일반 로지스틱 회귀방식이다. Train Set Score가 높고 그에비해 Test Set Score가 낮아 과적합이라고 볼 수 있지만, 그럼에도 가장 높은 성능을 보이는 이유는 Test Set이 Train Set과 유사하기 때문에 그렇다고 보여진다.\n",
    "\n",
    "방법2는 이에 비해서 차원 축소 방법을 적용해 Train Set과 TestSet을 구현한 것으로써, 방법 1과 똑같은 성능을 보임에도 이것이 피쳐가 더 적은 갯수로 유사한 성능을 이끌어냈기 때문에 데이터에 대해서 robust한 모델이라고 볼 수 있다.\n",
    "\n",
    "방법 3은 라쏘회귀를 이용하였는데 라쏘회귀의 특성상 0에 가까운 계수들 즉, 거의 쓸모 없다고 볼 수 있는 계수들은 0으로 수렴할 확률이 높은 것을 알 수 있다. 따라서 322개의 특성을 사용하였는데, 이는 rough하게 정보를 덜어낸 것이기에 underfitting이 됐다고 볼 수 있다.\n",
    "\n",
    "방법 4가 라쏘회귀와 다른점은 PCA를 이용해서 데이터의 분산을 최대한 유지하도록 하였고, 같은 분산에 대해서는 차이가 작은 axis를 선택하여서 데이터의 정보를 최대한 유지하려고 했다는 점에서 방법3보다 높은 점수를 기록했다고 볼 수 있다.\n",
    "\n",
    "방법 5는 원래의 데이터의 개수인 20000개에서 0.5%인 100개만을 사용해서 0.738을 기록햇음을 알 수 있다. 이는 PCA를 이용해서 데이터의 갯수를 극단으로 줄였음에도 좋은 성능을 보이고 있는데, Train 데이터와 Test 데이터 사이의 유사성도 영향을 미쳤다고 볼 수 있지만, PCA가 데이터의 정보를 최대한 잃지 않게 해준 영향도 있다\n"
   ]
  },
  {
   "cell_type": "markdown",
   "metadata": {
    "id": "vpyBCTOlOJjJ"
   },
   "source": []
  },
  {
   "cell_type": "markdown",
   "metadata": {
    "id": "iWmyIF9717_u"
   },
   "source": [
    "# [파일] -> [다운로드] -> [.ipynb 다운로드]\n",
    "# 제출 후 **구글 계정 로그아웃** 잘 하시기 바랍니다."
   ]
  }
 ],
 "metadata": {
  "colab": {
   "provenance": []
  },
  "kernelspec": {
   "display_name": "Python 3 (ipykernel)",
   "language": "python",
   "name": "python3"
  },
  "language_info": {
   "codemirror_mode": {
    "name": "ipython",
    "version": 3
   },
   "file_extension": ".py",
   "mimetype": "text/x-python",
   "name": "python",
   "nbconvert_exporter": "python",
   "pygments_lexer": "ipython3",
   "version": "3.8.10"
  },
  "toc": {
   "base_numbering": 1,
   "nav_menu": {},
   "number_sections": true,
   "sideBar": true,
   "skip_h1_title": false,
   "title_cell": "Table of Contents",
   "title_sidebar": "Contents",
   "toc_cell": true,
   "toc_position": {
    "height": "calc(100% - 180px)",
    "left": "10px",
    "top": "150px",
    "width": "165px"
   },
   "toc_section_display": true,
   "toc_window_display": false
  },
  "varInspector": {
   "cols": {
    "lenName": 16,
    "lenType": 16,
    "lenVar": 40
   },
   "kernels_config": {
    "python": {
     "delete_cmd_postfix": "",
     "delete_cmd_prefix": "del ",
     "library": "var_list.py",
     "varRefreshCmd": "print(var_dic_list())"
    },
    "r": {
     "delete_cmd_postfix": ") ",
     "delete_cmd_prefix": "rm(",
     "library": "var_list.r",
     "varRefreshCmd": "cat(var_dic_list()) "
    }
   },
   "types_to_exclude": [
    "module",
    "function",
    "builtin_function_or_method",
    "instance",
    "_Feature"
   ],
   "window_display": false
  }
 },
 "nbformat": 4,
 "nbformat_minor": 1
}
