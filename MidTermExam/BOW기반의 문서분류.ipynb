{
 "cells": [
  {
   "cell_type": "markdown",
   "id": "1fb693b8",
   "metadata": {},
   "source": [
    "# BOW기반의 문서 분류\n",
    "* 문서 분류는 주어진 문서에 대해 미리 정의된 클래스로 분류하는 작업을 말한다.\n",
    "* 문서분류의 예\n",
    "    * 메일의 내용을 분석해 스팸 메일의 여부를 결정하는 것\n",
    "    * 문서의 내용이 호의적인지 비호의적인지 알아내는 것 등등\n",
    "    \n",
    "<br>\n",
    "    \n",
    "* 이번장에서는 문서분류에 있어서 Benchmark Dataset인 20 newsgroups dataset을 사용할 것이다. (이 데이터를 사용하여 새로운 텍스트 마이닝 기법이 개발 됐을때, 그 기법의 성능을 평가하는 기준으로 많이 사용된다.\n",
    "\n",
    "* sklearn에서 20개의 토픽에 속한 18000여개의 문서를 다운받을 수 있도록 지원한다.\n",
    "    * `sklearn.datasets.fetch_20newsgroups`\n",
    "    \n",
    "* 사이킷런에서는 학습 데이터셋과 평가 데이터셋이 미리 분리돼 있어서 서로 다른 기법의 성능을 공정하게 비교할 수 있다.\n",
    "\n",
    "* 이외에도 사이킷런의 20 뉴스그룹 데이터는 다음과 같은 특징을 갖고 있다.\n",
    "    * `categories`: 매개변수를 이용해 20개의 topic중에서 원하는 토픽을 선택할 수 있다.\n",
    "    * `remove`: remove로 필요없는 데이터를 삭제할 수 있다.\n",
    "    * `.data`를 이용해서 텍스트의 내용을, `.target`은 **숫자로 표시된 라벨**을 가져오는데 사용딘다.\n",
    "    \n",
    "* 여기서는 topic을 4개만 선택해 수행하고자 한다.\n",
    "    * 이때, 문서안에서 header나 footers, quotes에 종종 토픽 이름이 쓰여져 있는 경우가 있어 힌트를 배제하기 위해서 remove로 제거했다."
   ]
  },
  {
   "cell_type": "code",
   "execution_count": 1,
   "id": "150de921",
   "metadata": {},
   "outputs": [
    {
     "name": "stdout",
     "output_type": "stream",
     "text": [
      "2034\n",
      "1353\n",
      "['alt.atheism', 'comp.graphics', 'sci.space', 'talk.religion.misc']\n",
      "{0, 1, 2, 3}\n"
     ]
    }
   ],
   "source": [
    "from sklearn.datasets import fetch_20newsgroups\n",
    "\n",
    "# 20개의 토픽중 사용하고자 하는 토픽을 리스트로 생성\n",
    "categories = ['alt.atheism','talk.religion.misc','comp.graphics','sci.space']\n",
    "\n",
    "# 학습 데이터셋을 가져온다.\n",
    "newsgroups_train = fetch_20newsgroups(subset = 'train',\n",
    "                                     remove = ('headers','footers','quotes'),\n",
    "                                     categories = categories)\n",
    "newsgroups_test = fetch_20newsgroups(subset = 'test',\n",
    "                                    remove = ('headers','footers','quotes'),\n",
    "                                    categories = categories)\n",
    "print(len(newsgroups_train.data))\n",
    "print(len(newsgroups_test.data))\n",
    "print(newsgroups_train.target_names)\n",
    "print(set(newsgroups_train.target))"
   ]
  },
  {
   "cell_type": "markdown",
   "id": "8d44a4b5",
   "metadata": {},
   "source": [
    "* `newsgroups_train.target_names`에는 토픽의 값이 들어있는데 여기에 있는 순서에 따라 `.target`의 순서가 정해진다."
   ]
  },
  {
   "cell_type": "code",
   "execution_count": 2,
   "id": "706b26fb",
   "metadata": {},
   "outputs": [
    {
     "name": "stdout",
     "output_type": "stream",
     "text": [
      "train set text samples: Hi,\n",
      "\n",
      "I've noticed that if you only save a model (with all your mapping planes\n",
      "positioned carefully) to a .3DS file that when you reload it after restarting\n",
      "3DS, they are given a default position and orientation.  But if you save\n",
      "to a .PRJ file their positions/orientation are preserved.  Does anyone\n",
      "know why this information is not stored in the .3DS file?  Nothing is\n",
      "explicitly said in the manual about saving texture rules in the .PRJ file. \n",
      "I'd like to be able to read the texture rule information, does anyone have \n",
      "the format for the .PRJ file?\n",
      "\n",
      "Is the .CEL file format available from somewhere?\n",
      "\n",
      "Rych\n",
      "train set label samples: 1\n",
      "test set text samples: TRry the SKywatch project in  Arizona.\n",
      "test set label sampples: 2\n"
     ]
    }
   ],
   "source": [
    "print(\"train set text samples:\", newsgroups_train.data[0])\n",
    "print(\"train set label samples:\", newsgroups_train.target[0])\n",
    "print(\"test set text samples:\", newsgroups_test.data[0])\n",
    "print(\"test set label sampples:\", newsgroups_test.target[0])"
   ]
  },
  {
   "cell_type": "markdown",
   "id": "27d8f579",
   "metadata": {},
   "source": [
    "* 위의 얘기를 토대로 확인해볼때 train_data의 첫번째 text 데이터는 label이 1번인덱스를 갖는 `comp.graphics`임을 알 수 있고\n",
    "* test_data의 첫번째 text 데이터는 label이 2번 인덱스르 갖는 `sci.space`임을 알 수 있다."
   ]
  },
  {
   "cell_type": "code",
   "execution_count": 3,
   "id": "28901b0b",
   "metadata": {},
   "outputs": [
    {
     "name": "stdout",
     "output_type": "stream",
     "text": [
      "train shape (2034, 2000)\n",
      "test shape (1353, 2000)\n"
     ]
    }
   ],
   "source": [
    "X_train = newsgroups_train.data # 학습 데이터셋 문서\n",
    "y_train = newsgroups_train.target # 학습 데이터셋 라벨\n",
    "\n",
    "X_test = newsgroups_test.data # 평가 데이터셋 문서\n",
    "y_test = newsgroups_test.target # 평가 데이터셋 라벨\n",
    "\n",
    "from sklearn.feature_extraction.text import CountVectorizer\n",
    "cv = CountVectorizer(max_features = 2000,min_df = 5, max_df = 0.5)\n",
    "X_train_cv = cv.fit_transform(X_train) # X_train을 Count Vector화 한다.\n",
    "print(\"train shape\", X_train_cv.shape)\n",
    "X_test_cv = cv.transform(X_test)\n",
    "print(\"test shape\",X_test_cv.shape)"
   ]
  },
  {
   "cell_type": "code",
   "execution_count": 4,
   "id": "5f8bc440",
   "metadata": {},
   "outputs": [
    {
     "name": "stdout",
     "output_type": "stream",
     "text": [
      "00 : 0, 000 : 0, 01 : 0, 04 : 0, 05 : 0, 10 : 0, 100 : 0, 1000 : 0, 11 : 0, 12 : 0, 128 : 0, 129 : 0, 13 : 0, 130 : 0, 14 : 0, 15 : 0, 16 : 0, 17 : 0, 18 : 0, 19 : 0, 1987 : 0, 1988 : 0, 1989 : 0, 1990 : 0, 1991 : 0, 1992 : 0, 1993 : 0, 20 : 0, 200 : 0, 202 : 0, 21 : 0, 22 : 0, 23 : 0, 24 : 0, 25 : 0, 256 : 0, 26 : 0, 27 : 0, 28 : 0, 2d : 0, 30 : 0, 300 : 0, 31 : 0, 32 : 0, 33 : 0, 34 : 0, 35 : 0, 39 : 0, 3d : 0, 40 : 0, 400 : 0, 42 : 0, 45 : 0, 50 : 0, 500 : 0, 60 : 0, 600 : 0, 65 : 0, 70 : 0, 75 : 0, 80 : 0, 800 : 0, 90 : 0, 900 : 0, 91 : 0, 92 : 0, 93 : 0, 95 : 0, _the : 0, ability : 0, able : 1, abortion : 0, about : 1, above : 0, absolute : 0, absolutely : 0, ac : 0, accept : 0, acceptable : 0, accepted : 0, access : 0, according : 0, account : 0, accurate : 0, across : 0, act : 0, action : 0, actions : 0, active : 0, activities : 0, activity : 0, acts : 0, actual : 0, actually : 0, ad : 0, add : 0, added : 0, addition : 0, additional : 0, address : 0, "
     ]
    }
   ],
   "source": [
    "# train data에 대해서 대략 어떤 단어가 얼마나 들엇는지 확인\n",
    "for word, count in zip(cv.get_feature_names_out()[:100], X_train_cv.toarray()[0,:100]): \n",
    "    print(word,':',count,end = ', ')"
   ]
  },
  {
   "cell_type": "markdown",
   "id": "ee18d607",
   "metadata": {},
   "source": [
    "## 머신러닝과 문서분류\n",
    "* 머신러닝과 문서분류는 다음과 같은 문서분류의 과정을 보여준다\n",
    "    * 데이터정제, 전처리\n",
    "    * 데이터 분리\n",
    "    * 머신러닝 학습\n",
    "    * 평가\n",
    "    * 최종모형 도출\n",
    "    * 예측\n",
    "\n",
    "* 학습된 모형에 대한 평가는 어떻게 이루어질까?\n",
    "    * &rightarrow; 성능을 평가하기 위한 지표에는 여러가지가 있지만 가장 많이 사용되는 지표는 정확도이다."
   ]
  },
  {
   "cell_type": "markdown",
   "id": "da034827",
   "metadata": {},
   "source": [
    "![image.png](data:image/png;base64,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)"
   ]
  },
  {
   "cell_type": "markdown",
   "id": "d7ac9fea",
   "metadata": {},
   "source": [
    "## Naive Bayse분류기를 이용한 문서분류\n",
    "핵심은 TrainSet에서 알 수 있는 정보는 각 샘플들의 단어의 개수들과 각 Label을 알 수 있고 이를 토대로 어떤 단어가 들어갈때 긍정일 확률을 구할 수 있다.\n",
    "<br>\n",
    "$P(긍정|특정 단어) = P(특정단어|긍정)\\times P(긍정)\\times (1/P(특정단어))$\n",
    "위와 같은 식조작을 통해서 우리는 특정단어가 들어갈때 긍정일 확률과 부정일 확률등을 구할 수 있다. 이것이 `fit`과정에서 일어나는 계산이고\n",
    "`predict`에서는 이를 위에서 구한 특정단어가 들어갔을때 긍정일 확률과 부정일 확률을 각각의 단어에 대해서 계산(Sum)을 해서 확률을 구하게 된다."
   ]
  },
  {
   "cell_type": "markdown",
   "id": "0fe63176",
   "metadata": {},
   "source": [
    "* `MultinomialNB()`는 이산적인 특성 값들을 이용해 분류를 하고자 할 때 사용한다.\n",
    "    * 우리의 경우에는 카운트 벡터가 이에 해당한다.\n",
    "    * **원칙적으로는 MultinomialNB는 이산적인 값(갯수)에 대해 사용하도록 돼있지만, TF-IDF와 같은 연속적인 값에 대해서도 잘 작동한다.**\n",
    "        * 우리 입장에서는 성능이 가장 중요하기 때문에 둘다 해본후 더 나은 모형을 선택하면 된다.\n",
    "        * 아래는 MultinomialNB() 객체를 생성한 이후에 학습을 진행한후 학습 데이터셋과 평가 데이터셋에 대해서 정확도를 계산했다."
   ]
  },
  {
   "cell_type": "markdown",
   "id": "e9b79071",
   "metadata": {},
   "source": [
    "* `MultinomialNB()`의 주요 파라미터\n",
    "    * `.score()` 클래스 메소드: 이를 이용해서 앞서 설명한 정확도를 반환한다.\n",
    "    * `fit()`: 앞에서 설명한 과정을 통해 모델을 fit 시킨다.\n",
    "    * `predict()`: predict메소드를 이용해서 특성을 주게 되면 그 특성에 해당하는 라벨을 반환한다. 이때, 실제 카테고리를 알고 싶다면 `newsgroups_train.target_names`를 출력한다."
   ]
  },
  {
   "cell_type": "code",
   "execution_count": 5,
   "id": "ce9b0ae0",
   "metadata": {},
   "outputs": [
    {
     "name": "stdout",
     "output_type": "stream",
     "text": [
      "Train set score: 0.824\n",
      "Test set score: 0.732\n"
     ]
    }
   ],
   "source": [
    "from sklearn.naive_bayes import MultinomialNB # sklearn이 제공하는 MultinomialNB 를 사용\n",
    "NB_clf = MultinomialNB() # 분류기 선언\n",
    "\n",
    "NB_clf.fit(X_train_cv, y_train) # train set을 이용하여 분류기(classifier)를 학습\n",
    "\n",
    "print('Train set score: {:.3f}'.format(NB_clf.score(X_train_cv, y_train))) # train set에 대한 예측정확도를 확인\n",
    "print('Test set score: {:.3f}'.format(NB_clf.score(X_test_cv, y_test))) # test set에 대한 예측정확도를 확인"
   ]
  },
  {
   "cell_type": "code",
   "execution_count": 6,
   "id": "b3ade74b",
   "metadata": {},
   "outputs": [
    {
     "name": "stdout",
     "output_type": "stream",
     "text": [
      "#First document and label in test data: TRry the SKywatch project in  Arizona. 2\n",
      "#Second document and label in test data: The Vatican library recently made a tour of the US.\n",
      " Can anyone help me in finding a FTP site where this collection is \n",
      " available. 1\n",
      "#Third document and label in test data: Hi there,\n",
      "\n",
      "I am here looking for some help.\n",
      "\n",
      "My friend is a interior decor designer. He is from Thailand. He is\n",
      "trying to find some graphics software on PC. Any suggestion on which\n",
      "software to buy,where to buy and how much it costs ? He likes the most\n",
      "sophisticated \n",
      "software(the more features it has,the better) 1\n",
      "#Predicted labels: [2 1 1]\n",
      "#Predicted categories: sci.space comp.graphics comp.graphics\n"
     ]
    }
   ],
   "source": [
    "print('#First document and label in test data:', X_test[0], y_test[0])\n",
    "print('#Second document and label in test data:', X_test[1], y_test[1])\n",
    "print('#Third document and label in test data:', X_test[2], y_test[2])\n",
    "\n",
    "pred = NB_clf.predict(X_test_cv[:3])\n",
    "\n",
    "print('#Predicted labels:', pred)\n",
    "print('#Predicted categories:',\n",
    "      newsgroups_train.target_names[pred[0]],\n",
    "      newsgroups_train.target_names[pred[1]],\n",
    "      newsgroups_train.target_names[pred[2]])"
   ]
  },
  {
   "cell_type": "code",
   "execution_count": 7,
   "id": "3cce8822",
   "metadata": {},
   "outputs": [
    {
     "data": {
      "text/plain": [
       "['alt.atheism', 'comp.graphics', 'sci.space', 'talk.religion.misc']"
      ]
     },
     "execution_count": 7,
     "metadata": {},
     "output_type": "execute_result"
    }
   ],
   "source": [
    "newsgroups_test.target_names # newsgroups_train과 .target_names가 동일하다."
   ]
  },
  {
   "cell_type": "code",
   "execution_count": 8,
   "id": "1b679b92",
   "metadata": {},
   "outputs": [
    {
     "name": "stdout",
     "output_type": "stream",
     "text": [
      "Train set score:  0.862\n",
      "Test set score:  0.741\n"
     ]
    }
   ],
   "source": [
    "from sklearn.feature_extraction.text import TfidfVectorizer\n",
    "from sklearn.naive_bayes import MultinomialNB\n",
    "\n",
    "cv_tfid = TfidfVectorizer(max_features = 2000,min_df = 5, max_df = 0.5)\n",
    "\n",
    "# sparse matrix를 그대로 받아들이는 것을 볼 수 있다.\n",
    "train_cv_tfid_matrix = cv_tfid.fit_transform(X_train)\n",
    "test_cv_tfid_matrix = cv_tfid.transform(X_test)\n",
    "\n",
    "naive_clf = MultinomialNB()\n",
    "naive_clf.fit(train_cv_tfid_matrix,y_train)\n",
    "print('Train set score:{0:7.3f}'.format(naive_clf.score(train_cv_tfid_matrix,y_train)))\n",
    "print('Test set score:{0:7.3f}'.format(naive_clf.score(test_cv_tfid_matrix, y_test))) # test set에 대한 예측정확도를 확인"
   ]
  },
  {
   "cell_type": "code",
   "execution_count": 11,
   "id": "16be6981",
   "metadata": {},
   "outputs": [
    {
     "data": {
      "text/plain": [
       "(4, 2000)"
      ]
     },
     "execution_count": 11,
     "metadata": {},
     "output_type": "execute_result"
    }
   ],
   "source": [
    "naive_clf.coef_.shape # 4개의 Target에 대해서 각 단어집합에 대한 계수가 Fit돼있다."
   ]
  },
  {
   "cell_type": "code",
   "execution_count": 12,
   "id": "5f2c4062",
   "metadata": {},
   "outputs": [
    {
     "name": "stdout",
     "output_type": "stream",
     "text": [
      "alt.atheism: you, not, are, be, this, have, as, what, they, if\n",
      "comp.graphics: you, on, graphics, this, have, any, can, or, with, thanks\n",
      "sci.space: space, on, you, be, was, this, as, they, have, are\n",
      "talk.religion.misc: you, not, he, are, as, this, be, god, was, they\n"
     ]
    }
   ],
   "source": [
    "def top10_features(classifier, vectorizer, categories):\n",
    "    # 단어집합을 array로 만들어놓음\n",
    "    feature_names = np.array(vectorizer.get_feature_names_out())\n",
    "    for i, category in enumerate(categories):\n",
    "        # 역순으로 정렬하기 위해 계수에 음수를 취해서 정렬 후 앞에서부터 10개의 값을 반환\n",
    "        # categories와 naive classifier에서는 각각의 count vector의 feature들의 계수\n",
    "        top10 = np.argsort(-classifier.coef_[i])[:10] # 내림차순 정렬 해서 상위 10개 뽑음\n",
    "        # 카테고리에 영향이 큰 특성 10개를 출력\n",
    "        print(\"{0}: {1}\".format(category, \", \".join(feature_names[top10])))\n",
    "top10_features(naive_clf,cv_tfid,newsgroups_train.target_names) "
   ]
  },
  {
   "cell_type": "code",
   "execution_count": 13,
   "id": "bbf9b172",
   "metadata": {},
   "outputs": [
    {
     "data": {
      "text/plain": [
       "{0, 1, 2, 3}"
      ]
     },
     "execution_count": 13,
     "metadata": {},
     "output_type": "execute_result"
    }
   ],
   "source": [
    "set(newsgroups_train.target)"
   ]
  },
  {
   "cell_type": "code",
   "execution_count": 14,
   "id": "19b97b5a",
   "metadata": {},
   "outputs": [
    {
     "name": "stdout",
     "output_type": "stream",
     "text": [
      "4\n",
      "2000\n"
     ]
    }
   ],
   "source": [
    "print(len(naive_clf.coef_))\n",
    "print(len(naive_clf.coef_[0])) \n",
    "# categories와 naive classifier에서는 각각의 count vector의 feature들의 계수\n",
    "# 즉 특정단어가 들어갔을때 label일 확률을 모아둔 것\n"
   ]
  },
  {
   "cell_type": "code",
   "execution_count": null,
   "id": "85306661",
   "metadata": {},
   "outputs": [],
   "source": []
  }
 ],
 "metadata": {
  "kernelspec": {
   "display_name": "sj_virtual",
   "language": "python",
   "name": "myvenv"
  },
  "language_info": {
   "codemirror_mode": {
    "name": "ipython",
    "version": 3
   },
   "file_extension": ".py",
   "mimetype": "text/x-python",
   "name": "python",
   "nbconvert_exporter": "python",
   "pygments_lexer": "ipython3",
   "version": "3.8.10"
  },
  "varInspector": {
   "cols": {
    "lenName": 16,
    "lenType": 16,
    "lenVar": 40
   },
   "kernels_config": {
    "python": {
     "delete_cmd_postfix": "",
     "delete_cmd_prefix": "del ",
     "library": "var_list.py",
     "varRefreshCmd": "print(var_dic_list())"
    },
    "r": {
     "delete_cmd_postfix": ") ",
     "delete_cmd_prefix": "rm(",
     "library": "var_list.r",
     "varRefreshCmd": "cat(var_dic_list()) "
    }
   },
   "types_to_exclude": [
    "module",
    "function",
    "builtin_function_or_method",
    "instance",
    "_Feature"
   ],
   "window_display": false
  }
 },
 "nbformat": 4,
 "nbformat_minor": 5
}
