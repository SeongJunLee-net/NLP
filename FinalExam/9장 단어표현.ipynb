{
 "cells": [
  {
   "cell_type": "markdown",
   "id": "c8e98d95",
   "metadata": {},
   "source": [
    "# Gensim을 사용한 Word2Vec 모델 학습\n",
    "* 데이터는 NSMC를 사용"
   ]
  },
  {
   "cell_type": "code",
   "execution_count": 1,
   "id": "0f5fad0a",
   "metadata": {},
   "outputs": [
    {
     "name": "stdout",
     "output_type": "stream",
     "text": [
      "Defaulting to user installation because normal site-packages is not writeable\n",
      "Collecting gensim\n",
      "  Downloading gensim-4.3.2-cp38-cp38-manylinux_2_17_x86_64.manylinux2014_x86_64.whl (26.6 MB)\n",
      "\u001b[2K     \u001b[90m━━━━━━━━━━━━━━━━━━━━━━━━━━━━━━━━━━━━━━━━\u001b[0m \u001b[32m26.6/26.6 MB\u001b[0m \u001b[31m10.7 MB/s\u001b[0m eta \u001b[36m0:00:00\u001b[0m00:01\u001b[0m00:01\u001b[0m\n",
      "\u001b[?25hRequirement already satisfied: numpy>=1.18.5 in /usr/local/lib/python3.8/dist-packages (from gensim) (1.23.5)\n",
      "Requirement already satisfied: scipy>=1.7.0 in /usr/local/lib/python3.8/dist-packages (from gensim) (1.9.3)\n",
      "Collecting smart-open>=1.8.1 (from gensim)\n",
      "  Downloading smart_open-6.4.0-py3-none-any.whl (57 kB)\n",
      "\u001b[2K     \u001b[90m━━━━━━━━━━━━━━━━━━━━━━━━━━━━━━━━━━━━━━━━\u001b[0m \u001b[32m57.0/57.0 kB\u001b[0m \u001b[31m7.0 MB/s\u001b[0m eta \u001b[36m0:00:00\u001b[0m\n",
      "\u001b[?25hInstalling collected packages: smart-open, gensim\n",
      "Successfully installed gensim-4.3.2 smart-open-6.4.0\n",
      "\n",
      "\u001b[1m[\u001b[0m\u001b[34;49mnotice\u001b[0m\u001b[1;39;49m]\u001b[0m\u001b[39;49m A new release of pip is available: \u001b[0m\u001b[31;49m23.1.2\u001b[0m\u001b[39;49m -> \u001b[0m\u001b[32;49m23.3.1\u001b[0m\n",
      "\u001b[1m[\u001b[0m\u001b[34;49mnotice\u001b[0m\u001b[1;39;49m]\u001b[0m\u001b[39;49m To update, run: \u001b[0m\u001b[32;49mpython3 -m pip install --upgrade pip\u001b[0m\n"
     ]
    }
   ],
   "source": [
    "!pip install gensim"
   ]
  },
  {
   "cell_type": "code",
   "execution_count": 1,
   "id": "9c57bea4",
   "metadata": {},
   "outputs": [],
   "source": [
    "from gensim.models import Word2Vec"
   ]
  },
  {
   "cell_type": "code",
   "execution_count": 2,
   "id": "6b321d2e",
   "metadata": {},
   "outputs": [],
   "source": [
    "def read_review(filename):\n",
    "    f = open(filename,'r',encoding = 'utf-8')\n",
    "    data = []\n",
    "    for line in f.readlines():\n",
    "        data.append(line.split('\\t'))\n",
    "    data = data[1:]\n",
    "    f.close()\n",
    "    return data"
   ]
  },
  {
   "cell_type": "code",
   "execution_count": 3,
   "id": "b6fd5bd4",
   "metadata": {},
   "outputs": [],
   "source": [
    "data = read_review('ratings.txt')"
   ]
  },
  {
   "cell_type": "code",
   "execution_count": 4,
   "id": "051b699e",
   "metadata": {},
   "outputs": [
    {
     "data": {
      "text/plain": [
       "['8112052', '어릴때보고 지금다시봐도 재밌어요ㅋㅋ', '1\\n']"
      ]
     },
     "execution_count": 4,
     "metadata": {},
     "output_type": "execute_result"
    }
   ],
   "source": [
    "data[0]"
   ]
  },
  {
   "cell_type": "code",
   "execution_count": 5,
   "id": "92a7d143",
   "metadata": {},
   "outputs": [
    {
     "name": "stdout",
     "output_type": "stream",
     "text": [
      "['어리', 'ㄹ', '때', '보고', '지금', '다시', '보', '아도', '재밌어요ㅋㅋ']\n"
     ]
    }
   ],
   "source": [
    "from konlpy.tag import Komoran\n",
    "komoran = Komoran()\n",
    "docs = []\n",
    "for sent in data:\n",
    "    docs.append(komoran.morphs(sent[1]))\n",
    "print(docs[0])"
   ]
  },
  {
   "cell_type": "code",
   "execution_count": 7,
   "id": "318313e0",
   "metadata": {
    "scrolled": true
   },
   "outputs": [
    {
     "data": {
      "text/plain": [
       "['디자인',\n",
       " '을',\n",
       " '배우',\n",
       " '는',\n",
       " '학생',\n",
       " '으로',\n",
       " ',',\n",
       " '외국',\n",
       " '디자이너',\n",
       " '와',\n",
       " '그',\n",
       " '들',\n",
       " '이',\n",
       " '일구',\n",
       " 'ㄴ',\n",
       " '전통',\n",
       " '을',\n",
       " '통하',\n",
       " '아',\n",
       " '발전',\n",
       " '하',\n",
       " '아',\n",
       " '가',\n",
       " '는',\n",
       " '문화',\n",
       " '산업',\n",
       " '이',\n",
       " '부럽',\n",
       " '었',\n",
       " '는데',\n",
       " '.',\n",
       " '사실',\n",
       " '우리나라',\n",
       " '에서',\n",
       " '도',\n",
       " '그',\n",
       " '어렵',\n",
       " 'ㄴ',\n",
       " '시절',\n",
       " '에',\n",
       " '끝',\n",
       " '까지',\n",
       " '열정',\n",
       " '을',\n",
       " '지키',\n",
       " 'ㄴ',\n",
       " '노라',\n",
       " '노',\n",
       " '같',\n",
       " '은',\n",
       " '전통',\n",
       " '이',\n",
       " '있',\n",
       " '어',\n",
       " '저',\n",
       " '와',\n",
       " '같',\n",
       " '은',\n",
       " '사람',\n",
       " '들',\n",
       " '이',\n",
       " '꿈',\n",
       " '을',\n",
       " '꾸',\n",
       " '고',\n",
       " '이루',\n",
       " '어',\n",
       " '나가',\n",
       " 'ㄹ',\n",
       " '수',\n",
       " '있',\n",
       " '다는',\n",
       " '것',\n",
       " '에',\n",
       " '감사',\n",
       " '하',\n",
       " 'ㅂ니다',\n",
       " '.']"
      ]
     },
     "execution_count": 7,
     "metadata": {},
     "output_type": "execute_result"
    }
   ],
   "source": [
    "docs[1]"
   ]
  },
  {
   "cell_type": "markdown",
   "id": "d6b710ce",
   "metadata": {},
   "source": [
    "## from gensim.models import Word2Vec 의 파라미터\n",
    "### Word2Vec의 mode에는 skip-gram과 CBOW가 있음\n",
    "* sentences: Word2Vec모델 학습에 필요한 문장 데이터\n",
    "* size: 임베딩된 벡터의 차원\n",
    "* window: 주변 단어 윈도우의 크기\n",
    "* hs: 0 -> negative sampling / 1 -> hierarchical softmax\n",
    "    * Word2Vec은 다른 기법들을 사용해서 계산 복잡도를 줄일 수 있다.\n",
    "* min_count: 단어 최소 빈도수 제한( 한번 등장하는 것에 대해서도 word embedding vector를 만드는 것을 제한한다)\n",
    "* sg: 0-> CBOW , 1-> skip-gram"
   ]
  },
  {
   "cell_type": "code",
   "execution_count": 8,
   "id": "e3e445d3",
   "metadata": {},
   "outputs": [
    {
     "name": "stdout",
     "output_type": "stream",
     "text": [
      "Done.. 41.25443696975708\n"
     ]
    }
   ],
   "source": [
    "# sentences로 들어가는 것은 2차원 코퍼스 리스트이다.\n",
    "import time\n",
    "start = time.time()\n",
    "model = Word2Vec(sentences = docs,\n",
    "                vector_size = 200,\n",
    "                window = 4, # 앞 뒤 단어 2개씩 사용 context window\n",
    "                hs = 1, \n",
    "                min_count = 5,\n",
    "                sg = 1)# skipgram을 사용\n",
    "print(\"Done..\",time.time()-start)"
   ]
  },
  {
   "cell_type": "code",
   "execution_count": 9,
   "id": "a98c06a2",
   "metadata": {},
   "outputs": [],
   "source": [
    "model.save('nsmc.model') # model을 저장"
   ]
  },
  {
   "cell_type": "code",
   "execution_count": 10,
   "id": "edfd023d",
   "metadata": {},
   "outputs": [],
   "source": [
    "model = Word2Vec.load('nsmc.model')"
   ]
  },
  {
   "cell_type": "markdown",
   "id": "ad4eb1b5",
   "metadata": {},
   "source": [
    "* wv 속성을 이용해서, 임베딩 벡터값을 가져오게 된다."
   ]
  },
  {
   "cell_type": "code",
   "execution_count": 11,
   "id": "6d396e6c",
   "metadata": {},
   "outputs": [
    {
     "data": {
      "text/plain": [
       "<gensim.models.keyedvectors.KeyedVectors at 0x7faf7424fa00>"
      ]
     },
     "execution_count": 11,
     "metadata": {},
     "output_type": "execute_result"
    }
   ],
   "source": [
    "model.wv"
   ]
  },
  {
   "cell_type": "code",
   "execution_count": 12,
   "id": "c151eb50",
   "metadata": {
    "scrolled": true
   },
   "outputs": [
    {
     "name": "stdout",
     "output_type": "stream",
     "text": [
      "영화에 대한 임베딩 벡터: [-0.13448098  0.03660773 -0.12252025 -0.12427539  0.20397884 -0.32054397\n",
      "  0.08807015  0.13284434 -0.14763173  0.15459657  0.00246582  0.17123257\n",
      "  0.05329295  0.12461527 -0.3016517  -0.02805172  0.18334487  0.2953543\n",
      "  0.05367627 -0.4131216   0.04810801 -0.0631011   0.04434726  0.09189259\n",
      "  0.02201813  0.05853794  0.06420454 -0.12644134 -0.1782414   0.19221807\n",
      "  0.12618273  0.2920489   0.1263492   0.3778864   0.1646944   0.08852613\n",
      "  0.16206841  0.02641144 -0.29579547 -0.24754612  0.10527302  0.01544663\n",
      " -0.1864093   0.24227206  0.11042933  0.22289275 -0.16097951 -0.1939594\n",
      "  0.21840546  0.05563221  0.00877432  0.01499947 -0.01747849  0.28902614\n",
      "  0.09176775 -0.22039242 -0.08413702 -0.155536   -0.38297236 -0.19620436\n",
      " -0.22990921  0.06618039  0.21296394 -0.02125058 -0.01414576 -0.11035353\n",
      "  0.15443417 -0.11205962 -0.25821579  0.01597224  0.27115083  0.24384104\n",
      "  0.02691566  0.08804599 -0.12412421 -0.1414661   0.03008161 -0.02067515\n",
      " -0.00357299 -0.03360223 -0.11781909  0.00848914  0.02490142  0.12332118\n",
      " -0.03611517 -0.36045432  0.20620582 -0.15192138  0.1493279   0.02296273\n",
      " -0.05922146  0.01948805  0.02530574  0.02266646  0.05718597  0.03966094\n",
      "  0.10933209 -0.2187252   0.13320024 -0.02776403  0.06770129  0.22177696\n",
      "  0.23065183  0.07905538 -0.02914397  0.10777275 -0.01367342 -0.11298305\n",
      " -0.20723145  0.3900571  -0.11084871  0.06396411 -0.22089134 -0.06901602\n",
      "  0.08979697 -0.0258488  -0.04220682  0.0435942  -0.07033411 -0.19363843\n",
      "  0.12609589  0.07813501  0.13622297 -0.15105423 -0.39852926  0.16660568\n",
      "  0.16860169  0.30906013 -0.04014219 -0.17051935 -0.14866425 -0.19933227\n",
      " -0.16615996 -0.10637692  0.26687098 -0.02220708 -0.25628304  0.14140409\n",
      "  0.05883179 -0.21405631  0.04504497 -0.31482577  0.07056865  0.01148857\n",
      " -0.01395575 -0.0049577   0.23238954 -0.01279796 -0.03737685 -0.07672174\n",
      "  0.21657595 -0.05127805  0.03421265 -0.04462126 -0.06754063 -0.1229028\n",
      "  0.05276956  0.25130945  0.24931183 -0.01368541  0.0588825  -0.17215537\n",
      " -0.16359945 -0.0770987   0.08222128  0.15160057 -0.29059497  0.09688791\n",
      "  0.17780733 -0.01372811 -0.07233318 -0.01891612 -0.20041591  0.01444526\n",
      "  0.20621495  0.07215603 -0.1582838  -0.06780565 -0.22636844 -0.24879634\n",
      " -0.19004133  0.10655927 -0.10348207 -0.0466704  -0.10366204 -0.07167751\n",
      " -0.05056084  0.03814753  0.08862001  0.04664034  0.144413   -0.09498012\n",
      " -0.19045244  0.0433315   0.08838911  0.06936507  0.04529205  0.1806856\n",
      " -0.17652906 -0.16069646]\n"
     ]
    }
   ],
   "source": [
    "print('영화에 대한 임베딩 벡터:',model.wv['영화'])"
   ]
  },
  {
   "cell_type": "code",
   "execution_count": 13,
   "id": "248ede0e",
   "metadata": {},
   "outputs": [
    {
     "data": {
      "text/plain": [
       "0.355527"
      ]
     },
     "execution_count": 13,
     "metadata": {},
     "output_type": "execute_result"
    }
   ],
   "source": [
    "model.wv.similarity('영화','배우')"
   ]
  },
  {
   "cell_type": "code",
   "execution_count": 14,
   "id": "ffa296f2",
   "metadata": {},
   "outputs": [
    {
     "data": {
      "text/plain": [
       "[('드라마', 0.6260667443275452),\n",
       " ('쓰레기', 0.5983583331108093),\n",
       " ('공포물', 0.5768200159072876),\n",
       " ('애니', 0.5763930678367615),\n",
       " ('B급 영화', 0.5574089288711548),\n",
       " ('쓰렉', 0.5417054891586304),\n",
       " ('애니메이션', 0.5416151881217957),\n",
       " ('핵폐기물', 0.5391795039176941),\n",
       " ('무협지', 0.5373629927635193),\n",
       " ('쓰.레.기', 0.535732090473175)]"
      ]
     },
     "execution_count": 14,
     "metadata": {},
     "output_type": "execute_result"
    }
   ],
   "source": [
    "model.wv.most_similar('영화',topn=10)"
   ]
  },
  {
   "cell_type": "markdown",
   "id": "9335a4e6",
   "metadata": {},
   "source": [
    "# Result\n",
    "* 유사한 단어를 잘 찾는 경우도 있지만 아닌 경우도 있다.\n",
    "\n",
    "**이는 보통 문장 말뭉치(corpus)가 부족하거나, 퀄리티 높은 문장 부족등의 문제가 있다.**<br>**&rightarrow; 따라서, 충분히 많은 퀄리티 좋은 문장corpus가 있다면 좋은 임베딩 결과를 낼 수 있다.**"
   ]
  },
  {
   "cell_type": "code",
   "execution_count": null,
   "id": "b7b57722",
   "metadata": {},
   "outputs": [],
   "source": []
  }
 ],
 "metadata": {
  "kernelspec": {
   "display_name": "sj_virtual",
   "language": "python",
   "name": "myvenv"
  },
  "language_info": {
   "codemirror_mode": {
    "name": "ipython",
    "version": 3
   },
   "file_extension": ".py",
   "mimetype": "text/x-python",
   "name": "python",
   "nbconvert_exporter": "python",
   "pygments_lexer": "ipython3",
   "version": "3.8.10"
  },
  "varInspector": {
   "cols": {
    "lenName": 16,
    "lenType": 16,
    "lenVar": 40
   },
   "kernels_config": {
    "python": {
     "delete_cmd_postfix": "",
     "delete_cmd_prefix": "del ",
     "library": "var_list.py",
     "varRefreshCmd": "print(var_dic_list())"
    },
    "r": {
     "delete_cmd_postfix": ") ",
     "delete_cmd_prefix": "rm(",
     "library": "var_list.r",
     "varRefreshCmd": "cat(var_dic_list()) "
    }
   },
   "types_to_exclude": [
    "module",
    "function",
    "builtin_function_or_method",
    "instance",
    "_Feature"
   ],
   "window_display": false
  }
 },
 "nbformat": 4,
 "nbformat_minor": 5
}
