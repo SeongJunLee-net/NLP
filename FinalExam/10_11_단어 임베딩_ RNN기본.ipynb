{
 "cells": [
  {
   "cell_type": "code",
   "execution_count": 1,
   "id": "0185415c",
   "metadata": {},
   "outputs": [],
   "source": [
    "from gensim.models import Word2Vec"
   ]
  },
  {
   "cell_type": "code",
   "execution_count": 2,
   "id": "58943874",
   "metadata": {},
   "outputs": [],
   "source": [
    "from konlpy.tag import Komoran"
   ]
  },
  {
   "cell_type": "code",
   "execution_count": 3,
   "id": "c632311a",
   "metadata": {},
   "outputs": [],
   "source": [
    "def read_review(filename):\n",
    "    f = open(filename,'r',encoding = 'utf-8')\n",
    "    data = []\n",
    "    for line in f.readlines():\n",
    "        if line != '':\n",
    "            data.append(line.split('\\t'))\n",
    "    data = data[1:]\n",
    "    f.close()\n",
    "    return data         "
   ]
  },
  {
   "cell_type": "code",
   "execution_count": 4,
   "id": "abd30f40",
   "metadata": {},
   "outputs": [
    {
     "data": {
      "text/plain": [
       "200000"
      ]
     },
     "execution_count": 4,
     "metadata": {},
     "output_type": "execute_result"
    }
   ],
   "source": [
    "data = read_review('ratings.txt')\n",
    "len(data)"
   ]
  },
  {
   "cell_type": "code",
   "execution_count": 5,
   "id": "1d6a561d",
   "metadata": {},
   "outputs": [
    {
     "name": "stdout",
     "output_type": "stream",
     "text": [
      "[['때'], ['디자인', '학생', '외국', '디자이너', '전통', '발전', '문화', '산업', '사실', '우리나라', '시절', '끝', '열정', '노라', '노', '전통', '사람', '꿈', '수', '것', '감사'], ['폴리스', '스토리', '시리즈', '뉴', '최고'], ['연기', '것', '라고', '생각', '몰입', '영', '화지'], ['안개', '밤하늘', '초승달', '영화'], ['사랑', '사람', '처음', '끝', '수', '영화'], ['완전', '감동', '감동'], ['개들의 전쟁', '빠'], ['굿'], ['바보', '병', '인', '듯']]\n"
     ]
    }
   ],
   "source": [
    "komoran = Komoran()\n",
    "docs = []\n",
    "for sent in data:\n",
    "    docs.append(komoran.nouns(sent[1]))\n",
    "print(docs[:10])"
   ]
  },
  {
   "cell_type": "code",
   "execution_count": 6,
   "id": "64ff13c1",
   "metadata": {},
   "outputs": [],
   "source": [
    "model = Word2Vec(sentences = docs, vector_size = 200, window = 4, hs = 1, min_count = 5, sg = 1)"
   ]
  },
  {
   "cell_type": "code",
   "execution_count": 7,
   "id": "03b166f8",
   "metadata": {
    "scrolled": true
   },
   "outputs": [
    {
     "data": {
      "text/plain": [
       "[('연기자', 0.6717306971549988),\n",
       " ('문신', 0.6642976999282837),\n",
       " ('다나와', 0.6479758620262146),\n",
       " ('최송현', 0.6443096995353699),\n",
       " ('조연', 0.6397704482078552)]"
      ]
     },
     "execution_count": 7,
     "metadata": {},
     "output_type": "execute_result"
    }
   ],
   "source": [
    "model.wv.most_similar('배우',topn = 5)"
   ]
  },
  {
   "cell_type": "markdown",
   "id": "8d8daeda",
   "metadata": {},
   "source": [
    "## 단어 임베딩의 의미\n",
    "* 단어의 위치에 기반하여 의미를 내포하는 밀집벡터를 생성한다\n",
    "    * 이때, 비슷한 위치에 나타나는 단어들은 비슷한 벡터를 가지게 된다.\n",
    "        * Word Analogy\n",
    "        * 따라서 단어 간의 유사성 계산이 가능하고 이를 이용해서 연산도 가능하다."
   ]
  },
  {
   "cell_type": "markdown",
   "id": "c6180c83",
   "metadata": {},
   "source": [
    "# FastText 학습\n",
    "* 파라미터는 from gensim.models import Word2Vec과 동일하다."
   ]
  },
  {
   "cell_type": "code",
   "execution_count": 8,
   "id": "50564b08",
   "metadata": {},
   "outputs": [],
   "source": [
    "from gensim.models import FastText\n",
    "model_fasttext = FastText(sentences = docs, vector_size = 200, hs = 1, negative = 0, min_count = 5, sg = 1, window = 4)"
   ]
  },
  {
   "cell_type": "code",
   "execution_count": 9,
   "id": "26cbb6de",
   "metadata": {},
   "outputs": [
    {
     "name": "stdout",
     "output_type": "stream",
     "text": [
      "[('조연', 0.5608417391777039), ('엑스트라', 0.5465080738067627), ('문신', 0.536482572555542), ('단역', 0.5142711400985718), ('윤제문', 0.5138006806373596)]\n",
      "[('이정현', 0.6007369160652161), ('김혜수', 0.5757822394371033), ('이미숙', 0.5659373998641968), ('김민', 0.5653944611549377), ('허준호', 0.563360333442688)]\n",
      "[('트릭', 0.4262389540672302), ('교훈', 0.4171827733516693), ('긴장도', 0.4109379053115845), ('억지웃음', 0.3830741047859192), ('반감', 0.3806880712509155)]\n"
     ]
    }
   ],
   "source": [
    "print(model_fasttext.wv.most_similar('배우',topn = 5))\n",
    "print(model_fasttext.wv.most_similar('이정재', topn = 5))\n",
    "print(model_fasttext.wv.most_similar('감동',topn = 5))"
   ]
  },
  {
   "cell_type": "code",
   "execution_count": 11,
   "id": "ca00f6c8",
   "metadata": {
    "scrolled": true
   },
   "outputs": [
    {
     "data": {
      "text/plain": [
       "['영화', '것', '점', '연기', '수', '거', '평점', '최고', '생각', '때']"
      ]
     },
     "execution_count": 11,
     "metadata": {},
     "output_type": "execute_result"
    }
   ],
   "source": [
    "words = list(model.wv.index_to_key)\n",
    "words[:10]"
   ]
  },
  {
   "cell_type": "code",
   "execution_count": 13,
   "id": "099139e0",
   "metadata": {},
   "outputs": [
    {
     "data": {
      "text/plain": [
       "['영화', '것', '점', '연기', '수', '거', '평점', '최고', '생각', '때']"
      ]
     },
     "execution_count": 13,
     "metadata": {},
     "output_type": "execute_result"
    }
   ],
   "source": [
    "model.wv.index_to_key[:10]"
   ]
  },
  {
   "cell_type": "code",
   "execution_count": 17,
   "id": "740370f0",
   "metadata": {
    "scrolled": true
   },
   "outputs": [],
   "source": [
    "fasttext_embedding = model_fasttext.wv['영화'] # FastText의 임베딩 결과"
   ]
  },
  {
   "cell_type": "code",
   "execution_count": 18,
   "id": "edcdeccd",
   "metadata": {
    "scrolled": true
   },
   "outputs": [],
   "source": [
    "Word2Vec_embedding = model.wv['영화'] # Word2Vec의 임베딩 결과"
   ]
  },
  {
   "cell_type": "code",
   "execution_count": 20,
   "id": "400a54f0",
   "metadata": {},
   "outputs": [],
   "source": [
    "from sklearn.metrics.pairwise import cosine_similarity"
   ]
  },
  {
   "cell_type": "code",
   "execution_count": 29,
   "id": "38d125b8",
   "metadata": {},
   "outputs": [
    {
     "data": {
      "text/plain": [
       "array([[0.01280251]], dtype=float32)"
      ]
     },
     "execution_count": 29,
     "metadata": {},
     "output_type": "execute_result"
    }
   ],
   "source": [
    "cosine_similarity(fasttext_embedding.reshape(1,-1),Word2Vec_embedding.reshape(1,-1))"
   ]
  },
  {
   "cell_type": "markdown",
   "id": "53cafb89",
   "metadata": {},
   "source": [
    "# Glove로 사전 학습된 단어 임베딩"
   ]
  },
  {
   "cell_type": "code",
   "execution_count": 1,
   "id": "ab69572b",
   "metadata": {},
   "outputs": [],
   "source": [
    "import gensim.downloader as api\n",
    "wv = api.load('glove-wiki-gigaword-50') #Global vectors for word representation"
   ]
  },
  {
   "cell_type": "code",
   "execution_count": 2,
   "id": "9346e08e",
   "metadata": {},
   "outputs": [],
   "source": [
    "vec_king = wv['king']"
   ]
  },
  {
   "cell_type": "code",
   "execution_count": 3,
   "id": "14afb708",
   "metadata": {},
   "outputs": [
    {
     "data": {
      "text/plain": [
       "array([ 0.50451 ,  0.68607 , -0.59517 , -0.022801,  0.60046 , -0.13498 ,\n",
       "       -0.08813 ,  0.47377 , -0.61798 , -0.31012 , -0.076666,  1.493   ,\n",
       "       -0.034189, -0.98173 ,  0.68229 ,  0.81722 , -0.51874 , -0.31503 ,\n",
       "       -0.55809 ,  0.66421 ,  0.1961  , -0.13495 , -0.11476 , -0.30344 ,\n",
       "        0.41177 , -2.223   , -1.0756  , -1.0783  , -0.34354 ,  0.33505 ,\n",
       "        1.9927  , -0.04234 , -0.64319 ,  0.71125 ,  0.49159 ,  0.16754 ,\n",
       "        0.34344 , -0.25663 , -0.8523  ,  0.1661  ,  0.40102 ,  1.1685  ,\n",
       "       -1.0137  , -0.21585 , -0.15155 ,  0.78321 , -0.91241 , -1.6106  ,\n",
       "       -0.64426 , -0.51042 ], dtype=float32)"
      ]
     },
     "execution_count": 3,
     "metadata": {},
     "output_type": "execute_result"
    }
   ],
   "source": [
    "vec_king"
   ]
  },
  {
   "cell_type": "markdown",
   "id": "aa3227d2",
   "metadata": {},
   "source": [
    "##  두 단어 간의 유사도 계산"
   ]
  },
  {
   "cell_type": "code",
   "execution_count": 4,
   "id": "57dbecc0",
   "metadata": {},
   "outputs": [
    {
     "data": {
      "text/plain": [
       "0.53093773"
      ]
     },
     "execution_count": 4,
     "metadata": {},
     "output_type": "execute_result"
    }
   ],
   "source": [
    "wv.similarity('king','man')"
   ]
  },
  {
   "cell_type": "markdown",
   "id": "9c23b979",
   "metadata": {},
   "source": [
    "## most_similar에서 positive와 negative parameter를 이용해서 word analogy 계산하기"
   ]
  },
  {
   "cell_type": "code",
   "execution_count": 5,
   "id": "a28f8003",
   "metadata": {},
   "outputs": [
    {
     "data": {
      "text/plain": [
       "[('queen', 0.8523604273796082),\n",
       " ('throne', 0.7664334177970886),\n",
       " ('prince', 0.7592144012451172),\n",
       " ('daughter', 0.7473883628845215),\n",
       " ('elizabeth', 0.7460219860076904)]"
      ]
     },
     "execution_count": 5,
     "metadata": {},
     "output_type": "execute_result"
    }
   ],
   "source": [
    "# 여성 , 왕에는 가까우면서 남성과는 먼 단어\n",
    "wv.most_similar(positive = ['woman','king'],negative = ['man'], topn = 5)"
   ]
  },
  {
   "cell_type": "code",
   "execution_count": 6,
   "id": "aa1177ca",
   "metadata": {},
   "outputs": [
    {
     "data": {
      "text/plain": [
       "'snowman'"
      ]
     },
     "execution_count": 6,
     "metadata": {},
     "output_type": "execute_result"
    }
   ],
   "source": [
    "wv.doesnt_match(['morning','night','snowman'])"
   ]
  },
  {
   "cell_type": "markdown",
   "id": "9553c8e9",
   "metadata": {},
   "source": [
    "### wv.distance를 사용해서 단어간의 거리가 얼마나 먼지 확인하기"
   ]
  },
  {
   "cell_type": "code",
   "execution_count": 36,
   "id": "a876f3e2",
   "metadata": {},
   "outputs": [
    {
     "data": {
      "text/plain": [
       "0.07819950580596924"
      ]
     },
     "execution_count": 36,
     "metadata": {},
     "output_type": "execute_result"
    }
   ],
   "source": [
    "wv.distance('cat','dog')"
   ]
  },
  {
   "cell_type": "code",
   "execution_count": 38,
   "id": "1c245a0b",
   "metadata": {},
   "outputs": [
    {
     "data": {
      "text/plain": [
       "0.53752255"
      ]
     },
     "execution_count": 38,
     "metadata": {},
     "output_type": "execute_result"
    }
   ],
   "source": [
    "wv.n_similarity(['bulgogi','shop'],['japanese','restaurant'])"
   ]
  },
  {
   "cell_type": "code",
   "execution_count": 39,
   "id": "638dfc4a",
   "metadata": {},
   "outputs": [
    {
     "data": {
      "text/plain": [
       "0.5627309"
      ]
     },
     "execution_count": 39,
     "metadata": {},
     "output_type": "execute_result"
    }
   ],
   "source": [
    "wv.n_similarity(['bulgogi','shop'],['korean','restaurant'])"
   ]
  },
  {
   "cell_type": "markdown",
   "id": "dc886acd",
   "metadata": {},
   "source": [
    "# RNN을 이용하여 문서분류 하기\n",
    "### RNN에 문장을 넣어 생기는 최종 hidden state를 이용하여 문장을 분류한다.\n",
    "* **이를 위해서 RNN에 문장을 넣어야 하고 이과정에서 one-hot encoding과 embedding이 필요하다**"
   ]
  },
  {
   "cell_type": "code",
   "execution_count": 7,
   "id": "fbf11cc4",
   "metadata": {},
   "outputs": [
    {
     "name": "stderr",
     "output_type": "stream",
     "text": [
      "[nltk_data] Downloading package movie_reviews to\n",
      "[nltk_data]     /home/sjlee/nltk_data...\n",
      "[nltk_data]   Package movie_reviews is already up-to-date!\n"
     ]
    },
    {
     "data": {
      "text/plain": [
       "True"
      ]
     },
     "execution_count": 7,
     "metadata": {},
     "output_type": "execute_result"
    }
   ],
   "source": [
    "import nltk\n",
    "nltk.download('movie_reviews')"
   ]
  },
  {
   "cell_type": "code",
   "execution_count": 9,
   "id": "2bf9a92f",
   "metadata": {},
   "outputs": [
    {
     "name": "stdout",
     "output_type": "stream",
     "text": [
      "# of sentence 2000 # of labels 2000\n"
     ]
    }
   ],
   "source": [
    "from nltk.corpus import movie_reviews\n",
    "\n",
    "# movie review data에서 file id를 가져온다\n",
    "fileids = movie_reviews.fileids()\n",
    "\n",
    "# file id를 이용해 raw text file을 가져온다.\n",
    "reviews = [movie_reviews.raw(fileid) for fileid in fileids]\n",
    "\n",
    "# file id를 이용해 label로 사용할 category\n",
    "# 즉 positive와 negative 정보를 순서대로 가져온다.\n",
    "# 각 file마다 positive인 file이 있고 negative인 파일이 있기 때문에\n",
    "categories = [movie_reviews.categories(fileid)[0] for fileid in fileids]\n",
    "print('# of sentence',len(reviews),'# of labels',len(categories))\n"
   ]
  },
  {
   "cell_type": "code",
   "execution_count": 12,
   "id": "54c2b253",
   "metadata": {},
   "outputs": [
    {
     "data": {
      "text/plain": [
       "['neg']"
      ]
     },
     "execution_count": 12,
     "metadata": {},
     "output_type": "execute_result"
    }
   ],
   "source": [
    "movie_reviews.categories(fileids[0])"
   ]
  },
  {
   "cell_type": "markdown",
   "id": "cd4d3c77",
   "metadata": {},
   "source": [
    "## from tensorflow.keras.preprocessing.text import Tokenizer를 이용해서 텍스트 토큰화하기"
   ]
  },
  {
   "cell_type": "code",
   "execution_count": 55,
   "id": "d2b9a685",
   "metadata": {},
   "outputs": [
    {
     "name": "stdout",
     "output_type": "stream",
     "text": [
      "[[98, 77, 949, 4622, 131, 6, 3, 2016, 789, 3764, 4, 103, 1314, 37, 73, 56, 25, 1341, 24, 5, 2, 519, 1325, 17, 14, 678, 1571, 6, 84, 55, 8, 34, 90, 4, 33, 4477, 604, 2, 638, 242, 2, 27, 4, 8854, 190, 41, 2186, 3, 302, 6462, 27, 13, 2, 949, 1458, 9, 2402, 20, 3, 80, 691, 362, 17, 1768, 10, 8, 3, 80, 106, 3980, 46, 7, 49, 143, 15, 466, 25, 57, 3668, 24, 6, 1175, 195, 19, 1342, 8855, 96, 46, 527, 6, 831, 2, 7098, 903, 12, 170, 363, 4, 118, 342, 4204, 8856, 17, 53, 21, 62, 4, 106, 753, 5, 243, 36, 2695, 5, 96, 4, 113, 1879, 51, 249, 1, 15, 24, 6180, 37, 250, 6, 32, 625, 15, 272, 3765, 1224, 17, 2795, 10, 2284, 40, 49, 21, 2, 470, 12, 2, 27, 78, 65, 349, 354, 7, 9, 38, 322, 89, 7840, 10, 437, 88, 1315, 17, 103, 1, 56, 15, 1446, 146, 8, 46, 35, 11, 25, 162, 1123, 32, 60, 362, 604, 160, 20, 53, 21, 1077, 53, 21, 82, 505, 136, 29, 2, 329, 53, 21, 486, 28, 178, 39, 2, 329, 53, 21, 770, 1, 53, 21, 1, 53, 21, 3, 1, 5, 911, 115, 53, 21, 5278, 5, 1387, 172, 9, 633, 4, 64, 5, 10, 7, 322, 26, 1958, 144, 19, 2927, 121, 302, 255, 6, 9490, 3, 16, 151, 144, 4, 103, 17, 45, 36, 10, 92, 7, 257, 104, 2, 165, 2852, 101, 4, 101, 209, 19, 73, 260, 5, 4078, 43, 83, 3, 95, 46, 7, 15, 248, 955, 354, 38, 614, 295, 15, 134, 802, 6, 3147, 17, 10, 139, 6, 258, 6, 3147, 10, 309, 314, 65, 370, 494, 227, 4, 76, 37, 87, 172, 440, 2796, 47, 57, 1748, 8, 2, 5676, 26, 93, 2, 1281, 205, 7, 9, 2, 4079, 4, 19, 159, 5677, 20, 1712, 39, 15, 40, 63, 176, 4080, 64, 5, 10, 41, 22, 2, 269, 85, 213, 40, 36, 5, 2, 1, 83, 9, 198, 443, 6, 87, 3, 99, 252, 5, 262, 17, 10, 138, 249, 2, 87, 2, 16, 36, 9, 44, 440, 19, 619, 2, 1487, 312, 12, 122, 39, 15, 7, 9, 35, 168, 246, 87, 277, 9, 2, 162, 7, 56, 10, 57, 142, 37, 21, 285, 2, 802, 1, 6, 2017, 170, 146, 5, 2330, 19, 571, 964, 7841, 1, 427, 222, 29, 3864, 13, 42, 1431, 227, 458, 2, 27, 7, 51, 1685, 3593, 1124, 63, 73, 10, 53, 21, 102, 3025, 34, 4, 63, 121, 119, 28, 37, 21, 76, 63, 93, 438, 6, 84, 10, 101, 4, 101, 209, 97, 42, 666, 133, 317, 115, 3289, 1045, 2441, 56, 36, 5, 2, 1, 160, 150, 8, 2, 27, 683, 2, 930, 875, 15, 16, 222, 29, 65, 124, 4, 1, 10, 43, 492, 4, 10, 337, 53, 8857, 70, 3, 272, 876, 949, 302, 6462, 27, 8, 129, 1103, 17, 19, 619, 2, 2853, 1326, 9, 1730, 10, 56, 3, 290, 432, 12, 99, 1327, 69, 87, 44, 262, 2, 210, 21, 272, 62, 13, 2, 64, 205, 188, 2595, 1, 51, 676, 6, 23, 389, 2, 2110, 165, 75, 9, 18, 198, 8, 259, 1035, 58, 8, 3, 114, 5279, 17, 107, 955, 5280, 131, 41, 6, 1, 28, 1544, 34, 182, 458, 2, 340, 16, 4, 176, 33, 35, 622, 34, 1527, 1, 899, 2, 16, 117, 1994, 86, 10, 117, 2477, 38, 1472, 10, 1359, 1, 4, 10, 649, 272, 7099, 13, 64, 5, 65, 1, 401, 3, 272, 691, 325, 4, 1995, 6, 36, 5, 2, 1, 9, 771, 142, 10, 658, 4, 22, 2, 85, 15, 7, 26, 3, 296, 47, 949, 1650, 732, 38, 51, 1, 6, 178, 9, 85, 86, 372, 7, 683, 6793, 9, 2, 522, 7, 138, 1133, 12, 2, 441, 10, 72, 3211, 461, 77, 175, 715, 4, 33, 70, 1488, 20, 2, 7444, 194, 195, 1046, 2854, 10, 3981, 4205, 505, 29, 3, 2215, 5, 7100, 1004, 641, 1212, 303, 1447, 1316, 315, 1212, 303, 2, 2519, 1854, 303, 2, 2519, 7101, 750, 303, 342, 4204, 303, 303, 8856, 303, 303, 2, 486, 1854, 303, 4342, 5, 3865, 1023, 303]] \n",
      "\n",
      "710\n"
     ]
    }
   ],
   "source": [
    "import numpy as np\n",
    "import tensorflow as tf\n",
    "from tensorflow.keras.preprocessing.text import Tokenizer\n",
    "\n",
    "np.random.seed(7)\n",
    "tf.random.set_seed(7)\n",
    "\n",
    "# 사용할 단어의 수\n",
    "max_words = 10000\n",
    "\n",
    "# num_words 지정을 통해 빈도가 높은 num_words개의 단어를 이용해서 단어집합을 구성한다.\n",
    "# oov_token의 지정을 통해 oov 토큰에 대한 처리를 어떻게 할지 지정\n",
    "tokenizer = Tokenizer(num_words = max_words, oov_token = 'UNK')\n",
    "\n",
    "# fit_on_texts: 코퍼스 제공을 통해 단어집합을 생성한다.\n",
    "tokenizer.fit_on_texts(reviews)\n",
    "\n",
    "X = tokenizer.texts_to_sequences(reviews)\n",
    "print(X[:1],\"\\n\")\n",
    "print(len(X[:1][0]))"
   ]
  },
  {
   "cell_type": "code",
   "execution_count": 56,
   "id": "9b5e944b",
   "metadata": {},
   "outputs": [
    {
     "name": "stdout",
     "output_type": "stream",
     "text": [
      "Index of plot 98\n"
     ]
    }
   ],
   "source": [
    "print(\"Index of plot\", tokenizer.word_index['plot'])"
   ]
  },
  {
   "cell_type": "markdown",
   "id": "e06985e1",
   "metadata": {},
   "source": [
    "## RNN 입력 준비1\n",
    "## 케라스의 pad_sequences를 이용해서 인풋의 길이를 일정하게 변환한다."
   ]
  },
  {
   "cell_type": "code",
   "execution_count": 58,
   "id": "127bc33a",
   "metadata": {},
   "outputs": [],
   "source": [
    "from tensorflow.keras.preprocessing.sequence import pad_sequences\n",
    "from sklearn.model_selection import train_test_split\n",
    "# 문서의 입력 단어 수를 제한\n",
    "maxlen = 500\n",
    "# pad_sequences\n",
    "# maxlen : 문서의 단어수가 maxlen보다 많으면 잘라내고 적으면 0으로 padding\n",
    "# truncating: 'pre'를 사용하면 앞을 자를 수 있고 뒤를 자르고자 하면 'post'로 선택\n",
    "\n",
    "X = pad_sequences(X,maxlen = 500, truncating = 'pre')"
   ]
  },
  {
   "cell_type": "code",
   "execution_count": 64,
   "id": "8d9cdbd2",
   "metadata": {},
   "outputs": [
    {
     "data": {
      "text/plain": [
       "array([[ 911,  115,   53, ..., 3865, 1023,  303],\n",
       "       [   0,    0,    0, ...,    5,    3,   27],\n",
       "       [   0,    0,    0, ...,   30,   36, 4625],\n",
       "       ...,\n",
       "       [  74,  373,  195, ..., 3439,   13,   10],\n",
       "       [   1,   20,    2, ..., 2449,    6,  506],\n",
       "       [ 573,   10,  150, ..., 8340, 1906,  303]], dtype=int32)"
      ]
     },
     "execution_count": 64,
     "metadata": {},
     "output_type": "execute_result"
    }
   ],
   "source": [
    "X[:10]"
   ]
  },
  {
   "cell_type": "code",
   "execution_count": 62,
   "id": "e4fc58e1",
   "metadata": {},
   "outputs": [
    {
     "data": {
      "text/plain": [
       "['neg', 'neg', 'neg', 'neg', 'neg', 'neg', 'neg', 'neg', 'neg', 'neg']"
      ]
     },
     "execution_count": 62,
     "metadata": {},
     "output_type": "execute_result"
    }
   ],
   "source": [
    "categories[:10]"
   ]
  },
  {
   "cell_type": "code",
   "execution_count": 61,
   "id": "0c650d96",
   "metadata": {},
   "outputs": [
    {
     "data": {
      "text/plain": [
       "array([0, 0, 0, 0, 0, 0, 0, 0, 0, 0])"
      ]
     },
     "execution_count": 61,
     "metadata": {},
     "output_type": "execute_result"
    }
   ],
   "source": [
    "# 카테고리를 target 1,0으로 변환시켜줘야 한다.\n",
    "label_dict = {'pos':1,'neg':0}\n",
    "y = np.array([label_dict[c] for c in categories])\n",
    "y[:10]"
   ]
  },
  {
   "cell_type": "code",
   "execution_count": 65,
   "id": "da87a89d",
   "metadata": {},
   "outputs": [
    {
     "name": "stdout",
     "output_type": "stream",
     "text": [
      "1600\n",
      "400\n"
     ]
    }
   ],
   "source": [
    "# Train Test Split\n",
    "X_train,X_test,y_train,y_test = train_test_split(X,y,test_size = 0.2, random_state = 10)\n",
    "print(len(X_train))\n",
    "print(len(X_test))"
   ]
  },
  {
   "cell_type": "markdown",
   "id": "3e182593",
   "metadata": {},
   "source": [
    "## 연습1 일반적인 신경망 모형을 이용한 분류"
   ]
  },
  {
   "cell_type": "code",
   "execution_count": 67,
   "id": "526c790f",
   "metadata": {},
   "outputs": [
    {
     "name": "stderr",
     "output_type": "stream",
     "text": [
      "2023-12-01 01:58:34.932239: I tensorflow/compiler/xla/stream_executor/cuda/cuda_gpu_executor.cc:995] successful NUMA node read from SysFS had negative value (-1), but there must be at least one NUMA node, so returning NUMA node zero. See more at https://github.com/torvalds/linux/blob/v6.0/Documentation/ABI/testing/sysfs-bus-pci#L344-L355\n",
      "2023-12-01 01:58:34.940802: W tensorflow/core/common_runtime/gpu/gpu_device.cc:1960] Cannot dlopen some GPU libraries. Please make sure the missing libraries mentioned above are installed properly if you would like to use GPU. Follow the guide at https://www.tensorflow.org/install/gpu for how to download and setup the required libraries for your platform.\n",
      "Skipping registering GPU devices...\n"
     ]
    },
    {
     "name": "stdout",
     "output_type": "stream",
     "text": [
      "Model: \"sequential\"\n",
      "_________________________________________________________________\n",
      " Layer (type)                Output Shape              Param #   \n",
      "=================================================================\n",
      " embedding (Embedding)       (None, 500, 32)           320000    \n",
      "                                                                 \n",
      " flatten (Flatten)           (None, 16000)             0         \n",
      "                                                                 \n",
      " dense (Dense)               (None, 1)                 16001     \n",
      "                                                                 \n",
      "=================================================================\n",
      "Total params: 336001 (1.28 MB)\n",
      "Trainable params: 336001 (1.28 MB)\n",
      "Non-trainable params: 0 (0.00 Byte)\n",
      "_________________________________________________________________\n"
     ]
    }
   ],
   "source": [
    "from tensorflow.keras.models import Sequential\n",
    "from tensorflow.keras.layers import Dense, Embedding, Flatten\n",
    "model = Sequential([\n",
    "    Embedding(max_words, 32, input_length = maxlen),\n",
    "    # (one-hot encoding 크기, Dense 벡터 크기, input Vector의 사이즈)\n",
    "    Flatten(), # 2차원 행렬을 1차원 벡터로 변환\n",
    "    # Tensorflow는 input의 크기를 처음에만 지정해주고 이후에는 지정하지 않아도 됨\n",
    "    # 1은 output의 크기\n",
    "    Dense(1, activation = 'sigmoid')\n",
    "])\n",
    "model.summary()"
   ]
  },
  {
   "cell_type": "code",
   "execution_count": 68,
   "id": "e9858b91",
   "metadata": {},
   "outputs": [
    {
     "name": "stdout",
     "output_type": "stream",
     "text": [
      "Epoch 1/10\n",
      "40/40 [==============================] - 2s 16ms/step - loss: 0.6914 - acc: 0.5156 - val_loss: 0.6887 - val_acc: 0.5312\n",
      "Epoch 2/10\n",
      "40/40 [==============================] - 0s 2ms/step - loss: 0.6134 - acc: 0.8703 - val_loss: 0.6814 - val_acc: 0.5594\n",
      "Epoch 3/10\n",
      "40/40 [==============================] - 0s 2ms/step - loss: 0.5097 - acc: 0.9633 - val_loss: 0.6661 - val_acc: 0.5813\n",
      "Epoch 4/10\n",
      "40/40 [==============================] - 0s 2ms/step - loss: 0.3776 - acc: 0.9844 - val_loss: 0.6438 - val_acc: 0.6438\n",
      "Epoch 5/10\n",
      "40/40 [==============================] - 0s 2ms/step - loss: 0.2492 - acc: 0.9937 - val_loss: 0.6211 - val_acc: 0.6656\n",
      "Epoch 6/10\n",
      "40/40 [==============================] - 0s 2ms/step - loss: 0.1492 - acc: 0.9984 - val_loss: 0.6104 - val_acc: 0.6750\n",
      "Epoch 7/10\n",
      "40/40 [==============================] - 0s 2ms/step - loss: 0.0840 - acc: 1.0000 - val_loss: 0.6022 - val_acc: 0.6750\n",
      "Epoch 8/10\n",
      "40/40 [==============================] - 0s 2ms/step - loss: 0.0454 - acc: 1.0000 - val_loss: 0.6114 - val_acc: 0.6781\n",
      "Epoch 9/10\n",
      "40/40 [==============================] - 0s 2ms/step - loss: 0.0249 - acc: 1.0000 - val_loss: 0.6074 - val_acc: 0.6906\n",
      "Epoch 10/10\n",
      "40/40 [==============================] - 0s 2ms/step - loss: 0.0142 - acc: 1.0000 - val_loss: 0.6321 - val_acc: 0.6781\n",
      "13/13 [==============================] - 0s 863us/step - loss: 0.6372 - acc: 0.6700\n"
     ]
    }
   ],
   "source": [
    "model.compile(optimizer = 'rmsprop',loss = 'binary_crossentropy', metrics = ['acc'])\n",
    "history = model.fit(X_train,y_train,\n",
    "                    epochs = 10, validation_split = 0.2)\n",
    "# 학습 데이터에 대해 학습을 진행하는데, \n",
    "# 이때 validation_split을 지정해 검증 데이터 셋을 만든다.\n",
    "score = model.evaluate(X_test,y_test)"
   ]
  },
  {
   "cell_type": "code",
   "execution_count": 69,
   "id": "a62ff10b",
   "metadata": {},
   "outputs": [
    {
     "data": {
      "text/plain": [
       "[0.6371960043907166, 0.6700000166893005]"
      ]
     },
     "execution_count": 69,
     "metadata": {},
     "output_type": "execute_result"
    }
   ],
   "source": [
    "score"
   ]
  },
  {
   "cell_type": "code",
   "execution_count": 70,
   "id": "719292d1",
   "metadata": {},
   "outputs": [
    {
     "data": {
      "image/png": "[encoded data removed]",
      "text/plain": [
       "<Figure size 640x480 with 1 Axes>"
      ]
     },
     "metadata": {},
     "output_type": "display_data"
    }
   ],
   "source": [
    "%matplotlib inline\n",
    "import matplotlib.pyplot as plt\n",
    "\n",
    "def plot_results(history, metric):\n",
    "    plt.plot(history.history[metric], 'b', label='Training '+metric)\n",
    "    plt.plot(history.history['val_'+metric], 'r--', label='Validation '+metric)\n",
    "    plt.title('Training vs. Validation '+metric)\n",
    "    plt.xlabel('Epochs')\n",
    "    plt.ylabel(metric)\n",
    "    plt.legend()\n",
    "    plt.show()\n",
    "\n",
    "plot_results(history, 'acc')"
   ]
  },
  {
   "cell_type": "markdown",
   "id": "30c98515",
   "metadata": {},
   "source": [
    "## RNN을 이용한 문서 분류"
   ]
  },
  {
   "cell_type": "code",
   "execution_count": 71,
   "id": "007d1033",
   "metadata": {},
   "outputs": [
    {
     "data": {
      "text/plain": [
       "array([[   2,  377,  443, ..., 2854,    2, 1884],\n",
       "       [   4, 6468, 5956, ...,    6,  128,  146],\n",
       "       [   0,    0,    0, ...,   15,    7,    1],\n",
       "       ...,\n",
       "       [   5,    1,   17, ...,    6,  750, 1793],\n",
       "       [   0,    0,    0, ...,    2,  340,  231],\n",
       "       [   4,    2,  318, ..., 2219,  217,  101]], dtype=int32)"
      ]
     },
     "execution_count": 71,
     "metadata": {},
     "output_type": "execute_result"
    }
   ],
   "source": [
    "X_train"
   ]
  },
  {
   "cell_type": "code",
   "execution_count": 75,
   "id": "d325ba3f",
   "metadata": {},
   "outputs": [
    {
     "name": "stdout",
     "output_type": "stream",
     "text": [
      "Model: \"sequential_1\"\n",
      "_________________________________________________________________\n",
      " Layer (type)                Output Shape              Param #   \n",
      "=================================================================\n",
      " embedding_1 (Embedding)     (None, None, 32)          320000    \n",
      "                                                                 \n",
      " simple_rnn (SimpleRNN)      (None, 32)                2080      \n",
      "                                                                 \n",
      " dense_1 (Dense)             (None, 32)                1056      \n",
      "                                                                 \n",
      " dense_2 (Dense)             (None, 1)                 33        \n",
      "                                                                 \n",
      "=================================================================\n",
      "Total params: 323169 (1.23 MB)\n",
      "Trainable params: 323169 (1.23 MB)\n",
      "Non-trainable params: 0 (0.00 Byte)\n",
      "_________________________________________________________________\n"
     ]
    }
   ],
   "source": [
    "from tensorflow.keras.layers import SimpleRNN\n",
    "from tensorflow.keras.optimizers import Adam\n",
    "model = Sequential([\n",
    "    Embedding(max_words,32),\n",
    "    # onehot encoding size, dense vector size\n",
    "    # Flat하게 만드는 대신 RNN모형을 사용\n",
    "    SimpleRNN(32),\n",
    "    Dense(32, activation  = 'relu'),\n",
    "    Dense(1,activation = 'sigmoid')\n",
    "])\n",
    "model.summary()"
   ]
  },
  {
   "cell_type": "code",
   "execution_count": 76,
   "id": "9bce639f",
   "metadata": {},
   "outputs": [
    {
     "data": {
      "image/png": "[encoded data removed]",
      "text/plain": [
       "<Figure size 640x480 with 1 Axes>"
      ]
     },
     "metadata": {},
     "output_type": "display_data"
    }
   ],
   "source": [
    "adam = Adam(learning_rate=1e-4)\n",
    "model.compile(optimizer=adam, loss='binary_crossentropy', metrics=['acc'])\n",
    "history = model.fit(X_train, y_train,\n",
    "                    epochs=10,\n",
    "                    verbose=0,\n",
    "                    validation_split=0.2)\n",
    "\n",
    "plot_results(history, 'acc')"
   ]
  },
  {
   "cell_type": "code",
   "execution_count": 77,
   "id": "dca56755",
   "metadata": {},
   "outputs": [
    {
     "name": "stdout",
     "output_type": "stream",
     "text": [
      "13/13 [==============================] - 0s 9ms/step - loss: 0.6165 - acc: 0.6625\n"
     ]
    },
    {
     "data": {
      "text/plain": [
       "[0.6164679527282715, 0.6625000238418579]"
      ]
     },
     "execution_count": 77,
     "metadata": {},
     "output_type": "execute_result"
    }
   ],
   "source": [
    "model.evaluate(X_test,y_test)"
   ]
  },
  {
   "cell_type": "code",
   "execution_count": null,
   "id": "ab8fd084",
   "metadata": {},
   "outputs": [],
   "source": []
  }
 ],
 "metadata": {
  "kernelspec": {
   "display_name": "sj_virtual",
   "language": "python",
   "name": "myvenv"
  },
  "language_info": {
   "codemirror_mode": {
    "name": "ipython",
    "version": 3
   },
   "file_extension": ".py",
   "mimetype": "text/x-python",
   "name": "python",
   "nbconvert_exporter": "python",
   "pygments_lexer": "ipython3",
   "version": "3.8.10"
  },
  "varInspector": {
   "cols": {
    "lenName": 16,
    "lenType": 16,
    "lenVar": 40
   },
   "kernels_config": {
    "python": {
     "delete_cmd_postfix": "",
     "delete_cmd_prefix": "del ",
     "library": "var_list.py",
     "varRefreshCmd": "print(var_dic_list())"
    },
    "r": {
     "delete_cmd_postfix": ") ",
     "delete_cmd_prefix": "rm(",
     "library": "var_list.r",
     "varRefreshCmd": "cat(var_dic_list()) "
    }
   },
   "types_to_exclude": [
    "module",
    "function",
    "builtin_function_or_method",
    "instance",
    "_Feature"
   ],
   "window_display": false
  }
 },
 "nbformat": 4,
 "nbformat_minor": 5
}
